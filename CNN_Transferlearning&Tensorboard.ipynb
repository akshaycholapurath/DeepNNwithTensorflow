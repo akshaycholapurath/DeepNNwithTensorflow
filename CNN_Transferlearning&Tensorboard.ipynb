{
  "nbformat": 4,
  "nbformat_minor": 0,
  "metadata": {
    "colab": {
      "name": "CNN-Transferlearning.ipynb",
      "provenance": []
    },
    "kernelspec": {
      "name": "python3",
      "display_name": "Python 3"
    },
    "language_info": {
      "name": "python"
    },
    "accelerator": "GPU"
  },
  "cells": [
    {
      "cell_type": "code",
      "metadata": {
        "id": "gIN8gr53P0Iz"
      },
      "source": [
        "import tensorflow as tf\n",
        "import pandas as pd\n",
        "import numpy as np\n",
        "import matplotlib.pyplot as plt"
      ],
      "execution_count": 1,
      "outputs": []
    },
    {
      "cell_type": "code",
      "metadata": {
        "colab": {
          "base_uri": "https://localhost:8080/"
        },
        "id": "VSeQD3BrQLT-",
        "outputId": "475c2937-df93-403c-dbc8-6fde63f93f55"
      },
      "source": [
        "import zipfile\n",
        "\n",
        "!wget \"https://storage.googleapis.com/ztm_tf_course/food_vision/10_food_classes_10_percent.zip\"\n"
      ],
      "execution_count": 2,
      "outputs": [
        {
          "output_type": "stream",
          "text": [
            "--2021-05-19 07:14:57--  https://storage.googleapis.com/ztm_tf_course/food_vision/10_food_classes_10_percent.zip\n",
            "Resolving storage.googleapis.com (storage.googleapis.com)... 142.251.33.208, 172.217.7.240, 172.217.8.16, ...\n",
            "Connecting to storage.googleapis.com (storage.googleapis.com)|142.251.33.208|:443... connected.\n",
            "HTTP request sent, awaiting response... 200 OK\n",
            "Length: 168546183 (161M) [application/zip]\n",
            "Saving to: ‘10_food_classes_10_percent.zip’\n",
            "\n",
            "10_food_classes_10_ 100%[===================>] 160.74M   135MB/s    in 1.2s    \n",
            "\n",
            "2021-05-19 07:14:59 (135 MB/s) - ‘10_food_classes_10_percent.zip’ saved [168546183/168546183]\n",
            "\n"
          ],
          "name": "stdout"
        }
      ]
    },
    {
      "cell_type": "code",
      "metadata": {
        "id": "A3TnbQL7Qgwz"
      },
      "source": [
        "zip = zipfile.ZipFile(\"/content/10_food_classes_10_percent.zip\")\n",
        "zip.extractall()\n",
        "zip.close()"
      ],
      "execution_count": 3,
      "outputs": []
    },
    {
      "cell_type": "code",
      "metadata": {
        "colab": {
          "base_uri": "https://localhost:8080/"
        },
        "id": "hZgiyD90Q3iS",
        "outputId": "f9c42328-17de-4f34-e520-b6dc9054c8c1"
      },
      "source": [
        "import os\n",
        "\n",
        "for dirpath,dirnames,filenames in os.walk(\"/content/10_food_classes_10_percent\"):\n",
        "  print(f\"There are {len(dirnames)} directories and {len(filenames)} images in {dirpath}\")"
      ],
      "execution_count": 4,
      "outputs": [
        {
          "output_type": "stream",
          "text": [
            "There are 2 directories and 0 images in /content/10_food_classes_10_percent\n",
            "There are 10 directories and 0 images in /content/10_food_classes_10_percent/test\n",
            "There are 0 directories and 250 images in /content/10_food_classes_10_percent/test/grilled_salmon\n",
            "There are 0 directories and 250 images in /content/10_food_classes_10_percent/test/fried_rice\n",
            "There are 0 directories and 250 images in /content/10_food_classes_10_percent/test/chicken_wings\n",
            "There are 0 directories and 250 images in /content/10_food_classes_10_percent/test/ramen\n",
            "There are 0 directories and 250 images in /content/10_food_classes_10_percent/test/hamburger\n",
            "There are 0 directories and 250 images in /content/10_food_classes_10_percent/test/pizza\n",
            "There are 0 directories and 250 images in /content/10_food_classes_10_percent/test/ice_cream\n",
            "There are 0 directories and 250 images in /content/10_food_classes_10_percent/test/steak\n",
            "There are 0 directories and 250 images in /content/10_food_classes_10_percent/test/sushi\n",
            "There are 0 directories and 250 images in /content/10_food_classes_10_percent/test/chicken_curry\n",
            "There are 10 directories and 0 images in /content/10_food_classes_10_percent/train\n",
            "There are 0 directories and 75 images in /content/10_food_classes_10_percent/train/grilled_salmon\n",
            "There are 0 directories and 75 images in /content/10_food_classes_10_percent/train/fried_rice\n",
            "There are 0 directories and 75 images in /content/10_food_classes_10_percent/train/chicken_wings\n",
            "There are 0 directories and 75 images in /content/10_food_classes_10_percent/train/ramen\n",
            "There are 0 directories and 75 images in /content/10_food_classes_10_percent/train/hamburger\n",
            "There are 0 directories and 75 images in /content/10_food_classes_10_percent/train/pizza\n",
            "There are 0 directories and 75 images in /content/10_food_classes_10_percent/train/ice_cream\n",
            "There are 0 directories and 75 images in /content/10_food_classes_10_percent/train/steak\n",
            "There are 0 directories and 75 images in /content/10_food_classes_10_percent/train/sushi\n",
            "There are 0 directories and 75 images in /content/10_food_classes_10_percent/train/chicken_curry\n"
          ],
          "name": "stdout"
        }
      ]
    },
    {
      "cell_type": "code",
      "metadata": {
        "colab": {
          "base_uri": "https://localhost:8080/"
        },
        "id": "NlJPGqdbRdLI",
        "outputId": "8016b08c-3c75-4a48-e1b3-619e3af74ce3"
      },
      "source": [
        "#Preparing the data\n",
        "from tensorflow.keras.preprocessing.image import ImageDataGenerator\n",
        "\n",
        "IMAGE_SHAPE= (224,224)\n",
        "BATCH_SIZE = 32\n",
        "\n",
        "train_dir = \"/content/10_food_classes_10_percent/train\" \n",
        "test_dir = \"/content/10_food_classes_10_percent/test\"\n",
        "\n",
        "train_gen = ImageDataGenerator(rescale=1/255.)\n",
        "test_gen = ImageDataGenerator(rescale=1/255.)\n",
        "\n",
        "traindata = train_gen.flow_from_directory(train_dir,\n",
        "                                          batch_size = BATCH_SIZE,\n",
        "                                          target_size =IMAGE_SHAPE,\n",
        "                                          class_mode = 'categorical')\n",
        "\n",
        "testdata = test_gen.flow_from_directory(test_dir,\n",
        "                                          batch_size = BATCH_SIZE,\n",
        "                                          target_size =IMAGE_SHAPE,\n",
        "                                          class_mode = 'categorical')\n"
      ],
      "execution_count": 5,
      "outputs": [
        {
          "output_type": "stream",
          "text": [
            "Found 750 images belonging to 10 classes.\n",
            "Found 2500 images belonging to 10 classes.\n"
          ],
          "name": "stdout"
        }
      ]
    },
    {
      "cell_type": "code",
      "metadata": {
        "id": "fNVYLQWdRdYg"
      },
      "source": [
        "#Settingup callbacks\n",
        "import datetime\n",
        "\n",
        "def create_tensorboard_callback(dirname,experiment_name):\n",
        "  log_dir = dirname + \"/\" + experiment_name + datetime.datetime.now().strftime(\"%Y%m%d-%H%M%S\")\n",
        "  tensorboard_callback = tf.keras.callbacks.TensorBoard(log_dir=log_dir)\n",
        "  print(\"Saving Tensorboard logfiles\")\n",
        "  return tensorboard_callback\n",
        "\n",
        "\n"
      ],
      "execution_count": 6,
      "outputs": []
    },
    {
      "cell_type": "code",
      "metadata": {
        "id": "UhhDygjCRdfO"
      },
      "source": [
        "#Building transferlearning model\n",
        "\n",
        "import tensorflow_hub as hub\n",
        "\n",
        "model_eff = tf.keras.Sequential([\n",
        "        hub.KerasLayer(\"https://tfhub.dev/tensorflow/efficientnet/b0/feature-vector/1\",\n",
        "                   trainable=False,input_shape = IMAGE_SHAPE+(3,)),\n",
        "        tf.keras.layers.Dense(10, activation='softmax')                     \n",
        "])\n",
        "\n",
        "model_res = tf.keras.Sequential([\n",
        "        hub.KerasLayer(\"https://tfhub.dev/google/imagenet/resnet_v2_50/feature_vector/5\",\n",
        "                   trainable=False,input_shape = IMAGE_SHAPE+(3,)),\n",
        "        tf.keras.layers.Dense(10, activation='softmax')                     \n",
        "])"
      ],
      "execution_count": 7,
      "outputs": []
    },
    {
      "cell_type": "code",
      "metadata": {
        "colab": {
          "base_uri": "https://localhost:8080/"
        },
        "id": "CZkN6exzb5cN",
        "outputId": "e0080b6d-0d09-41cd-9729-ba616b6edff5"
      },
      "source": [
        "model_eff.summary()"
      ],
      "execution_count": 8,
      "outputs": [
        {
          "output_type": "stream",
          "text": [
            "Model: \"sequential\"\n",
            "_________________________________________________________________\n",
            "Layer (type)                 Output Shape              Param #   \n",
            "=================================================================\n",
            "keras_layer (KerasLayer)     (None, 1280)              4049564   \n",
            "_________________________________________________________________\n",
            "dense (Dense)                (None, 10)                12810     \n",
            "=================================================================\n",
            "Total params: 4,062,374\n",
            "Trainable params: 12,810\n",
            "Non-trainable params: 4,049,564\n",
            "_________________________________________________________________\n"
          ],
          "name": "stdout"
        }
      ]
    },
    {
      "cell_type": "code",
      "metadata": {
        "id": "PXpzHxwJVfHj"
      },
      "source": [
        "model_eff.compile(loss='categorical_crossentropy',\n",
        "                  optimizer = 'adam',\n",
        "                  metrics = ['accuracy'])"
      ],
      "execution_count": 9,
      "outputs": []
    },
    {
      "cell_type": "code",
      "metadata": {
        "id": "HxbTEQgbVfKo"
      },
      "source": [
        "model_res.compile(loss='categorical_crossentropy',\n",
        "                  optimizer = 'adam',\n",
        "                  metrics = ['accuracy'])"
      ],
      "execution_count": 10,
      "outputs": []
    },
    {
      "cell_type": "code",
      "metadata": {
        "colab": {
          "base_uri": "https://localhost:8080/"
        },
        "id": "FWlvH8UkVfOb",
        "outputId": "2c9a36d5-8b4d-4b00-857b-65b8b61acff4"
      },
      "source": [
        "history_eff = model_eff.fit(traindata,\n",
        "                          epochs=5,\n",
        "                          steps_per_epoch = len(traindata),\n",
        "                          validation_data=testdata,\n",
        "                          validation_steps = len(testdata),\n",
        "                          callbacks=[create_tensorboard_callback(dirname='tensorflow_hub',experiment_name='effnet')])"
      ],
      "execution_count": 11,
      "outputs": [
        {
          "output_type": "stream",
          "text": [
            "Saving Tensorboard logfiles\n",
            "Epoch 1/5\n",
            "24/24 [==============================] - 57s 788ms/step - loss: 2.1537 - accuracy: 0.2217 - val_loss: 1.3370 - val_accuracy: 0.7232\n",
            "Epoch 2/5\n",
            "24/24 [==============================] - 15s 625ms/step - loss: 1.1410 - accuracy: 0.7713 - val_loss: 0.8748 - val_accuracy: 0.8100\n",
            "Epoch 3/5\n",
            "24/24 [==============================] - 14s 620ms/step - loss: 0.8186 - accuracy: 0.8393 - val_loss: 0.7026 - val_accuracy: 0.8416\n",
            "Epoch 4/5\n",
            "24/24 [==============================] - 14s 622ms/step - loss: 0.6378 - accuracy: 0.8604 - val_loss: 0.6171 - val_accuracy: 0.8500\n",
            "Epoch 5/5\n",
            "24/24 [==============================] - 14s 622ms/step - loss: 0.5039 - accuracy: 0.8982 - val_loss: 0.5659 - val_accuracy: 0.8568\n"
          ],
          "name": "stdout"
        }
      ]
    },
    {
      "cell_type": "code",
      "metadata": {
        "colab": {
          "base_uri": "https://localhost:8080/",
          "height": 282
        },
        "id": "aOu_0gltfP4i",
        "outputId": "807d3243-5a31-46f6-f6db-81a43ec05981"
      },
      "source": [
        "pd.DataFrame(history_eff.history).plot()"
      ],
      "execution_count": 13,
      "outputs": [
        {
          "output_type": "execute_result",
          "data": {
            "text/plain": [
              "<matplotlib.axes._subplots.AxesSubplot at 0x7fecd64adb10>"
            ]
          },
          "metadata": {
            "tags": []
          },
          "execution_count": 13
        },
        {
          "output_type": "display_data",
          "data": {
            "image/png": "[encoded data removed]",
            "text/plain": [
              "<Figure size 432x288 with 1 Axes>"
            ]
          },
          "metadata": {
            "tags": [],
            "needs_background": "light"
          }
        }
      ]
    },
    {
      "cell_type": "code",
      "metadata": {
        "id": "2oSI1SuqVfVL",
        "colab": {
          "base_uri": "https://localhost:8080/"
        },
        "outputId": "bbc5a89b-e760-4ea4-ad9a-da4ef1be9a0a"
      },
      "source": [
        "history_res = model_res.fit(traindata,\n",
        "                          epochs=5,\n",
        "                          steps_per_epoch = len(traindata),\n",
        "                          validation_data=testdata,\n",
        "                          validation_steps = len(testdata),\n",
        "                          callbacks=[create_tensorboard_callback(dirname='tensorflow_hub',experiment_name='resnet')])"
      ],
      "execution_count": 14,
      "outputs": [
        {
          "output_type": "stream",
          "text": [
            "Saving Tensorboard logfiles\n",
            "Epoch 1/5\n",
            "24/24 [==============================] - 22s 789ms/step - loss: 2.5547 - accuracy: 0.1555 - val_loss: 1.2700 - val_accuracy: 0.5932\n",
            "Epoch 2/5\n",
            "24/24 [==============================] - 15s 665ms/step - loss: 1.0394 - accuracy: 0.6812 - val_loss: 0.8693 - val_accuracy: 0.7268\n",
            "Epoch 3/5\n",
            "24/24 [==============================] - 15s 664ms/step - loss: 0.6846 - accuracy: 0.8082 - val_loss: 0.7526 - val_accuracy: 0.7660\n",
            "Epoch 4/5\n",
            "24/24 [==============================] - 15s 663ms/step - loss: 0.5033 - accuracy: 0.8663 - val_loss: 0.7001 - val_accuracy: 0.7796\n",
            "Epoch 5/5\n",
            "24/24 [==============================] - 16s 665ms/step - loss: 0.4119 - accuracy: 0.9120 - val_loss: 0.6844 - val_accuracy: 0.7800\n"
          ],
          "name": "stdout"
        }
      ]
    },
    {
      "cell_type": "code",
      "metadata": {
        "colab": {
          "base_uri": "https://localhost:8080/",
          "height": 282
        },
        "id": "xC53XJlXf356",
        "outputId": "c3b6279b-7644-4a07-994e-a1cfad84b84c"
      },
      "source": [
        "pd.DataFrame(history_res.history).plot()"
      ],
      "execution_count": 15,
      "outputs": [
        {
          "output_type": "execute_result",
          "data": {
            "text/plain": [
              "<matplotlib.axes._subplots.AxesSubplot at 0x7fece1218d50>"
            ]
          },
          "metadata": {
            "tags": []
          },
          "execution_count": 15
        },
        {
          "output_type": "display_data",
          "data": {
            "image/png": "[encoded data removed]",
            "text/plain": [
              "<Figure size 432x288 with 1 Axes>"
            ]
          },
          "metadata": {
            "tags": [],
            "needs_background": "light"
          }
        }
      ]
    },
    {
      "cell_type": "code",
      "metadata": {
        "colab": {
          "base_uri": "https://localhost:8080/"
        },
        "id": "43lyFDeZlYaO",
        "outputId": "6040663d-d809-4152-a21f-9254043cffcd"
      },
      "source": [
        "!tensorboard dev upload --logdir ./tensorflow_hub/ \\\n",
        "  --name \"EfficientNet vs Resnet\" \\\n",
        "  --one_shot"
      ],
      "execution_count": 17,
      "outputs": [
        {
          "output_type": "stream",
          "text": [
            "2021-05-19 07:45:54.151070: I tensorflow/stream_executor/platform/default/dso_loader.cc:49] Successfully opened dynamic library libcudart.so.11.0\n",
            "\n",
            "***** TensorBoard Uploader *****\n",
            "\n",
            "This will upload your TensorBoard logs to https://tensorboard.dev/ from\n",
            "the following directory:\n",
            "\n",
            "./tensorflow_hub/\n",
            "\n",
            "This TensorBoard will be visible to everyone. Do not upload sensitive\n",
            "data.\n",
            "\n",
            "Your use of this service is subject to Google's Terms of Service\n",
            "<https://policies.google.com/terms> and Privacy Policy\n",
            "<https://policies.google.com/privacy>, and TensorBoard.dev's Terms of Service\n",
            "<https://tensorboard.dev/policy/terms/>.\n",
            "\n",
            "This notice will not be shown again while you are logged into the uploader.\n",
            "To log out, run `tensorboard dev auth revoke`.\n",
            "\n",
            "Continue? (yes/NO) yes\n",
            "\n",
            "Please visit this URL to authorize this application: https://accounts.google.com/o/oauth2/auth?response_type=code&client_id=373649185512-8v619h5kft38l4456nm2dj4ubeqsrvh6.apps.googleusercontent.com&redirect_uri=urn%3Aietf%3Awg%3Aoauth%3A2.0%3Aoob&scope=openid+https%3A%2F%2Fwww.googleapis.com%2Fauth%2Fuserinfo.email&state=4xBMdvk5NHYbD2AaGdNxjV2Phtjv88&prompt=consent&access_type=offline\n",
            "Enter the authorization code: 4/1AY0e-g4VXtW4BZ0sGOSHT47hrQfOScNXhROQ28wGLla_ELIYgMIZdLOjhe0\n",
            "\n",
            "Data for the \"text\" plugin is now uploaded to TensorBoard.dev! Note that uploaded data is public. If you do not want to upload data for this plugin, use the \"--plugins\" command line argument.\n",
            "\n",
            "New experiment created. View your TensorBoard at: https://tensorboard.dev/experiment/7oyk4Yg4ROyf8p6ej7vObg/\n",
            "\n",
            "\u001b[1m[2021-05-19T07:46:38]\u001b[0m Started scanning logdir.\n",
            "\u001b[1m[2021-05-19T07:46:40]\u001b[0m Total uploaded: 40 scalars, 0 tensors, 2 binary objects (5.6 MB)\n",
            "\u001b[1m[2021-05-19T07:46:40]\u001b[0m Done scanning logdir.\n",
            "\n",
            "\n",
            "Done. View your TensorBoard at https://tensorboard.dev/experiment/7oyk4Yg4ROyf8p6ej7vObg/\n"
          ],
          "name": "stdout"
        }
      ]
    },
    {
      "cell_type": "code",
      "metadata": {
        "colab": {
          "base_uri": "https://localhost:8080/"
        },
        "id": "IMvti6njm7Wn",
        "outputId": "7e9f3224-98d3-4ddf-93e3-a7fd247955fe"
      },
      "source": [
        "!tensorboard dev list"
      ],
      "execution_count": 18,
      "outputs": [
        {
          "output_type": "stream",
          "text": [
            "2021-05-19 07:51:42.573216: I tensorflow/stream_executor/platform/default/dso_loader.cc:49] Successfully opened dynamic library libcudart.so.11.0\n",
            "Data for the \"text\" plugin is now uploaded to TensorBoard.dev! Note that uploaded data is public. If you do not want to upload data for this plugin, use the \"--plugins\" command line argument.\n",
            "https://tensorboard.dev/experiment/7oyk4Yg4ROyf8p6ej7vObg/\n",
            "\tName                 [No Name]\n",
            "\tDescription          [No Description]\n",
            "\tId                   7oyk4Yg4ROyf8p6ej7vObg\n",
            "\tCreated              2021-05-19 07:46:38 (5 minutes ago)\n",
            "\tUpdated              2021-05-19 07:46:40 (5 minutes ago)\n",
            "\tRuns                 4\n",
            "\tTags                 3\n",
            "\tScalars              40\n",
            "\tTensor bytes         0\n",
            "\tBinary object bytes  5858571\n",
            "Total: 1 experiment(s)\n"
          ],
          "name": "stdout"
        }
      ]
    },
    {
      "cell_type": "code",
      "metadata": {
        "id": "ZVFS2_P2nABB"
      },
      "source": [
        ""
      ],
      "execution_count": null,
      "outputs": []
    }
  ]
}