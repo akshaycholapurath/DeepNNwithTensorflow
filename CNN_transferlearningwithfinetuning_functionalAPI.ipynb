{
  "nbformat": 4,
  "nbformat_minor": 0,
  "metadata": {
    "colab": {
      "name": "CNN-transferlearningwithfinetuning-functionalAPI.ipynb",
      "provenance": []
    },
    "kernelspec": {
      "name": "python3",
      "display_name": "Python 3"
    },
    "language_info": {
      "name": "python"
    },
    "accelerator": "GPU"
  },
  "cells": [
    {
      "cell_type": "code",
      "metadata": {
        "id": "bdVsgIVyGLPp"
      },
      "source": [
        "import tensorflow as tf\n",
        "import pandas as pd\n",
        "import numpy as np\n",
        "import matplotlib.pyplot as plt"
      ],
      "execution_count": 28,
      "outputs": []
    },
    {
      "cell_type": "markdown",
      "metadata": {
        "id": "iJbKKoxpZv4w"
      },
      "source": [
        "# Model_0\n"
      ]
    },
    {
      "cell_type": "markdown",
      "metadata": {
        "id": "o3UWj5jAZ7Ul"
      },
      "source": [
        "10% of training data and transfer learning models"
      ]
    },
    {
      "cell_type": "code",
      "metadata": {
        "colab": {
          "base_uri": "https://localhost:8080/"
        },
        "id": "fIG1DHMFIziR",
        "outputId": "9c295d8d-d767-442a-d4b0-9e7c572c0067"
      },
      "source": [
        "#Importing the helper function\n",
        "! wget \"https://raw.githubusercontent.com/mrdbourke/tensorflow-deep-learning/main/extras/helper_functions.py\""
      ],
      "execution_count": 29,
      "outputs": [
        {
          "output_type": "stream",
          "text": [
            "--2021-05-19 14:29:03--  https://raw.githubusercontent.com/mrdbourke/tensorflow-deep-learning/main/extras/helper_functions.py\n",
            "Resolving raw.githubusercontent.com (raw.githubusercontent.com)... 185.199.108.133, 185.199.109.133, 185.199.110.133, ...\n",
            "Connecting to raw.githubusercontent.com (raw.githubusercontent.com)|185.199.108.133|:443... connected.\n",
            "HTTP request sent, awaiting response... 200 OK\n",
            "Length: 10246 (10K) [text/plain]\n",
            "Saving to: ‘helper_functions.py.1’\n",
            "\n",
            "\rhelper_functions.py   0%[                    ]       0  --.-KB/s               \rhelper_functions.py 100%[===================>]  10.01K  --.-KB/s    in 0s      \n",
            "\n",
            "2021-05-19 14:29:03 (88.3 MB/s) - ‘helper_functions.py.1’ saved [10246/10246]\n",
            "\n"
          ],
          "name": "stdout"
        }
      ]
    },
    {
      "cell_type": "code",
      "metadata": {
        "id": "YMpyf1V2I3XW"
      },
      "source": [
        "from helper_functions import unzip_data,walk_through_dir, create_tensorboard_callback\n"
      ],
      "execution_count": 30,
      "outputs": []
    },
    {
      "cell_type": "code",
      "metadata": {
        "colab": {
          "base_uri": "https://localhost:8080/"
        },
        "id": "T-xgyLqTI36a",
        "outputId": "62fab938-3280-4fba-f238-ac2ecebdffd2"
      },
      "source": [
        "!wget \"https://storage.googleapis.com/ztm_tf_course/food_vision/10_food_classes_10_percent.zip\""
      ],
      "execution_count": 31,
      "outputs": [
        {
          "output_type": "stream",
          "text": [
            "--2021-05-19 14:29:03--  https://storage.googleapis.com/ztm_tf_course/food_vision/10_food_classes_10_percent.zip\n",
            "Resolving storage.googleapis.com (storage.googleapis.com)... 142.250.31.128, 172.217.164.144, 142.250.73.240, ...\n",
            "Connecting to storage.googleapis.com (storage.googleapis.com)|142.250.31.128|:443... connected.\n",
            "HTTP request sent, awaiting response... 200 OK\n",
            "Length: 168546183 (161M) [application/zip]\n",
            "Saving to: ‘10_food_classes_10_percent.zip.1’\n",
            "\n",
            "10_food_classes_10_ 100%[===================>] 160.74M   244MB/s    in 0.7s    \n",
            "\n",
            "2021-05-19 14:29:04 (244 MB/s) - ‘10_food_classes_10_percent.zip.1’ saved [168546183/168546183]\n",
            "\n"
          ],
          "name": "stdout"
        }
      ]
    },
    {
      "cell_type": "code",
      "metadata": {
        "id": "tGXMmrOZLHNa"
      },
      "source": [
        "unzip_data(\"/content/10_food_classes_10_percent.zip\")"
      ],
      "execution_count": 32,
      "outputs": []
    },
    {
      "cell_type": "code",
      "metadata": {
        "colab": {
          "base_uri": "https://localhost:8080/"
        },
        "id": "aplC2yidLHSG",
        "outputId": "a8a1baa6-5448-4c44-c40c-6e0ee716b851"
      },
      "source": [
        "walk_through_dir(\"/content/10_food_classes_10_percent\")"
      ],
      "execution_count": 33,
      "outputs": [
        {
          "output_type": "stream",
          "text": [
            "There are 2 directories and 0 images in '/content/10_food_classes_10_percent'.\n",
            "There are 10 directories and 0 images in '/content/10_food_classes_10_percent/test'.\n",
            "There are 0 directories and 250 images in '/content/10_food_classes_10_percent/test/grilled_salmon'.\n",
            "There are 0 directories and 250 images in '/content/10_food_classes_10_percent/test/fried_rice'.\n",
            "There are 0 directories and 250 images in '/content/10_food_classes_10_percent/test/chicken_wings'.\n",
            "There are 0 directories and 250 images in '/content/10_food_classes_10_percent/test/ramen'.\n",
            "There are 0 directories and 250 images in '/content/10_food_classes_10_percent/test/hamburger'.\n",
            "There are 0 directories and 250 images in '/content/10_food_classes_10_percent/test/pizza'.\n",
            "There are 0 directories and 250 images in '/content/10_food_classes_10_percent/test/ice_cream'.\n",
            "There are 0 directories and 250 images in '/content/10_food_classes_10_percent/test/steak'.\n",
            "There are 0 directories and 250 images in '/content/10_food_classes_10_percent/test/sushi'.\n",
            "There are 0 directories and 250 images in '/content/10_food_classes_10_percent/test/chicken_curry'.\n",
            "There are 10 directories and 0 images in '/content/10_food_classes_10_percent/train'.\n",
            "There are 0 directories and 75 images in '/content/10_food_classes_10_percent/train/grilled_salmon'.\n",
            "There are 0 directories and 75 images in '/content/10_food_classes_10_percent/train/fried_rice'.\n",
            "There are 0 directories and 75 images in '/content/10_food_classes_10_percent/train/chicken_wings'.\n",
            "There are 0 directories and 75 images in '/content/10_food_classes_10_percent/train/ramen'.\n",
            "There are 0 directories and 75 images in '/content/10_food_classes_10_percent/train/hamburger'.\n",
            "There are 0 directories and 75 images in '/content/10_food_classes_10_percent/train/pizza'.\n",
            "There are 0 directories and 75 images in '/content/10_food_classes_10_percent/train/ice_cream'.\n",
            "There are 0 directories and 75 images in '/content/10_food_classes_10_percent/train/steak'.\n",
            "There are 0 directories and 75 images in '/content/10_food_classes_10_percent/train/sushi'.\n",
            "There are 0 directories and 75 images in '/content/10_food_classes_10_percent/train/chicken_curry'.\n"
          ],
          "name": "stdout"
        }
      ]
    },
    {
      "cell_type": "code",
      "metadata": {
        "colab": {
          "base_uri": "https://localhost:8080/"
        },
        "id": "tAMP_7LKLHXl",
        "outputId": "7305d54a-faf0-4fd1-ba47-a2185f0da559"
      },
      "source": [
        "#Prepare data\n",
        "import tensorflow as tf\n",
        "\n",
        "IMAGE_SHAPE= (224,224)\n",
        "BATCH_SIZE = 32\n",
        "\n",
        "train_dir = \"/content/10_food_classes_10_percent/train\"\n",
        "test_dir = \"/content/10_food_classes_10_percent/test\"\n",
        "\n",
        "\n",
        "traindata = tf.keras.preprocessing.image_dataset_from_directory(directory=train_dir,\n",
        "                                                image_size=IMAGE_SHAPE,\n",
        "                                                label_mode = 'categorical',\n",
        "                                                batch_size = BATCH_SIZE)\n",
        "\n",
        "testdata = tf.keras.preprocessing.image_dataset_from_directory(directory=test_dir,\n",
        "                                                image_size=IMAGE_SHAPE,\n",
        "                                                label_mode = 'categorical',\n",
        "                                                batch_size = BATCH_SIZE)\n"
      ],
      "execution_count": 34,
      "outputs": [
        {
          "output_type": "stream",
          "text": [
            "Found 750 files belonging to 10 classes.\n",
            "Found 2500 files belonging to 10 classes.\n"
          ],
          "name": "stdout"
        }
      ]
    },
    {
      "cell_type": "code",
      "metadata": {
        "id": "-OkrCfCiLHno"
      },
      "source": [
        "#Create models with Functional API\n",
        "import tensorflow as tf\n",
        "\n",
        "base_model = tf.keras.applications.EfficientNetB0(include_top=False)\n",
        "base_model.trainable = False\n",
        "\n",
        "inputs = tf.keras.layers.Input(shape=(224,224,3),name='input_layer')\n",
        "#x = tf.keras.layers.experimental.preprocessing.Rescaling(1/255.)(inputs)\n",
        "x = base_model(inputs)\n",
        "x = tf.keras.layers.GlobalAveragePooling2D(name='global_avg_pooling')(x)\n",
        "outputs = tf.keras.layers.Dense(10,activation=\"softmax\")(x)\n",
        "\n",
        "model_0 = tf.keras.Model(inputs,outputs)\n"
      ],
      "execution_count": 35,
      "outputs": []
    },
    {
      "cell_type": "code",
      "metadata": {
        "id": "gIyxY1bgOlpk"
      },
      "source": [
        "model_0.compile(optimizer=tf.keras.optimizers.Adam(),\n",
        "                loss='categorical_crossentropy',\n",
        "                metrics = ['accuracy'])"
      ],
      "execution_count": 36,
      "outputs": []
    },
    {
      "cell_type": "code",
      "metadata": {
        "colab": {
          "base_uri": "https://localhost:8080/"
        },
        "id": "Km4GVcROOlzP",
        "outputId": "04ba6bc3-ca9e-4332-eaae-87143994cfb8"
      },
      "source": [
        "model_0.summary()"
      ],
      "execution_count": 37,
      "outputs": [
        {
          "output_type": "stream",
          "text": [
            "Model: \"model_3\"\n",
            "_________________________________________________________________\n",
            "Layer (type)                 Output Shape              Param #   \n",
            "=================================================================\n",
            "input_layer (InputLayer)     [(None, 224, 224, 3)]     0         \n",
            "_________________________________________________________________\n",
            "efficientnetb0 (Functional)  (None, None, None, 1280)  4049571   \n",
            "_________________________________________________________________\n",
            "global_avg_pooling (GlobalAv (None, 1280)              0         \n",
            "_________________________________________________________________\n",
            "dense_3 (Dense)              (None, 10)                12810     \n",
            "=================================================================\n",
            "Total params: 4,062,381\n",
            "Trainable params: 12,810\n",
            "Non-trainable params: 4,049,571\n",
            "_________________________________________________________________\n"
          ],
          "name": "stdout"
        }
      ]
    },
    {
      "cell_type": "code",
      "metadata": {
        "colab": {
          "base_uri": "https://localhost:8080/"
        },
        "id": "oKz8x4hsTdqj",
        "outputId": "e7976480-5039-48a8-fefe-ac1f3b04e981"
      },
      "source": [
        "history_0  = model_0.fit(traindata,epochs=5,\n",
        "                         steps_per_epoch = len(traindata),\n",
        "                         validation_data = testdata,\n",
        "                         validation_steps = len(testdata),\n",
        "                         callbacks=[create_tensorboard_callback('transfer_learning','model_0')])"
      ],
      "execution_count": 38,
      "outputs": [
        {
          "output_type": "stream",
          "text": [
            "Saving TensorBoard log files to: transfer_learning/model_0/20210519-142908\n",
            "Epoch 1/5\n",
            "24/24 [==============================] - 19s 622ms/step - loss: 2.1777 - accuracy: 0.2275 - val_loss: 1.3825 - val_accuracy: 0.6836\n",
            "Epoch 2/5\n",
            "24/24 [==============================] - 13s 527ms/step - loss: 1.2918 - accuracy: 0.6935 - val_loss: 0.9412 - val_accuracy: 0.7932\n",
            "Epoch 3/5\n",
            "24/24 [==============================] - 13s 527ms/step - loss: 0.8868 - accuracy: 0.7884 - val_loss: 0.7609 - val_accuracy: 0.8288\n",
            "Epoch 4/5\n",
            "24/24 [==============================] - 13s 529ms/step - loss: 0.7223 - accuracy: 0.8285 - val_loss: 0.6673 - val_accuracy: 0.8384\n",
            "Epoch 5/5\n",
            "24/24 [==============================] - 13s 525ms/step - loss: 0.6110 - accuracy: 0.8645 - val_loss: 0.6114 - val_accuracy: 0.8452\n"
          ],
          "name": "stdout"
        }
      ]
    },
    {
      "cell_type": "code",
      "metadata": {
        "colab": {
          "base_uri": "https://localhost:8080/"
        },
        "id": "1lqq7z4yVFaT",
        "outputId": "b7a989e1-ddbe-43fd-db56-824ad27740a3"
      },
      "source": [
        "model_0.evaluate(testdata)"
      ],
      "execution_count": 39,
      "outputs": [
        {
          "output_type": "stream",
          "text": [
            "79/79 [==============================] - 10s 120ms/step - loss: 0.6114 - accuracy: 0.8452\n"
          ],
          "name": "stdout"
        },
        {
          "output_type": "execute_result",
          "data": {
            "text/plain": [
              "[0.6113557815551758, 0.8452000021934509]"
            ]
          },
          "metadata": {
            "tags": []
          },
          "execution_count": 39
        }
      ]
    },
    {
      "cell_type": "code",
      "metadata": {
        "colab": {
          "base_uri": "https://localhost:8080/"
        },
        "id": "zgATcmsLVp-_",
        "outputId": "223b4cba-58e4-45f3-e902-74f3f9605459"
      },
      "source": [
        "base_model.summary()"
      ],
      "execution_count": 40,
      "outputs": [
        {
          "output_type": "stream",
          "text": [
            "Model: \"efficientnetb0\"\n",
            "__________________________________________________________________________________________________\n",
            "Layer (type)                    Output Shape         Param #     Connected to                     \n",
            "==================================================================================================\n",
            "input_4 (InputLayer)            [(None, None, None,  0                                            \n",
            "__________________________________________________________________________________________________\n",
            "rescaling_3 (Rescaling)         (None, None, None, 3 0           input_4[0][0]                    \n",
            "__________________________________________________________________________________________________\n",
            "normalization_3 (Normalization) (None, None, None, 3 7           rescaling_3[0][0]                \n",
            "__________________________________________________________________________________________________\n",
            "stem_conv_pad (ZeroPadding2D)   (None, None, None, 3 0           normalization_3[0][0]            \n",
            "__________________________________________________________________________________________________\n",
            "stem_conv (Conv2D)              (None, None, None, 3 864         stem_conv_pad[0][0]              \n",
            "__________________________________________________________________________________________________\n",
            "stem_bn (BatchNormalization)    (None, None, None, 3 128         stem_conv[0][0]                  \n",
            "__________________________________________________________________________________________________\n",
            "stem_activation (Activation)    (None, None, None, 3 0           stem_bn[0][0]                    \n",
            "__________________________________________________________________________________________________\n",
            "block1a_dwconv (DepthwiseConv2D (None, None, None, 3 288         stem_activation[0][0]            \n",
            "__________________________________________________________________________________________________\n",
            "block1a_bn (BatchNormalization) (None, None, None, 3 128         block1a_dwconv[0][0]             \n",
            "__________________________________________________________________________________________________\n",
            "block1a_activation (Activation) (None, None, None, 3 0           block1a_bn[0][0]                 \n",
            "__________________________________________________________________________________________________\n",
            "block1a_se_squeeze (GlobalAvera (None, 32)           0           block1a_activation[0][0]         \n",
            "__________________________________________________________________________________________________\n",
            "block1a_se_reshape (Reshape)    (None, 1, 1, 32)     0           block1a_se_squeeze[0][0]         \n",
            "__________________________________________________________________________________________________\n",
            "block1a_se_reduce (Conv2D)      (None, 1, 1, 8)      264         block1a_se_reshape[0][0]         \n",
            "__________________________________________________________________________________________________\n",
            "block1a_se_expand (Conv2D)      (None, 1, 1, 32)     288         block1a_se_reduce[0][0]          \n",
            "__________________________________________________________________________________________________\n",
            "block1a_se_excite (Multiply)    (None, None, None, 3 0           block1a_activation[0][0]         \n",
            "                                                                 block1a_se_expand[0][0]          \n",
            "__________________________________________________________________________________________________\n",
            "block1a_project_conv (Conv2D)   (None, None, None, 1 512         block1a_se_excite[0][0]          \n",
            "__________________________________________________________________________________________________\n",
            "block1a_project_bn (BatchNormal (None, None, None, 1 64          block1a_project_conv[0][0]       \n",
            "__________________________________________________________________________________________________\n",
            "block2a_expand_conv (Conv2D)    (None, None, None, 9 1536        block1a_project_bn[0][0]         \n",
            "__________________________________________________________________________________________________\n",
            "block2a_expand_bn (BatchNormali (None, None, None, 9 384         block2a_expand_conv[0][0]        \n",
            "__________________________________________________________________________________________________\n",
            "block2a_expand_activation (Acti (None, None, None, 9 0           block2a_expand_bn[0][0]          \n",
            "__________________________________________________________________________________________________\n",
            "block2a_dwconv_pad (ZeroPadding (None, None, None, 9 0           block2a_expand_activation[0][0]  \n",
            "__________________________________________________________________________________________________\n",
            "block2a_dwconv (DepthwiseConv2D (None, None, None, 9 864         block2a_dwconv_pad[0][0]         \n",
            "__________________________________________________________________________________________________\n",
            "block2a_bn (BatchNormalization) (None, None, None, 9 384         block2a_dwconv[0][0]             \n",
            "__________________________________________________________________________________________________\n",
            "block2a_activation (Activation) (None, None, None, 9 0           block2a_bn[0][0]                 \n",
            "__________________________________________________________________________________________________\n",
            "block2a_se_squeeze (GlobalAvera (None, 96)           0           block2a_activation[0][0]         \n",
            "__________________________________________________________________________________________________\n",
            "block2a_se_reshape (Reshape)    (None, 1, 1, 96)     0           block2a_se_squeeze[0][0]         \n",
            "__________________________________________________________________________________________________\n",
            "block2a_se_reduce (Conv2D)      (None, 1, 1, 4)      388         block2a_se_reshape[0][0]         \n",
            "__________________________________________________________________________________________________\n",
            "block2a_se_expand (Conv2D)      (None, 1, 1, 96)     480         block2a_se_reduce[0][0]          \n",
            "__________________________________________________________________________________________________\n",
            "block2a_se_excite (Multiply)    (None, None, None, 9 0           block2a_activation[0][0]         \n",
            "                                                                 block2a_se_expand[0][0]          \n",
            "__________________________________________________________________________________________________\n",
            "block2a_project_conv (Conv2D)   (None, None, None, 2 2304        block2a_se_excite[0][0]          \n",
            "__________________________________________________________________________________________________\n",
            "block2a_project_bn (BatchNormal (None, None, None, 2 96          block2a_project_conv[0][0]       \n",
            "__________________________________________________________________________________________________\n",
            "block2b_expand_conv (Conv2D)    (None, None, None, 1 3456        block2a_project_bn[0][0]         \n",
            "__________________________________________________________________________________________________\n",
            "block2b_expand_bn (BatchNormali (None, None, None, 1 576         block2b_expand_conv[0][0]        \n",
            "__________________________________________________________________________________________________\n",
            "block2b_expand_activation (Acti (None, None, None, 1 0           block2b_expand_bn[0][0]          \n",
            "__________________________________________________________________________________________________\n",
            "block2b_dwconv (DepthwiseConv2D (None, None, None, 1 1296        block2b_expand_activation[0][0]  \n",
            "__________________________________________________________________________________________________\n",
            "block2b_bn (BatchNormalization) (None, None, None, 1 576         block2b_dwconv[0][0]             \n",
            "__________________________________________________________________________________________________\n",
            "block2b_activation (Activation) (None, None, None, 1 0           block2b_bn[0][0]                 \n",
            "__________________________________________________________________________________________________\n",
            "block2b_se_squeeze (GlobalAvera (None, 144)          0           block2b_activation[0][0]         \n",
            "__________________________________________________________________________________________________\n",
            "block2b_se_reshape (Reshape)    (None, 1, 1, 144)    0           block2b_se_squeeze[0][0]         \n",
            "__________________________________________________________________________________________________\n",
            "block2b_se_reduce (Conv2D)      (None, 1, 1, 6)      870         block2b_se_reshape[0][0]         \n",
            "__________________________________________________________________________________________________\n",
            "block2b_se_expand (Conv2D)      (None, 1, 1, 144)    1008        block2b_se_reduce[0][0]          \n",
            "__________________________________________________________________________________________________\n",
            "block2b_se_excite (Multiply)    (None, None, None, 1 0           block2b_activation[0][0]         \n",
            "                                                                 block2b_se_expand[0][0]          \n",
            "__________________________________________________________________________________________________\n",
            "block2b_project_conv (Conv2D)   (None, None, None, 2 3456        block2b_se_excite[0][0]          \n",
            "__________________________________________________________________________________________________\n",
            "block2b_project_bn (BatchNormal (None, None, None, 2 96          block2b_project_conv[0][0]       \n",
            "__________________________________________________________________________________________________\n",
            "block2b_drop (Dropout)          (None, None, None, 2 0           block2b_project_bn[0][0]         \n",
            "__________________________________________________________________________________________________\n",
            "block2b_add (Add)               (None, None, None, 2 0           block2b_drop[0][0]               \n",
            "                                                                 block2a_project_bn[0][0]         \n",
            "__________________________________________________________________________________________________\n",
            "block3a_expand_conv (Conv2D)    (None, None, None, 1 3456        block2b_add[0][0]                \n",
            "__________________________________________________________________________________________________\n",
            "block3a_expand_bn (BatchNormali (None, None, None, 1 576         block3a_expand_conv[0][0]        \n",
            "__________________________________________________________________________________________________\n",
            "block3a_expand_activation (Acti (None, None, None, 1 0           block3a_expand_bn[0][0]          \n",
            "__________________________________________________________________________________________________\n",
            "block3a_dwconv_pad (ZeroPadding (None, None, None, 1 0           block3a_expand_activation[0][0]  \n",
            "__________________________________________________________________________________________________\n",
            "block3a_dwconv (DepthwiseConv2D (None, None, None, 1 3600        block3a_dwconv_pad[0][0]         \n",
            "__________________________________________________________________________________________________\n",
            "block3a_bn (BatchNormalization) (None, None, None, 1 576         block3a_dwconv[0][0]             \n",
            "__________________________________________________________________________________________________\n",
            "block3a_activation (Activation) (None, None, None, 1 0           block3a_bn[0][0]                 \n",
            "__________________________________________________________________________________________________\n",
            "block3a_se_squeeze (GlobalAvera (None, 144)          0           block3a_activation[0][0]         \n",
            "__________________________________________________________________________________________________\n",
            "block3a_se_reshape (Reshape)    (None, 1, 1, 144)    0           block3a_se_squeeze[0][0]         \n",
            "__________________________________________________________________________________________________\n",
            "block3a_se_reduce (Conv2D)      (None, 1, 1, 6)      870         block3a_se_reshape[0][0]         \n",
            "__________________________________________________________________________________________________\n",
            "block3a_se_expand (Conv2D)      (None, 1, 1, 144)    1008        block3a_se_reduce[0][0]          \n",
            "__________________________________________________________________________________________________\n",
            "block3a_se_excite (Multiply)    (None, None, None, 1 0           block3a_activation[0][0]         \n",
            "                                                                 block3a_se_expand[0][0]          \n",
            "__________________________________________________________________________________________________\n",
            "block3a_project_conv (Conv2D)   (None, None, None, 4 5760        block3a_se_excite[0][0]          \n",
            "__________________________________________________________________________________________________\n",
            "block3a_project_bn (BatchNormal (None, None, None, 4 160         block3a_project_conv[0][0]       \n",
            "__________________________________________________________________________________________________\n",
            "block3b_expand_conv (Conv2D)    (None, None, None, 2 9600        block3a_project_bn[0][0]         \n",
            "__________________________________________________________________________________________________\n",
            "block3b_expand_bn (BatchNormali (None, None, None, 2 960         block3b_expand_conv[0][0]        \n",
            "__________________________________________________________________________________________________\n",
            "block3b_expand_activation (Acti (None, None, None, 2 0           block3b_expand_bn[0][0]          \n",
            "__________________________________________________________________________________________________\n",
            "block3b_dwconv (DepthwiseConv2D (None, None, None, 2 6000        block3b_expand_activation[0][0]  \n",
            "__________________________________________________________________________________________________\n",
            "block3b_bn (BatchNormalization) (None, None, None, 2 960         block3b_dwconv[0][0]             \n",
            "__________________________________________________________________________________________________\n",
            "block3b_activation (Activation) (None, None, None, 2 0           block3b_bn[0][0]                 \n",
            "__________________________________________________________________________________________________\n",
            "block3b_se_squeeze (GlobalAvera (None, 240)          0           block3b_activation[0][0]         \n",
            "__________________________________________________________________________________________________\n",
            "block3b_se_reshape (Reshape)    (None, 1, 1, 240)    0           block3b_se_squeeze[0][0]         \n",
            "__________________________________________________________________________________________________\n",
            "block3b_se_reduce (Conv2D)      (None, 1, 1, 10)     2410        block3b_se_reshape[0][0]         \n",
            "__________________________________________________________________________________________________\n",
            "block3b_se_expand (Conv2D)      (None, 1, 1, 240)    2640        block3b_se_reduce[0][0]          \n",
            "__________________________________________________________________________________________________\n",
            "block3b_se_excite (Multiply)    (None, None, None, 2 0           block3b_activation[0][0]         \n",
            "                                                                 block3b_se_expand[0][0]          \n",
            "__________________________________________________________________________________________________\n",
            "block3b_project_conv (Conv2D)   (None, None, None, 4 9600        block3b_se_excite[0][0]          \n",
            "__________________________________________________________________________________________________\n",
            "block3b_project_bn (BatchNormal (None, None, None, 4 160         block3b_project_conv[0][0]       \n",
            "__________________________________________________________________________________________________\n",
            "block3b_drop (Dropout)          (None, None, None, 4 0           block3b_project_bn[0][0]         \n",
            "__________________________________________________________________________________________________\n",
            "block3b_add (Add)               (None, None, None, 4 0           block3b_drop[0][0]               \n",
            "                                                                 block3a_project_bn[0][0]         \n",
            "__________________________________________________________________________________________________\n",
            "block4a_expand_conv (Conv2D)    (None, None, None, 2 9600        block3b_add[0][0]                \n",
            "__________________________________________________________________________________________________\n",
            "block4a_expand_bn (BatchNormali (None, None, None, 2 960         block4a_expand_conv[0][0]        \n",
            "__________________________________________________________________________________________________\n",
            "block4a_expand_activation (Acti (None, None, None, 2 0           block4a_expand_bn[0][0]          \n",
            "__________________________________________________________________________________________________\n",
            "block4a_dwconv_pad (ZeroPadding (None, None, None, 2 0           block4a_expand_activation[0][0]  \n",
            "__________________________________________________________________________________________________\n",
            "block4a_dwconv (DepthwiseConv2D (None, None, None, 2 2160        block4a_dwconv_pad[0][0]         \n",
            "__________________________________________________________________________________________________\n",
            "block4a_bn (BatchNormalization) (None, None, None, 2 960         block4a_dwconv[0][0]             \n",
            "__________________________________________________________________________________________________\n",
            "block4a_activation (Activation) (None, None, None, 2 0           block4a_bn[0][0]                 \n",
            "__________________________________________________________________________________________________\n",
            "block4a_se_squeeze (GlobalAvera (None, 240)          0           block4a_activation[0][0]         \n",
            "__________________________________________________________________________________________________\n",
            "block4a_se_reshape (Reshape)    (None, 1, 1, 240)    0           block4a_se_squeeze[0][0]         \n",
            "__________________________________________________________________________________________________\n",
            "block4a_se_reduce (Conv2D)      (None, 1, 1, 10)     2410        block4a_se_reshape[0][0]         \n",
            "__________________________________________________________________________________________________\n",
            "block4a_se_expand (Conv2D)      (None, 1, 1, 240)    2640        block4a_se_reduce[0][0]          \n",
            "__________________________________________________________________________________________________\n",
            "block4a_se_excite (Multiply)    (None, None, None, 2 0           block4a_activation[0][0]         \n",
            "                                                                 block4a_se_expand[0][0]          \n",
            "__________________________________________________________________________________________________\n",
            "block4a_project_conv (Conv2D)   (None, None, None, 8 19200       block4a_se_excite[0][0]          \n",
            "__________________________________________________________________________________________________\n",
            "block4a_project_bn (BatchNormal (None, None, None, 8 320         block4a_project_conv[0][0]       \n",
            "__________________________________________________________________________________________________\n",
            "block4b_expand_conv (Conv2D)    (None, None, None, 4 38400       block4a_project_bn[0][0]         \n",
            "__________________________________________________________________________________________________\n",
            "block4b_expand_bn (BatchNormali (None, None, None, 4 1920        block4b_expand_conv[0][0]        \n",
            "__________________________________________________________________________________________________\n",
            "block4b_expand_activation (Acti (None, None, None, 4 0           block4b_expand_bn[0][0]          \n",
            "__________________________________________________________________________________________________\n",
            "block4b_dwconv (DepthwiseConv2D (None, None, None, 4 4320        block4b_expand_activation[0][0]  \n",
            "__________________________________________________________________________________________________\n",
            "block4b_bn (BatchNormalization) (None, None, None, 4 1920        block4b_dwconv[0][0]             \n",
            "__________________________________________________________________________________________________\n",
            "block4b_activation (Activation) (None, None, None, 4 0           block4b_bn[0][0]                 \n",
            "__________________________________________________________________________________________________\n",
            "block4b_se_squeeze (GlobalAvera (None, 480)          0           block4b_activation[0][0]         \n",
            "__________________________________________________________________________________________________\n",
            "block4b_se_reshape (Reshape)    (None, 1, 1, 480)    0           block4b_se_squeeze[0][0]         \n",
            "__________________________________________________________________________________________________\n",
            "block4b_se_reduce (Conv2D)      (None, 1, 1, 20)     9620        block4b_se_reshape[0][0]         \n",
            "__________________________________________________________________________________________________\n",
            "block4b_se_expand (Conv2D)      (None, 1, 1, 480)    10080       block4b_se_reduce[0][0]          \n",
            "__________________________________________________________________________________________________\n",
            "block4b_se_excite (Multiply)    (None, None, None, 4 0           block4b_activation[0][0]         \n",
            "                                                                 block4b_se_expand[0][0]          \n",
            "__________________________________________________________________________________________________\n",
            "block4b_project_conv (Conv2D)   (None, None, None, 8 38400       block4b_se_excite[0][0]          \n",
            "__________________________________________________________________________________________________\n",
            "block4b_project_bn (BatchNormal (None, None, None, 8 320         block4b_project_conv[0][0]       \n",
            "__________________________________________________________________________________________________\n",
            "block4b_drop (Dropout)          (None, None, None, 8 0           block4b_project_bn[0][0]         \n",
            "__________________________________________________________________________________________________\n",
            "block4b_add (Add)               (None, None, None, 8 0           block4b_drop[0][0]               \n",
            "                                                                 block4a_project_bn[0][0]         \n",
            "__________________________________________________________________________________________________\n",
            "block4c_expand_conv (Conv2D)    (None, None, None, 4 38400       block4b_add[0][0]                \n",
            "__________________________________________________________________________________________________\n",
            "block4c_expand_bn (BatchNormali (None, None, None, 4 1920        block4c_expand_conv[0][0]        \n",
            "__________________________________________________________________________________________________\n",
            "block4c_expand_activation (Acti (None, None, None, 4 0           block4c_expand_bn[0][0]          \n",
            "__________________________________________________________________________________________________\n",
            "block4c_dwconv (DepthwiseConv2D (None, None, None, 4 4320        block4c_expand_activation[0][0]  \n",
            "__________________________________________________________________________________________________\n",
            "block4c_bn (BatchNormalization) (None, None, None, 4 1920        block4c_dwconv[0][0]             \n",
            "__________________________________________________________________________________________________\n",
            "block4c_activation (Activation) (None, None, None, 4 0           block4c_bn[0][0]                 \n",
            "__________________________________________________________________________________________________\n",
            "block4c_se_squeeze (GlobalAvera (None, 480)          0           block4c_activation[0][0]         \n",
            "__________________________________________________________________________________________________\n",
            "block4c_se_reshape (Reshape)    (None, 1, 1, 480)    0           block4c_se_squeeze[0][0]         \n",
            "__________________________________________________________________________________________________\n",
            "block4c_se_reduce (Conv2D)      (None, 1, 1, 20)     9620        block4c_se_reshape[0][0]         \n",
            "__________________________________________________________________________________________________\n",
            "block4c_se_expand (Conv2D)      (None, 1, 1, 480)    10080       block4c_se_reduce[0][0]          \n",
            "__________________________________________________________________________________________________\n",
            "block4c_se_excite (Multiply)    (None, None, None, 4 0           block4c_activation[0][0]         \n",
            "                                                                 block4c_se_expand[0][0]          \n",
            "__________________________________________________________________________________________________\n",
            "block4c_project_conv (Conv2D)   (None, None, None, 8 38400       block4c_se_excite[0][0]          \n",
            "__________________________________________________________________________________________________\n",
            "block4c_project_bn (BatchNormal (None, None, None, 8 320         block4c_project_conv[0][0]       \n",
            "__________________________________________________________________________________________________\n",
            "block4c_drop (Dropout)          (None, None, None, 8 0           block4c_project_bn[0][0]         \n",
            "__________________________________________________________________________________________________\n",
            "block4c_add (Add)               (None, None, None, 8 0           block4c_drop[0][0]               \n",
            "                                                                 block4b_add[0][0]                \n",
            "__________________________________________________________________________________________________\n",
            "block5a_expand_conv (Conv2D)    (None, None, None, 4 38400       block4c_add[0][0]                \n",
            "__________________________________________________________________________________________________\n",
            "block5a_expand_bn (BatchNormali (None, None, None, 4 1920        block5a_expand_conv[0][0]        \n",
            "__________________________________________________________________________________________________\n",
            "block5a_expand_activation (Acti (None, None, None, 4 0           block5a_expand_bn[0][0]          \n",
            "__________________________________________________________________________________________________\n",
            "block5a_dwconv (DepthwiseConv2D (None, None, None, 4 12000       block5a_expand_activation[0][0]  \n",
            "__________________________________________________________________________________________________\n",
            "block5a_bn (BatchNormalization) (None, None, None, 4 1920        block5a_dwconv[0][0]             \n",
            "__________________________________________________________________________________________________\n",
            "block5a_activation (Activation) (None, None, None, 4 0           block5a_bn[0][0]                 \n",
            "__________________________________________________________________________________________________\n",
            "block5a_se_squeeze (GlobalAvera (None, 480)          0           block5a_activation[0][0]         \n",
            "__________________________________________________________________________________________________\n",
            "block5a_se_reshape (Reshape)    (None, 1, 1, 480)    0           block5a_se_squeeze[0][0]         \n",
            "__________________________________________________________________________________________________\n",
            "block5a_se_reduce (Conv2D)      (None, 1, 1, 20)     9620        block5a_se_reshape[0][0]         \n",
            "__________________________________________________________________________________________________\n",
            "block5a_se_expand (Conv2D)      (None, 1, 1, 480)    10080       block5a_se_reduce[0][0]          \n",
            "__________________________________________________________________________________________________\n",
            "block5a_se_excite (Multiply)    (None, None, None, 4 0           block5a_activation[0][0]         \n",
            "                                                                 block5a_se_expand[0][0]          \n",
            "__________________________________________________________________________________________________\n",
            "block5a_project_conv (Conv2D)   (None, None, None, 1 53760       block5a_se_excite[0][0]          \n",
            "__________________________________________________________________________________________________\n",
            "block5a_project_bn (BatchNormal (None, None, None, 1 448         block5a_project_conv[0][0]       \n",
            "__________________________________________________________________________________________________\n",
            "block5b_expand_conv (Conv2D)    (None, None, None, 6 75264       block5a_project_bn[0][0]         \n",
            "__________________________________________________________________________________________________\n",
            "block5b_expand_bn (BatchNormali (None, None, None, 6 2688        block5b_expand_conv[0][0]        \n",
            "__________________________________________________________________________________________________\n",
            "block5b_expand_activation (Acti (None, None, None, 6 0           block5b_expand_bn[0][0]          \n",
            "__________________________________________________________________________________________________\n",
            "block5b_dwconv (DepthwiseConv2D (None, None, None, 6 16800       block5b_expand_activation[0][0]  \n",
            "__________________________________________________________________________________________________\n",
            "block5b_bn (BatchNormalization) (None, None, None, 6 2688        block5b_dwconv[0][0]             \n",
            "__________________________________________________________________________________________________\n",
            "block5b_activation (Activation) (None, None, None, 6 0           block5b_bn[0][0]                 \n",
            "__________________________________________________________________________________________________\n",
            "block5b_se_squeeze (GlobalAvera (None, 672)          0           block5b_activation[0][0]         \n",
            "__________________________________________________________________________________________________\n",
            "block5b_se_reshape (Reshape)    (None, 1, 1, 672)    0           block5b_se_squeeze[0][0]         \n",
            "__________________________________________________________________________________________________\n",
            "block5b_se_reduce (Conv2D)      (None, 1, 1, 28)     18844       block5b_se_reshape[0][0]         \n",
            "__________________________________________________________________________________________________\n",
            "block5b_se_expand (Conv2D)      (None, 1, 1, 672)    19488       block5b_se_reduce[0][0]          \n",
            "__________________________________________________________________________________________________\n",
            "block5b_se_excite (Multiply)    (None, None, None, 6 0           block5b_activation[0][0]         \n",
            "                                                                 block5b_se_expand[0][0]          \n",
            "__________________________________________________________________________________________________\n",
            "block5b_project_conv (Conv2D)   (None, None, None, 1 75264       block5b_se_excite[0][0]          \n",
            "__________________________________________________________________________________________________\n",
            "block5b_project_bn (BatchNormal (None, None, None, 1 448         block5b_project_conv[0][0]       \n",
            "__________________________________________________________________________________________________\n",
            "block5b_drop (Dropout)          (None, None, None, 1 0           block5b_project_bn[0][0]         \n",
            "__________________________________________________________________________________________________\n",
            "block5b_add (Add)               (None, None, None, 1 0           block5b_drop[0][0]               \n",
            "                                                                 block5a_project_bn[0][0]         \n",
            "__________________________________________________________________________________________________\n",
            "block5c_expand_conv (Conv2D)    (None, None, None, 6 75264       block5b_add[0][0]                \n",
            "__________________________________________________________________________________________________\n",
            "block5c_expand_bn (BatchNormali (None, None, None, 6 2688        block5c_expand_conv[0][0]        \n",
            "__________________________________________________________________________________________________\n",
            "block5c_expand_activation (Acti (None, None, None, 6 0           block5c_expand_bn[0][0]          \n",
            "__________________________________________________________________________________________________\n",
            "block5c_dwconv (DepthwiseConv2D (None, None, None, 6 16800       block5c_expand_activation[0][0]  \n",
            "__________________________________________________________________________________________________\n",
            "block5c_bn (BatchNormalization) (None, None, None, 6 2688        block5c_dwconv[0][0]             \n",
            "__________________________________________________________________________________________________\n",
            "block5c_activation (Activation) (None, None, None, 6 0           block5c_bn[0][0]                 \n",
            "__________________________________________________________________________________________________\n",
            "block5c_se_squeeze (GlobalAvera (None, 672)          0           block5c_activation[0][0]         \n",
            "__________________________________________________________________________________________________\n",
            "block5c_se_reshape (Reshape)    (None, 1, 1, 672)    0           block5c_se_squeeze[0][0]         \n",
            "__________________________________________________________________________________________________\n",
            "block5c_se_reduce (Conv2D)      (None, 1, 1, 28)     18844       block5c_se_reshape[0][0]         \n",
            "__________________________________________________________________________________________________\n",
            "block5c_se_expand (Conv2D)      (None, 1, 1, 672)    19488       block5c_se_reduce[0][0]          \n",
            "__________________________________________________________________________________________________\n",
            "block5c_se_excite (Multiply)    (None, None, None, 6 0           block5c_activation[0][0]         \n",
            "                                                                 block5c_se_expand[0][0]          \n",
            "__________________________________________________________________________________________________\n",
            "block5c_project_conv (Conv2D)   (None, None, None, 1 75264       block5c_se_excite[0][0]          \n",
            "__________________________________________________________________________________________________\n",
            "block5c_project_bn (BatchNormal (None, None, None, 1 448         block5c_project_conv[0][0]       \n",
            "__________________________________________________________________________________________________\n",
            "block5c_drop (Dropout)          (None, None, None, 1 0           block5c_project_bn[0][0]         \n",
            "__________________________________________________________________________________________________\n",
            "block5c_add (Add)               (None, None, None, 1 0           block5c_drop[0][0]               \n",
            "                                                                 block5b_add[0][0]                \n",
            "__________________________________________________________________________________________________\n",
            "block6a_expand_conv (Conv2D)    (None, None, None, 6 75264       block5c_add[0][0]                \n",
            "__________________________________________________________________________________________________\n",
            "block6a_expand_bn (BatchNormali (None, None, None, 6 2688        block6a_expand_conv[0][0]        \n",
            "__________________________________________________________________________________________________\n",
            "block6a_expand_activation (Acti (None, None, None, 6 0           block6a_expand_bn[0][0]          \n",
            "__________________________________________________________________________________________________\n",
            "block6a_dwconv_pad (ZeroPadding (None, None, None, 6 0           block6a_expand_activation[0][0]  \n",
            "__________________________________________________________________________________________________\n",
            "block6a_dwconv (DepthwiseConv2D (None, None, None, 6 16800       block6a_dwconv_pad[0][0]         \n",
            "__________________________________________________________________________________________________\n",
            "block6a_bn (BatchNormalization) (None, None, None, 6 2688        block6a_dwconv[0][0]             \n",
            "__________________________________________________________________________________________________\n",
            "block6a_activation (Activation) (None, None, None, 6 0           block6a_bn[0][0]                 \n",
            "__________________________________________________________________________________________________\n",
            "block6a_se_squeeze (GlobalAvera (None, 672)          0           block6a_activation[0][0]         \n",
            "__________________________________________________________________________________________________\n",
            "block6a_se_reshape (Reshape)    (None, 1, 1, 672)    0           block6a_se_squeeze[0][0]         \n",
            "__________________________________________________________________________________________________\n",
            "block6a_se_reduce (Conv2D)      (None, 1, 1, 28)     18844       block6a_se_reshape[0][0]         \n",
            "__________________________________________________________________________________________________\n",
            "block6a_se_expand (Conv2D)      (None, 1, 1, 672)    19488       block6a_se_reduce[0][0]          \n",
            "__________________________________________________________________________________________________\n",
            "block6a_se_excite (Multiply)    (None, None, None, 6 0           block6a_activation[0][0]         \n",
            "                                                                 block6a_se_expand[0][0]          \n",
            "__________________________________________________________________________________________________\n",
            "block6a_project_conv (Conv2D)   (None, None, None, 1 129024      block6a_se_excite[0][0]          \n",
            "__________________________________________________________________________________________________\n",
            "block6a_project_bn (BatchNormal (None, None, None, 1 768         block6a_project_conv[0][0]       \n",
            "__________________________________________________________________________________________________\n",
            "block6b_expand_conv (Conv2D)    (None, None, None, 1 221184      block6a_project_bn[0][0]         \n",
            "__________________________________________________________________________________________________\n",
            "block6b_expand_bn (BatchNormali (None, None, None, 1 4608        block6b_expand_conv[0][0]        \n",
            "__________________________________________________________________________________________________\n",
            "block6b_expand_activation (Acti (None, None, None, 1 0           block6b_expand_bn[0][0]          \n",
            "__________________________________________________________________________________________________\n",
            "block6b_dwconv (DepthwiseConv2D (None, None, None, 1 28800       block6b_expand_activation[0][0]  \n",
            "__________________________________________________________________________________________________\n",
            "block6b_bn (BatchNormalization) (None, None, None, 1 4608        block6b_dwconv[0][0]             \n",
            "__________________________________________________________________________________________________\n",
            "block6b_activation (Activation) (None, None, None, 1 0           block6b_bn[0][0]                 \n",
            "__________________________________________________________________________________________________\n",
            "block6b_se_squeeze (GlobalAvera (None, 1152)         0           block6b_activation[0][0]         \n",
            "__________________________________________________________________________________________________\n",
            "block6b_se_reshape (Reshape)    (None, 1, 1, 1152)   0           block6b_se_squeeze[0][0]         \n",
            "__________________________________________________________________________________________________\n",
            "block6b_se_reduce (Conv2D)      (None, 1, 1, 48)     55344       block6b_se_reshape[0][0]         \n",
            "__________________________________________________________________________________________________\n",
            "block6b_se_expand (Conv2D)      (None, 1, 1, 1152)   56448       block6b_se_reduce[0][0]          \n",
            "__________________________________________________________________________________________________\n",
            "block6b_se_excite (Multiply)    (None, None, None, 1 0           block6b_activation[0][0]         \n",
            "                                                                 block6b_se_expand[0][0]          \n",
            "__________________________________________________________________________________________________\n",
            "block6b_project_conv (Conv2D)   (None, None, None, 1 221184      block6b_se_excite[0][0]          \n",
            "__________________________________________________________________________________________________\n",
            "block6b_project_bn (BatchNormal (None, None, None, 1 768         block6b_project_conv[0][0]       \n",
            "__________________________________________________________________________________________________\n",
            "block6b_drop (Dropout)          (None, None, None, 1 0           block6b_project_bn[0][0]         \n",
            "__________________________________________________________________________________________________\n",
            "block6b_add (Add)               (None, None, None, 1 0           block6b_drop[0][0]               \n",
            "                                                                 block6a_project_bn[0][0]         \n",
            "__________________________________________________________________________________________________\n",
            "block6c_expand_conv (Conv2D)    (None, None, None, 1 221184      block6b_add[0][0]                \n",
            "__________________________________________________________________________________________________\n",
            "block6c_expand_bn (BatchNormali (None, None, None, 1 4608        block6c_expand_conv[0][0]        \n",
            "__________________________________________________________________________________________________\n",
            "block6c_expand_activation (Acti (None, None, None, 1 0           block6c_expand_bn[0][0]          \n",
            "__________________________________________________________________________________________________\n",
            "block6c_dwconv (DepthwiseConv2D (None, None, None, 1 28800       block6c_expand_activation[0][0]  \n",
            "__________________________________________________________________________________________________\n",
            "block6c_bn (BatchNormalization) (None, None, None, 1 4608        block6c_dwconv[0][0]             \n",
            "__________________________________________________________________________________________________\n",
            "block6c_activation (Activation) (None, None, None, 1 0           block6c_bn[0][0]                 \n",
            "__________________________________________________________________________________________________\n",
            "block6c_se_squeeze (GlobalAvera (None, 1152)         0           block6c_activation[0][0]         \n",
            "__________________________________________________________________________________________________\n",
            "block6c_se_reshape (Reshape)    (None, 1, 1, 1152)   0           block6c_se_squeeze[0][0]         \n",
            "__________________________________________________________________________________________________\n",
            "block6c_se_reduce (Conv2D)      (None, 1, 1, 48)     55344       block6c_se_reshape[0][0]         \n",
            "__________________________________________________________________________________________________\n",
            "block6c_se_expand (Conv2D)      (None, 1, 1, 1152)   56448       block6c_se_reduce[0][0]          \n",
            "__________________________________________________________________________________________________\n",
            "block6c_se_excite (Multiply)    (None, None, None, 1 0           block6c_activation[0][0]         \n",
            "                                                                 block6c_se_expand[0][0]          \n",
            "__________________________________________________________________________________________________\n",
            "block6c_project_conv (Conv2D)   (None, None, None, 1 221184      block6c_se_excite[0][0]          \n",
            "__________________________________________________________________________________________________\n",
            "block6c_project_bn (BatchNormal (None, None, None, 1 768         block6c_project_conv[0][0]       \n",
            "__________________________________________________________________________________________________\n",
            "block6c_drop (Dropout)          (None, None, None, 1 0           block6c_project_bn[0][0]         \n",
            "__________________________________________________________________________________________________\n",
            "block6c_add (Add)               (None, None, None, 1 0           block6c_drop[0][0]               \n",
            "                                                                 block6b_add[0][0]                \n",
            "__________________________________________________________________________________________________\n",
            "block6d_expand_conv (Conv2D)    (None, None, None, 1 221184      block6c_add[0][0]                \n",
            "__________________________________________________________________________________________________\n",
            "block6d_expand_bn (BatchNormali (None, None, None, 1 4608        block6d_expand_conv[0][0]        \n",
            "__________________________________________________________________________________________________\n",
            "block6d_expand_activation (Acti (None, None, None, 1 0           block6d_expand_bn[0][0]          \n",
            "__________________________________________________________________________________________________\n",
            "block6d_dwconv (DepthwiseConv2D (None, None, None, 1 28800       block6d_expand_activation[0][0]  \n",
            "__________________________________________________________________________________________________\n",
            "block6d_bn (BatchNormalization) (None, None, None, 1 4608        block6d_dwconv[0][0]             \n",
            "__________________________________________________________________________________________________\n",
            "block6d_activation (Activation) (None, None, None, 1 0           block6d_bn[0][0]                 \n",
            "__________________________________________________________________________________________________\n",
            "block6d_se_squeeze (GlobalAvera (None, 1152)         0           block6d_activation[0][0]         \n",
            "__________________________________________________________________________________________________\n",
            "block6d_se_reshape (Reshape)    (None, 1, 1, 1152)   0           block6d_se_squeeze[0][0]         \n",
            "__________________________________________________________________________________________________\n",
            "block6d_se_reduce (Conv2D)      (None, 1, 1, 48)     55344       block6d_se_reshape[0][0]         \n",
            "__________________________________________________________________________________________________\n",
            "block6d_se_expand (Conv2D)      (None, 1, 1, 1152)   56448       block6d_se_reduce[0][0]          \n",
            "__________________________________________________________________________________________________\n",
            "block6d_se_excite (Multiply)    (None, None, None, 1 0           block6d_activation[0][0]         \n",
            "                                                                 block6d_se_expand[0][0]          \n",
            "__________________________________________________________________________________________________\n",
            "block6d_project_conv (Conv2D)   (None, None, None, 1 221184      block6d_se_excite[0][0]          \n",
            "__________________________________________________________________________________________________\n",
            "block6d_project_bn (BatchNormal (None, None, None, 1 768         block6d_project_conv[0][0]       \n",
            "__________________________________________________________________________________________________\n",
            "block6d_drop (Dropout)          (None, None, None, 1 0           block6d_project_bn[0][0]         \n",
            "__________________________________________________________________________________________________\n",
            "block6d_add (Add)               (None, None, None, 1 0           block6d_drop[0][0]               \n",
            "                                                                 block6c_add[0][0]                \n",
            "__________________________________________________________________________________________________\n",
            "block7a_expand_conv (Conv2D)    (None, None, None, 1 221184      block6d_add[0][0]                \n",
            "__________________________________________________________________________________________________\n",
            "block7a_expand_bn (BatchNormali (None, None, None, 1 4608        block7a_expand_conv[0][0]        \n",
            "__________________________________________________________________________________________________\n",
            "block7a_expand_activation (Acti (None, None, None, 1 0           block7a_expand_bn[0][0]          \n",
            "__________________________________________________________________________________________________\n",
            "block7a_dwconv (DepthwiseConv2D (None, None, None, 1 10368       block7a_expand_activation[0][0]  \n",
            "__________________________________________________________________________________________________\n",
            "block7a_bn (BatchNormalization) (None, None, None, 1 4608        block7a_dwconv[0][0]             \n",
            "__________________________________________________________________________________________________\n",
            "block7a_activation (Activation) (None, None, None, 1 0           block7a_bn[0][0]                 \n",
            "__________________________________________________________________________________________________\n",
            "block7a_se_squeeze (GlobalAvera (None, 1152)         0           block7a_activation[0][0]         \n",
            "__________________________________________________________________________________________________\n",
            "block7a_se_reshape (Reshape)    (None, 1, 1, 1152)   0           block7a_se_squeeze[0][0]         \n",
            "__________________________________________________________________________________________________\n",
            "block7a_se_reduce (Conv2D)      (None, 1, 1, 48)     55344       block7a_se_reshape[0][0]         \n",
            "__________________________________________________________________________________________________\n",
            "block7a_se_expand (Conv2D)      (None, 1, 1, 1152)   56448       block7a_se_reduce[0][0]          \n",
            "__________________________________________________________________________________________________\n",
            "block7a_se_excite (Multiply)    (None, None, None, 1 0           block7a_activation[0][0]         \n",
            "                                                                 block7a_se_expand[0][0]          \n",
            "__________________________________________________________________________________________________\n",
            "block7a_project_conv (Conv2D)   (None, None, None, 3 368640      block7a_se_excite[0][0]          \n",
            "__________________________________________________________________________________________________\n",
            "block7a_project_bn (BatchNormal (None, None, None, 3 1280        block7a_project_conv[0][0]       \n",
            "__________________________________________________________________________________________________\n",
            "top_conv (Conv2D)               (None, None, None, 1 409600      block7a_project_bn[0][0]         \n",
            "__________________________________________________________________________________________________\n",
            "top_bn (BatchNormalization)     (None, None, None, 1 5120        top_conv[0][0]                   \n",
            "__________________________________________________________________________________________________\n",
            "top_activation (Activation)     (None, None, None, 1 0           top_bn[0][0]                     \n",
            "==================================================================================================\n",
            "Total params: 4,049,571\n",
            "Trainable params: 0\n",
            "Non-trainable params: 4,049,571\n",
            "__________________________________________________________________________________________________\n"
          ],
          "name": "stdout"
        }
      ]
    },
    {
      "cell_type": "code",
      "metadata": {
        "colab": {
          "base_uri": "https://localhost:8080/",
          "height": 282
        },
        "id": "l-V9W6ISWATb",
        "outputId": "e331d2b5-ee7b-4f6a-9196-78e4bc84e7d6"
      },
      "source": [
        "\n",
        "pd.DataFrame(history_0.history).plot()"
      ],
      "execution_count": 41,
      "outputs": [
        {
          "output_type": "execute_result",
          "data": {
            "text/plain": [
              "<matplotlib.axes._subplots.AxesSubplot at 0x7ff62d7da250>"
            ]
          },
          "metadata": {
            "tags": []
          },
          "execution_count": 41
        },
        {
          "output_type": "display_data",
          "data": {
            "image/png": "[encoded data removed]",
            "text/plain": [
              "<Figure size 432x288 with 1 Axes>"
            ]
          },
          "metadata": {
            "tags": [],
            "needs_background": "light"
          }
        }
      ]
    },
    {
      "cell_type": "markdown",
      "metadata": {
        "id": "1t3wP6FSZ2A2"
      },
      "source": [
        "# Model_1"
      ]
    },
    {
      "cell_type": "markdown",
      "metadata": {
        "id": "IQXJDQ1xaMns"
      },
      "source": [
        "Experiment with 1% of training data with the same model with data augmentation"
      ]
    },
    {
      "cell_type": "code",
      "metadata": {
        "colab": {
          "base_uri": "https://localhost:8080/"
        },
        "id": "ajYupnYbWAgl",
        "outputId": "b0bf8c34-efed-4ca0-9590-fc5b1dd24536"
      },
      "source": [
        "!wget \"https://storage.googleapis.com/ztm_tf_course/food_vision/10_food_classes_1_percent.zip\""
      ],
      "execution_count": 42,
      "outputs": [
        {
          "output_type": "stream",
          "text": [
            "--2021-05-19 14:30:30--  https://storage.googleapis.com/ztm_tf_course/food_vision/10_food_classes_1_percent.zip\n",
            "Resolving storage.googleapis.com (storage.googleapis.com)... 172.253.122.128, 172.217.2.112, 172.253.63.128, ...\n",
            "Connecting to storage.googleapis.com (storage.googleapis.com)|172.253.122.128|:443... connected.\n",
            "HTTP request sent, awaiting response... 200 OK\n",
            "Length: 133612354 (127M) [application/zip]\n",
            "Saving to: ‘10_food_classes_1_percent.zip.1’\n",
            "\n",
            "10_food_classes_1_p 100%[===================>] 127.42M   287MB/s    in 0.4s    \n",
            "\n",
            "2021-05-19 14:30:30 (287 MB/s) - ‘10_food_classes_1_percent.zip.1’ saved [133612354/133612354]\n",
            "\n"
          ],
          "name": "stdout"
        }
      ]
    },
    {
      "cell_type": "code",
      "metadata": {
        "id": "VkPfnsrKa2iC"
      },
      "source": [
        "unzip_data(\"10_food_classes_1_percent.zip\")"
      ],
      "execution_count": 43,
      "outputs": []
    },
    {
      "cell_type": "code",
      "metadata": {
        "colab": {
          "base_uri": "https://localhost:8080/"
        },
        "id": "C7ywGly0a2lx",
        "outputId": "5196cf4d-c723-4e7a-8e52-7e0abff0bac1"
      },
      "source": [
        "walk_through_dir(\"/content/10_food_classes_1_percent\")"
      ],
      "execution_count": 44,
      "outputs": [
        {
          "output_type": "stream",
          "text": [
            "There are 2 directories and 0 images in '/content/10_food_classes_1_percent'.\n",
            "There are 10 directories and 0 images in '/content/10_food_classes_1_percent/test'.\n",
            "There are 0 directories and 250 images in '/content/10_food_classes_1_percent/test/grilled_salmon'.\n",
            "There are 0 directories and 250 images in '/content/10_food_classes_1_percent/test/fried_rice'.\n",
            "There are 0 directories and 250 images in '/content/10_food_classes_1_percent/test/chicken_wings'.\n",
            "There are 0 directories and 250 images in '/content/10_food_classes_1_percent/test/ramen'.\n",
            "There are 0 directories and 250 images in '/content/10_food_classes_1_percent/test/hamburger'.\n",
            "There are 0 directories and 250 images in '/content/10_food_classes_1_percent/test/pizza'.\n",
            "There are 0 directories and 250 images in '/content/10_food_classes_1_percent/test/ice_cream'.\n",
            "There are 0 directories and 250 images in '/content/10_food_classes_1_percent/test/steak'.\n",
            "There are 0 directories and 250 images in '/content/10_food_classes_1_percent/test/sushi'.\n",
            "There are 0 directories and 250 images in '/content/10_food_classes_1_percent/test/chicken_curry'.\n",
            "There are 10 directories and 0 images in '/content/10_food_classes_1_percent/train'.\n",
            "There are 0 directories and 7 images in '/content/10_food_classes_1_percent/train/grilled_salmon'.\n",
            "There are 0 directories and 7 images in '/content/10_food_classes_1_percent/train/fried_rice'.\n",
            "There are 0 directories and 7 images in '/content/10_food_classes_1_percent/train/chicken_wings'.\n",
            "There are 0 directories and 7 images in '/content/10_food_classes_1_percent/train/ramen'.\n",
            "There are 0 directories and 7 images in '/content/10_food_classes_1_percent/train/hamburger'.\n",
            "There are 0 directories and 7 images in '/content/10_food_classes_1_percent/train/pizza'.\n",
            "There are 0 directories and 7 images in '/content/10_food_classes_1_percent/train/ice_cream'.\n",
            "There are 0 directories and 7 images in '/content/10_food_classes_1_percent/train/steak'.\n",
            "There are 0 directories and 7 images in '/content/10_food_classes_1_percent/train/sushi'.\n",
            "There are 0 directories and 7 images in '/content/10_food_classes_1_percent/train/chicken_curry'.\n"
          ],
          "name": "stdout"
        }
      ]
    },
    {
      "cell_type": "code",
      "metadata": {
        "colab": {
          "base_uri": "https://localhost:8080/"
        },
        "id": "EMjxf3bMa2py",
        "outputId": "9d952858-2f69-4575-e9ff-26f53179b1d2"
      },
      "source": [
        "#Prepare data\n",
        "\n",
        "IMAGE_SHAPE= (224,224)\n",
        "BATCH_SIZE = 32\n",
        "\n",
        "train_dir_1 = \"/content/10_food_classes_1_percent/train\"\n",
        "test_dir_1 = \"/content/10_food_classes_1_percent/test\"\n",
        "\n",
        "\n",
        "traindata_1 = tf.keras.preprocessing.image_dataset_from_directory(directory=train_dir_1,\n",
        "                                                image_size=IMAGE_SHAPE,\n",
        "                                                label_mode = 'categorical',\n",
        "                                                batch_size = BATCH_SIZE)\n",
        "\n",
        "testdata_1 = tf.keras.preprocessing.image_dataset_from_directory(directory=test_dir_1,\n",
        "                                                image_size=IMAGE_SHAPE,\n",
        "                                                label_mode = 'categorical',\n",
        "                                                batch_size = BATCH_SIZE)\n"
      ],
      "execution_count": 45,
      "outputs": [
        {
          "output_type": "stream",
          "text": [
            "Found 70 files belonging to 10 classes.\n",
            "Found 2500 files belonging to 10 classes.\n"
          ],
          "name": "stdout"
        }
      ]
    },
    {
      "cell_type": "code",
      "metadata": {
        "id": "OWhOc557a2sP"
      },
      "source": [
        "#Create models with Functional API\n",
        "from tensorflow.keras.layers.experimental import preprocessing\n",
        "\n",
        "base_model_1 = tf.keras.applications.EfficientNetB0(include_top=False)\n",
        "base_model_1.trainable = False\n",
        "\n",
        "data_augmentation = tf.keras.Sequential([\n",
        "    preprocessing.RandomFlip('horizontal'),\n",
        "    preprocessing.RandomRotation(0.2),\n",
        "    preprocessing.RandomZoom(0.2),\n",
        "    preprocessing.RandomHeight(0.2)                                   \n",
        "],name = \"data_augmentation\")\n",
        "\n",
        "inputs_1 = tf.keras.layers.Input(shape=(224,224,3),name='input_layer')\n",
        "#x = tf.keras.layers.experimental.preprocessing.Rescaling(1/255.)(inputs)\n",
        "x = data_augmentation(inputs_1)\n",
        "x = base_model_1(x)\n",
        "x = tf.keras.layers.GlobalAveragePooling2D(name='global_avg_pooling')(x)\n",
        "outputs_1 = tf.keras.layers.Dense(10,activation=\"softmax\")(x)\n",
        "\n",
        "model_1 = tf.keras.Model(inputs_1,outputs_1)"
      ],
      "execution_count": 46,
      "outputs": []
    },
    {
      "cell_type": "code",
      "metadata": {
        "id": "03MLSBuYVqKl"
      },
      "source": [
        "model_1.compile(optimizer=tf.keras.optimizers.Adam(),\n",
        "                loss='categorical_crossentropy',\n",
        "                metrics = ['accuracy'])"
      ],
      "execution_count": 47,
      "outputs": []
    },
    {
      "cell_type": "code",
      "metadata": {
        "colab": {
          "base_uri": "https://localhost:8080/"
        },
        "id": "CSRKh3o3bTCl",
        "outputId": "7b9d9550-1299-408a-8047-91d42dc4b828"
      },
      "source": [
        "history_1  = model_1.fit(traindata_1,epochs=5,\n",
        "                         steps_per_epoch = len(traindata_1),\n",
        "                         validation_data = testdata_1,\n",
        "                         validation_steps = len(testdata_1),\n",
        "                         callbacks=[create_tensorboard_callback('transfer_learning','model_1')])"
      ],
      "execution_count": 48,
      "outputs": [
        {
          "output_type": "stream",
          "text": [
            "Saving TensorBoard log files to: transfer_learning/model_1/20210519-143034\n",
            "Epoch 1/5\n",
            "3/3 [==============================] - 17s 6s/step - loss: 2.3554 - accuracy: 0.1346 - val_loss: 2.2445 - val_accuracy: 0.1608\n",
            "Epoch 2/5\n",
            "3/3 [==============================] - 10s 5s/step - loss: 2.1497 - accuracy: 0.2379 - val_loss: 2.1204 - val_accuracy: 0.2460\n",
            "Epoch 3/5\n",
            "3/3 [==============================] - 10s 5s/step - loss: 2.0270 - accuracy: 0.3459 - val_loss: 2.0179 - val_accuracy: 0.3092\n",
            "Epoch 4/5\n",
            "3/3 [==============================] - 10s 5s/step - loss: 1.8394 - accuracy: 0.4344 - val_loss: 1.9244 - val_accuracy: 0.3676\n",
            "Epoch 5/5\n",
            "3/3 [==============================] - 10s 5s/step - loss: 1.6895 - accuracy: 0.6300 - val_loss: 1.8402 - val_accuracy: 0.4276\n"
          ],
          "name": "stdout"
        }
      ]
    },
    {
      "cell_type": "code",
      "metadata": {
        "colab": {
          "base_uri": "https://localhost:8080/",
          "height": 282
        },
        "id": "IiGUQoMxbTHC",
        "outputId": "49c4004c-70f7-40ba-8eab-3da8fe388821"
      },
      "source": [
        "pd.DataFrame(history_1.history).plot()"
      ],
      "execution_count": 49,
      "outputs": [
        {
          "output_type": "execute_result",
          "data": {
            "text/plain": [
              "<matplotlib.axes._subplots.AxesSubplot at 0x7ff6c4422410>"
            ]
          },
          "metadata": {
            "tags": []
          },
          "execution_count": 49
        },
        {
          "output_type": "display_data",
          "data": {
            "image/png": "[encoded data removed]",
            "text/plain": [
              "<Figure size 432x288 with 1 Axes>"
            ]
          },
          "metadata": {
            "tags": [],
            "needs_background": "light"
          }
        }
      ]
    },
    {
      "cell_type": "markdown",
      "metadata": {
        "id": "UbumSsnjih8P"
      },
      "source": [
        "# Model_2"
      ]
    },
    {
      "cell_type": "markdown",
      "metadata": {
        "id": "HmImxOrzinQX"
      },
      "source": [
        "10% of Data with Data Augmentation"
      ]
    },
    {
      "cell_type": "code",
      "metadata": {
        "colab": {
          "base_uri": "https://localhost:8080/"
        },
        "id": "XKCmgnqFbTMD",
        "outputId": "7d5f9f74-ddb1-4f92-b7e6-d1274d45cb21"
      },
      "source": [
        "train_dir = \"/content/10_food_classes_10_percent/train\"\n",
        "test_dir = \"/content/10_food_classes_10_percent/test\"\n",
        "\n",
        "\n",
        "traindata = tf.keras.preprocessing.image_dataset_from_directory(directory=train_dir,\n",
        "                                                image_size=IMAGE_SHAPE,\n",
        "                                                label_mode = 'categorical',\n",
        "                                                batch_size = BATCH_SIZE)\n",
        "\n",
        "testdata = tf.keras.preprocessing.image_dataset_from_directory(directory=test_dir,\n",
        "                                                image_size=IMAGE_SHAPE,\n",
        "                                                label_mode = 'categorical',\n",
        "                                                batch_size = BATCH_SIZE)"
      ],
      "execution_count": 50,
      "outputs": [
        {
          "output_type": "stream",
          "text": [
            "Found 750 files belonging to 10 classes.\n",
            "Found 2500 files belonging to 10 classes.\n"
          ],
          "name": "stdout"
        }
      ]
    },
    {
      "cell_type": "code",
      "metadata": {
        "id": "0sjF_fgxi40N"
      },
      "source": [
        "\n",
        "base_model = tf.keras.applications.EfficientNetB0(include_top=False)\n",
        "base_model.trainable = False\n",
        "\n",
        "data_augmentation = tf.keras.Sequential([\n",
        "    preprocessing.RandomFlip('horizontal'),\n",
        "    preprocessing.RandomRotation(0.2),\n",
        "    preprocessing.RandomZoom(0.2),\n",
        "    preprocessing.RandomHeight(0.2)                                   \n",
        "],name = \"data_augmentation\")\n",
        "\n",
        "inputs = tf.keras.layers.Input(shape=(224,224,3),name='input_layer')\n",
        "#x = tf.keras.layers.experimental.preprocessing.Rescaling(1/255.)(inputs)\n",
        "x = data_augmentation(inputs)\n",
        "x = base_model(x)\n",
        "x = tf.keras.layers.GlobalAveragePooling2D(name='global_avg_pooling')(x)\n",
        "outputs = tf.keras.layers.Dense(10,activation=\"softmax\")(x)\n",
        "\n",
        "model_2 = tf.keras.Model(inputs,outputs)"
      ],
      "execution_count": 51,
      "outputs": []
    },
    {
      "cell_type": "code",
      "metadata": {
        "id": "MO_yh9xui43x"
      },
      "source": [
        "model_2.compile(optimizer=tf.keras.optimizers.Adam(),\n",
        "                loss='categorical_crossentropy',\n",
        "                metrics = ['accuracy'])"
      ],
      "execution_count": 52,
      "outputs": []
    },
    {
      "cell_type": "code",
      "metadata": {
        "colab": {
          "base_uri": "https://localhost:8080/"
        },
        "id": "vWhnzSudjH8d",
        "outputId": "9e4ab35b-1c60-423b-81ba-8e58cab7da9c"
      },
      "source": [
        "history_2  = model_2.fit(traindata,epochs=10,\n",
        "                         steps_per_epoch = len(traindata),\n",
        "                         validation_data = testdata,\n",
        "                         validation_steps = len(testdata),\n",
        "                         callbacks=[create_tensorboard_callback('transfer_learning','model_2')])"
      ],
      "execution_count": 53,
      "outputs": [
        {
          "output_type": "stream",
          "text": [
            "Saving TensorBoard log files to: transfer_learning/model_2/20210519-143136\n",
            "Epoch 1/10\n",
            "24/24 [==============================] - 21s 631ms/step - loss: 2.2234 - accuracy: 0.2181 - val_loss: 1.5311 - val_accuracy: 0.5940\n",
            "Epoch 2/10\n",
            "24/24 [==============================] - 13s 530ms/step - loss: 1.5104 - accuracy: 0.5730 - val_loss: 1.0782 - val_accuracy: 0.7348\n",
            "Epoch 3/10\n",
            "24/24 [==============================] - 13s 530ms/step - loss: 1.1556 - accuracy: 0.7139 - val_loss: 0.8812 - val_accuracy: 0.7728\n",
            "Epoch 4/10\n",
            "24/24 [==============================] - 13s 528ms/step - loss: 0.9855 - accuracy: 0.7494 - val_loss: 0.7808 - val_accuracy: 0.7852\n",
            "Epoch 5/10\n",
            "24/24 [==============================] - 13s 530ms/step - loss: 0.8891 - accuracy: 0.7659 - val_loss: 0.6985 - val_accuracy: 0.8064\n",
            "Epoch 6/10\n",
            "24/24 [==============================] - 13s 525ms/step - loss: 0.7870 - accuracy: 0.7978 - val_loss: 0.6579 - val_accuracy: 0.8176\n",
            "Epoch 7/10\n",
            "24/24 [==============================] - 13s 528ms/step - loss: 0.7111 - accuracy: 0.7988 - val_loss: 0.6294 - val_accuracy: 0.8180\n",
            "Epoch 8/10\n",
            "24/24 [==============================] - 13s 529ms/step - loss: 0.6625 - accuracy: 0.8269 - val_loss: 0.6012 - val_accuracy: 0.8248\n",
            "Epoch 9/10\n",
            "24/24 [==============================] - 13s 524ms/step - loss: 0.6027 - accuracy: 0.8459 - val_loss: 0.5816 - val_accuracy: 0.8276\n",
            "Epoch 10/10\n",
            "24/24 [==============================] - 13s 533ms/step - loss: 0.5728 - accuracy: 0.8512 - val_loss: 0.5574 - val_accuracy: 0.8332\n"
          ],
          "name": "stdout"
        }
      ]
    },
    {
      "cell_type": "code",
      "metadata": {
        "colab": {
          "base_uri": "https://localhost:8080/",
          "height": 282
        },
        "id": "PhB4SFHAjIAX",
        "outputId": "6999ee49-c54c-41a9-fd31-8f0dd9c511e6"
      },
      "source": [
        "pd.DataFrame(history_2.history).plot()"
      ],
      "execution_count": 54,
      "outputs": [
        {
          "output_type": "execute_result",
          "data": {
            "text/plain": [
              "<matplotlib.axes._subplots.AxesSubplot at 0x7ff6d2c20110>"
            ]
          },
          "metadata": {
            "tags": []
          },
          "execution_count": 54
        },
        {
          "output_type": "display_data",
          "data": {
            "image/png": "[encoded data removed]",
            "text/plain": [
              "<Figure size 432x288 with 1 Axes>"
            ]
          },
          "metadata": {
            "tags": [],
            "needs_background": "light"
          }
        }
      ]
    },
    {
      "cell_type": "markdown",
      "metadata": {
        "id": "eOSqJuzWDv4y"
      },
      "source": [
        "# Model 3"
      ]
    },
    {
      "cell_type": "markdown",
      "metadata": {
        "id": "9C9Ac2cvD2SX"
      },
      "source": [
        "10% of data with augmentation and fine tuning top 10 layers"
      ]
    },
    {
      "cell_type": "code",
      "metadata": {
        "colab": {
          "base_uri": "https://localhost:8080/"
        },
        "id": "Zcse7VFFjIFZ",
        "outputId": "9ca0f116-15c0-4cd5-cf4d-7586682f0eb9"
      },
      "source": [
        "#Data Preprocessing\n",
        "\n",
        "train_dir = \"/content/10_food_classes_10_percent/train\"\n",
        "test_dir = \"/content/10_food_classes_10_percent/test\"\n",
        "\n",
        "\n",
        "traindata = tf.keras.preprocessing.image_dataset_from_directory(directory=train_dir,\n",
        "                                                image_size=IMAGE_SHAPE,\n",
        "                                                label_mode = 'categorical',\n",
        "                                                batch_size = BATCH_SIZE)\n",
        "\n",
        "testdata = tf.keras.preprocessing.image_dataset_from_directory(directory=test_dir,\n",
        "                                                image_size=IMAGE_SHAPE,\n",
        "                                                label_mode = 'categorical',\n",
        "                                                batch_size = BATCH_SIZE)"
      ],
      "execution_count": 55,
      "outputs": [
        {
          "output_type": "stream",
          "text": [
            "Found 750 files belonging to 10 classes.\n",
            "Found 2500 files belonging to 10 classes.\n"
          ],
          "name": "stdout"
        }
      ]
    },
    {
      "cell_type": "code",
      "metadata": {
        "id": "NMQaiJm4i48u"
      },
      "source": [
        "\n",
        "base_model_03 = tf.keras.applications.EfficientNetB0(include_top=False)\n",
        "base_model_03.trainable = True\n",
        "\n",
        "for layer in base_model_03.layers[:-10]:\n",
        "  layer.trainable = False\n",
        "\n",
        "\n",
        "data_augmentation = tf.keras.Sequential([\n",
        "    preprocessing.RandomFlip('horizontal'),\n",
        "    preprocessing.RandomRotation(0.2),\n",
        "    preprocessing.RandomZoom(0.2),\n",
        "    preprocessing.RandomHeight(0.2)                                   \n",
        "],name = \"data_augmentation\")\n",
        "\n",
        "inputs = tf.keras.layers.Input(shape=(224,224,3),name='input_layer')\n",
        "#x = tf.keras.layers.experimental.preprocessing.Rescaling(1/255.)(inputs)\n",
        "x = data_augmentation(inputs)\n",
        "x = base_model_03(x)\n",
        "x = tf.keras.layers.GlobalAveragePooling2D(name='global_avg_pooling')(x)\n",
        "outputs = tf.keras.layers.Dense(10,activation=\"softmax\")(x)\n",
        "\n",
        "model_3 = tf.keras.Model(inputs,outputs)"
      ],
      "execution_count": 56,
      "outputs": []
    },
    {
      "cell_type": "code",
      "metadata": {
        "id": "G5w4VkoqI4Nd"
      },
      "source": [
        "model_3.compile(optimizer=tf.keras.optimizers.Adam(lr=0.0001),\n",
        "                loss='categorical_crossentropy',\n",
        "                metrics = ['accuracy'])"
      ],
      "execution_count": 57,
      "outputs": []
    },
    {
      "cell_type": "code",
      "metadata": {
        "colab": {
          "base_uri": "https://localhost:8080/"
        },
        "id": "LJ3iQRwYI4wD",
        "outputId": "83a626a4-593f-4da0-ec35-6186c2933664"
      },
      "source": [
        "history_3  = model_3.fit(traindata,epochs=10,\n",
        "                         steps_per_epoch = len(traindata),\n",
        "                         validation_data = testdata,\n",
        "                         validation_steps = len(testdata),\n",
        "                         callbacks=[create_tensorboard_callback('transfer_learning','model_3')])"
      ],
      "execution_count": 58,
      "outputs": [
        {
          "output_type": "stream",
          "text": [
            "Saving TensorBoard log files to: transfer_learning/model_3/20210519-150128\n",
            "Epoch 1/10\n",
            "24/24 [==============================] - 21s 653ms/step - loss: 2.2982 - accuracy: 0.1733 - val_loss: 1.8672 - val_accuracy: 0.4468\n",
            "Epoch 2/10\n",
            "24/24 [==============================] - 13s 526ms/step - loss: 1.8574 - accuracy: 0.4516 - val_loss: 1.4623 - val_accuracy: 0.6516\n",
            "Epoch 3/10\n",
            "24/24 [==============================] - 13s 531ms/step - loss: 1.5530 - accuracy: 0.6107 - val_loss: 1.1511 - val_accuracy: 0.7396\n",
            "Epoch 4/10\n",
            "24/24 [==============================] - 13s 534ms/step - loss: 1.2667 - accuracy: 0.6886 - val_loss: 0.9400 - val_accuracy: 0.7792\n",
            "Epoch 5/10\n",
            "24/24 [==============================] - 13s 531ms/step - loss: 1.0935 - accuracy: 0.7255 - val_loss: 0.8071 - val_accuracy: 0.7968\n",
            "Epoch 6/10\n",
            "24/24 [==============================] - 13s 535ms/step - loss: 0.9868 - accuracy: 0.7332 - val_loss: 0.7232 - val_accuracy: 0.8108\n",
            "Epoch 7/10\n",
            "24/24 [==============================] - 13s 530ms/step - loss: 0.9004 - accuracy: 0.7618 - val_loss: 0.6566 - val_accuracy: 0.8228\n",
            "Epoch 8/10\n",
            "24/24 [==============================] - 13s 541ms/step - loss: 0.8496 - accuracy: 0.7759 - val_loss: 0.6083 - val_accuracy: 0.8308\n",
            "Epoch 9/10\n",
            "24/24 [==============================] - 13s 537ms/step - loss: 0.7468 - accuracy: 0.8017 - val_loss: 0.5811 - val_accuracy: 0.8352\n",
            "Epoch 10/10\n",
            "24/24 [==============================] - 13s 533ms/step - loss: 0.6997 - accuracy: 0.8376 - val_loss: 0.5537 - val_accuracy: 0.8388\n"
          ],
          "name": "stdout"
        }
      ]
    },
    {
      "cell_type": "code",
      "metadata": {
        "colab": {
          "base_uri": "https://localhost:8080/",
          "height": 284
        },
        "id": "1sw89C06J7PS",
        "outputId": "ab32dc0f-f1ea-4479-d8ea-2093b950f0b3"
      },
      "source": [
        "pd.DataFrame(history_3.history).plot()"
      ],
      "execution_count": 59,
      "outputs": [
        {
          "output_type": "execute_result",
          "data": {
            "text/plain": [
              "<matplotlib.axes._subplots.AxesSubplot at 0x7ff526cbd150>"
            ]
          },
          "metadata": {
            "tags": []
          },
          "execution_count": 59
        },
        {
          "output_type": "display_data",
          "data": {
            "image/png": "[encoded data removed]",
            "text/plain": [
              "<Figure size 432x288 with 1 Axes>"
            ]
          },
          "metadata": {
            "tags": [],
            "needs_background": "light"
          }
        }
      ]
    },
    {
      "cell_type": "code",
      "metadata": {
        "colab": {
          "base_uri": "https://localhost:8080/"
        },
        "id": "iVeF6bfNKlRO",
        "outputId": "5c4f2220-c8d1-42cc-9d05-0c80ce8b6211"
      },
      "source": [
        "model_3.summary()"
      ],
      "execution_count": 61,
      "outputs": [
        {
          "output_type": "stream",
          "text": [
            "Model: \"model_6\"\n",
            "_________________________________________________________________\n",
            "Layer (type)                 Output Shape              Param #   \n",
            "=================================================================\n",
            "input_layer (InputLayer)     [(None, 224, 224, 3)]     0         \n",
            "_________________________________________________________________\n",
            "data_augmentation (Sequentia (None, None, 224, 3)      0         \n",
            "_________________________________________________________________\n",
            "efficientnetb0 (Functional)  (None, None, None, 1280)  4049571   \n",
            "_________________________________________________________________\n",
            "global_avg_pooling (GlobalAv (None, 1280)              0         \n",
            "_________________________________________________________________\n",
            "dense_6 (Dense)              (None, 10)                12810     \n",
            "=================================================================\n",
            "Total params: 4,062,381\n",
            "Trainable params: 906,042\n",
            "Non-trainable params: 3,156,339\n",
            "_________________________________________________________________\n"
          ],
          "name": "stdout"
        }
      ]
    },
    {
      "cell_type": "markdown",
      "metadata": {
        "id": "huVX4Rf0LoEc"
      },
      "source": [
        "# Model 4"
      ]
    },
    {
      "cell_type": "markdown",
      "metadata": {
        "id": "KJRCF0WeLrNP"
      },
      "source": [
        "with 100% data and with image augmentation and fine tuning last 10 layers"
      ]
    },
    {
      "cell_type": "code",
      "metadata": {
        "id": "MIuN-0avLy1J",
        "outputId": "1e21acd7-8869-4e35-b476-24be9ab85c8d",
        "colab": {
          "base_uri": "https://localhost:8080/"
        }
      },
      "source": [
        "!wget \"https://storage.googleapis.com/ztm_tf_course/food_vision/10_food_classes_all_data.zip\""
      ],
      "execution_count": 62,
      "outputs": [
        {
          "output_type": "stream",
          "text": [
            "--2021-05-19 15:14:20--  https://storage.googleapis.com/ztm_tf_course/food_vision/10_food_classes_all_data.zip\n",
            "Resolving storage.googleapis.com (storage.googleapis.com)... 172.217.164.144, 142.250.73.208, 142.250.73.240, ...\n",
            "Connecting to storage.googleapis.com (storage.googleapis.com)|172.217.164.144|:443... connected.\n",
            "HTTP request sent, awaiting response... 200 OK\n",
            "Length: 519183241 (495M) [application/zip]\n",
            "Saving to: ‘10_food_classes_all_data.zip’\n",
            "\n",
            "10_food_classes_all 100%[===================>] 495.13M   206MB/s    in 2.4s    \n",
            "\n",
            "2021-05-19 15:14:22 (206 MB/s) - ‘10_food_classes_all_data.zip’ saved [519183241/519183241]\n",
            "\n"
          ],
          "name": "stdout"
        }
      ]
    },
    {
      "cell_type": "code",
      "metadata": {
        "id": "sI_28KRjMST3"
      },
      "source": [
        "unzip_data(\"/content/10_food_classes_all_data.zip\")"
      ],
      "execution_count": 63,
      "outputs": []
    },
    {
      "cell_type": "code",
      "metadata": {
        "id": "zenDNiSuMTlX",
        "outputId": "88995e6e-1e61-4c42-99af-570298b4f4d2",
        "colab": {
          "base_uri": "https://localhost:8080/"
        }
      },
      "source": [
        "walk_through_dir(\"/content/10_food_classes_all_data\")"
      ],
      "execution_count": 64,
      "outputs": [
        {
          "output_type": "stream",
          "text": [
            "There are 2 directories and 0 images in '/content/10_food_classes_all_data'.\n",
            "There are 10 directories and 0 images in '/content/10_food_classes_all_data/test'.\n",
            "There are 0 directories and 250 images in '/content/10_food_classes_all_data/test/grilled_salmon'.\n",
            "There are 0 directories and 250 images in '/content/10_food_classes_all_data/test/fried_rice'.\n",
            "There are 0 directories and 250 images in '/content/10_food_classes_all_data/test/chicken_wings'.\n",
            "There are 0 directories and 250 images in '/content/10_food_classes_all_data/test/ramen'.\n",
            "There are 0 directories and 250 images in '/content/10_food_classes_all_data/test/hamburger'.\n",
            "There are 0 directories and 250 images in '/content/10_food_classes_all_data/test/pizza'.\n",
            "There are 0 directories and 250 images in '/content/10_food_classes_all_data/test/ice_cream'.\n",
            "There are 0 directories and 250 images in '/content/10_food_classes_all_data/test/steak'.\n",
            "There are 0 directories and 250 images in '/content/10_food_classes_all_data/test/sushi'.\n",
            "There are 0 directories and 250 images in '/content/10_food_classes_all_data/test/chicken_curry'.\n",
            "There are 10 directories and 0 images in '/content/10_food_classes_all_data/train'.\n",
            "There are 0 directories and 750 images in '/content/10_food_classes_all_data/train/grilled_salmon'.\n",
            "There are 0 directories and 750 images in '/content/10_food_classes_all_data/train/fried_rice'.\n",
            "There are 0 directories and 750 images in '/content/10_food_classes_all_data/train/chicken_wings'.\n",
            "There are 0 directories and 750 images in '/content/10_food_classes_all_data/train/ramen'.\n",
            "There are 0 directories and 750 images in '/content/10_food_classes_all_data/train/hamburger'.\n",
            "There are 0 directories and 750 images in '/content/10_food_classes_all_data/train/pizza'.\n",
            "There are 0 directories and 750 images in '/content/10_food_classes_all_data/train/ice_cream'.\n",
            "There are 0 directories and 750 images in '/content/10_food_classes_all_data/train/steak'.\n",
            "There are 0 directories and 750 images in '/content/10_food_classes_all_data/train/sushi'.\n",
            "There are 0 directories and 750 images in '/content/10_food_classes_all_data/train/chicken_curry'.\n"
          ],
          "name": "stdout"
        }
      ]
    },
    {
      "cell_type": "code",
      "metadata": {
        "id": "vdYKQOU5MTpM",
        "outputId": "82cb1265-29f3-4e31-cda1-2ff481e6b0e3",
        "colab": {
          "base_uri": "https://localhost:8080/"
        }
      },
      "source": [
        "#Data Preprocessing\n",
        "\n",
        "train_dir_04 = \"/content/10_food_classes_all_data/train\"\n",
        "test_dir_04 = \"/content/10_food_classes_all_data/test\"\n",
        "\n",
        "\n",
        "traindata = tf.keras.preprocessing.image_dataset_from_directory(directory=train_dir_04,\n",
        "                                                image_size=IMAGE_SHAPE,\n",
        "                                                label_mode = 'categorical',\n",
        "                                                batch_size = BATCH_SIZE)\n",
        "\n",
        "testdata = tf.keras.preprocessing.image_dataset_from_directory(directory=test_dir_04,\n",
        "                                                image_size=IMAGE_SHAPE,\n",
        "                                                label_mode = 'categorical',\n",
        "                                                batch_size = BATCH_SIZE)"
      ],
      "execution_count": 65,
      "outputs": [
        {
          "output_type": "stream",
          "text": [
            "Found 7500 files belonging to 10 classes.\n",
            "Found 2500 files belonging to 10 classes.\n"
          ],
          "name": "stdout"
        }
      ]
    },
    {
      "cell_type": "code",
      "metadata": {
        "id": "fTYbjMg5MTwe"
      },
      "source": [
        "\n",
        "base_model_04 = tf.keras.applications.EfficientNetB0(include_top=False)\n",
        "base_model_04.trainable = True\n",
        "\n",
        "for layer in base_model_04.layers[:-10]:\n",
        "  layer.trainable = False\n",
        "\n",
        "\n",
        "data_augmentation = tf.keras.Sequential([\n",
        "    preprocessing.RandomFlip('horizontal'),\n",
        "    preprocessing.RandomRotation(0.2),\n",
        "    preprocessing.RandomZoom(0.2),\n",
        "    preprocessing.RandomHeight(0.2)                                   \n",
        "],name = \"data_augmentation\")\n",
        "\n",
        "inputs = tf.keras.layers.Input(shape=(224,224,3),name='input_layer')\n",
        "#x = tf.keras.layers.experimental.preprocessing.Rescaling(1/255.)(inputs)\n",
        "x = data_augmentation(inputs)\n",
        "x = base_model_04(x)\n",
        "x = tf.keras.layers.GlobalAveragePooling2D(name='global_avg_pooling')(x)\n",
        "outputs = tf.keras.layers.Dense(10,activation=\"softmax\")(x)\n",
        "\n",
        "model_4 = tf.keras.Model(inputs,outputs)"
      ],
      "execution_count": 66,
      "outputs": []
    },
    {
      "cell_type": "code",
      "metadata": {
        "id": "3xsMbABOMsq4"
      },
      "source": [
        "model_4.compile(optimizer=tf.keras.optimizers.Adam(lr=0.0001),\n",
        "                loss='categorical_crossentropy',\n",
        "                metrics = ['accuracy'])"
      ],
      "execution_count": 67,
      "outputs": []
    },
    {
      "cell_type": "code",
      "metadata": {
        "id": "QpKqO6WDMsxI",
        "outputId": "a9434359-9539-4fdb-94f7-9f522c07fd06",
        "colab": {
          "base_uri": "https://localhost:8080/"
        }
      },
      "source": [
        "history_4  = model_4.fit(traindata,epochs=10,\n",
        "                         steps_per_epoch = len(traindata),\n",
        "                         validation_data = testdata,\n",
        "                         validation_steps = len(testdata),\n",
        "                         callbacks=[create_tensorboard_callback('transfer_learning','model_4')])"
      ],
      "execution_count": 68,
      "outputs": [
        {
          "output_type": "stream",
          "text": [
            "Saving TensorBoard log files to: transfer_learning/model_4/20210519-151912\n",
            "Epoch 1/10\n",
            "235/235 [==============================] - 49s 185ms/step - loss: 1.7074 - accuracy: 0.4671 - val_loss: 0.5369 - val_accuracy: 0.8384\n",
            "Epoch 2/10\n",
            "235/235 [==============================] - 41s 174ms/step - loss: 0.7973 - accuracy: 0.7626 - val_loss: 0.4083 - val_accuracy: 0.8672\n",
            "Epoch 3/10\n",
            "235/235 [==============================] - 41s 174ms/step - loss: 0.6703 - accuracy: 0.7995 - val_loss: 0.3621 - val_accuracy: 0.8824\n",
            "Epoch 4/10\n",
            "235/235 [==============================] - 41s 174ms/step - loss: 0.6060 - accuracy: 0.8116 - val_loss: 0.3379 - val_accuracy: 0.8872\n",
            "Epoch 5/10\n",
            "235/235 [==============================] - 41s 174ms/step - loss: 0.5521 - accuracy: 0.8262 - val_loss: 0.3193 - val_accuracy: 0.8920\n",
            "Epoch 6/10\n",
            "235/235 [==============================] - 41s 174ms/step - loss: 0.5173 - accuracy: 0.8461 - val_loss: 0.3114 - val_accuracy: 0.8964\n",
            "Epoch 7/10\n",
            "235/235 [==============================] - 41s 174ms/step - loss: 0.4854 - accuracy: 0.8473 - val_loss: 0.2985 - val_accuracy: 0.9028\n",
            "Epoch 8/10\n",
            "235/235 [==============================] - 41s 173ms/step - loss: 0.4589 - accuracy: 0.8562 - val_loss: 0.2910 - val_accuracy: 0.9068\n",
            "Epoch 9/10\n",
            "235/235 [==============================] - 41s 174ms/step - loss: 0.4460 - accuracy: 0.8571 - val_loss: 0.2847 - val_accuracy: 0.9076\n",
            "Epoch 10/10\n",
            "235/235 [==============================] - 41s 174ms/step - loss: 0.4272 - accuracy: 0.8676 - val_loss: 0.2792 - val_accuracy: 0.9096\n"
          ],
          "name": "stdout"
        }
      ]
    },
    {
      "cell_type": "code",
      "metadata": {
        "id": "2zGbmdTGMs7B",
        "outputId": "db214d29-50dc-4afe-efd5-872c56c7b0b3",
        "colab": {
          "base_uri": "https://localhost:8080/",
          "height": 282
        }
      },
      "source": [
        "pd.DataFrame(history_4.history).plot()"
      ],
      "execution_count": 69,
      "outputs": [
        {
          "output_type": "execute_result",
          "data": {
            "text/plain": [
              "<matplotlib.axes._subplots.AxesSubplot at 0x7ff525cd8410>"
            ]
          },
          "metadata": {
            "tags": []
          },
          "execution_count": 69
        },
        {
          "output_type": "display_data",
          "data": {
            "image/png": "[encoded data removed]",
            "text/plain": [
              "<Figure size 432x288 with 1 Axes>"
            ]
          },
          "metadata": {
            "tags": [],
            "needs_background": "light"
          }
        }
      ]
    },
    {
      "cell_type": "code",
      "metadata": {
        "id": "KgEAYY0QPdBh",
        "outputId": "2c44204b-1c7c-40ab-b036-e2933a88d176",
        "colab": {
          "base_uri": "https://localhost:8080/"
        }
      },
      "source": [
        "model_4.summary()"
      ],
      "execution_count": 70,
      "outputs": [
        {
          "output_type": "stream",
          "text": [
            "Model: \"model_7\"\n",
            "_________________________________________________________________\n",
            "Layer (type)                 Output Shape              Param #   \n",
            "=================================================================\n",
            "input_layer (InputLayer)     [(None, 224, 224, 3)]     0         \n",
            "_________________________________________________________________\n",
            "data_augmentation (Sequentia (None, None, 224, 3)      0         \n",
            "_________________________________________________________________\n",
            "efficientnetb0 (Functional)  (None, None, None, 1280)  4049571   \n",
            "_________________________________________________________________\n",
            "global_avg_pooling (GlobalAv (None, 1280)              0         \n",
            "_________________________________________________________________\n",
            "dense_7 (Dense)              (None, 10)                12810     \n",
            "=================================================================\n",
            "Total params: 4,062,381\n",
            "Trainable params: 906,042\n",
            "Non-trainable params: 3,156,339\n",
            "_________________________________________________________________\n"
          ],
          "name": "stdout"
        }
      ]
    }
  ]
}