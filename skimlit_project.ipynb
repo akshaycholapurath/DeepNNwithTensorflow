{
  "nbformat": 4,
  "nbformat_minor": 0,
  "metadata": {
    "colab": {
      "name": "skimlit_project.ipynb",
      "provenance": []
    },
    "kernelspec": {
      "name": "python3",
      "display_name": "Python 3"
    },
    "language_info": {
      "name": "python"
    },
    "accelerator": "GPU"
  },
  "cells": [
    {
      "cell_type": "code",
      "metadata": {
        "id": "z4zc8syAHzE_"
      },
      "source": [
        "import tensorflow as tf\n",
        "import pandas as pd\n",
        "import numpy as np\n",
        "import matplotlib.pyplot as plt"
      ],
      "execution_count": 1,
      "outputs": []
    },
    {
      "cell_type": "markdown",
      "metadata": {
        "id": "JzM_RIXIXBRz"
      },
      "source": [
        "# Data uploading and Preprocessing"
      ]
    },
    {
      "cell_type": "code",
      "metadata": {
        "colab": {
          "base_uri": "https://localhost:8080/"
        },
        "id": "dB3VGXLCNKtm",
        "outputId": "cf6a77a5-f142-4f52-a3d3-13e4ffc20924"
      },
      "source": [
        "!git clone https://github.com/Franck-Dernoncourt/pubmed-rct.git\n",
        "!ls pubmed-rct"
      ],
      "execution_count": 2,
      "outputs": [
        {
          "output_type": "stream",
          "text": [
            "Cloning into 'pubmed-rct'...\n",
            "remote: Enumerating objects: 30, done.\u001b[K\n",
            "remote: Total 30 (delta 0), reused 0 (delta 0), pack-reused 30\u001b[K\n",
            "Unpacking objects: 100% (30/30), done.\n",
            "PubMed_200k_RCT\n",
            "PubMed_200k_RCT_numbers_replaced_with_at_sign\n",
            "PubMed_20k_RCT\n",
            "PubMed_20k_RCT_numbers_replaced_with_at_sign\n",
            "README.md\n"
          ],
          "name": "stdout"
        }
      ]
    },
    {
      "cell_type": "code",
      "metadata": {
        "id": "4jkUaVjbNKwk"
      },
      "source": [
        "#Start with 20k dataset with numbers replaced as 0\n",
        "data_dir = \"/content/pubmed-rct/PubMed_20k_RCT_numbers_replaced_with_at_sign/\"\n"
      ],
      "execution_count": 3,
      "outputs": []
    },
    {
      "cell_type": "code",
      "metadata": {
        "colab": {
          "base_uri": "https://localhost:8080/"
        },
        "id": "3ZVSdEmzNKzO",
        "outputId": "29268711-aff7-4a81-9f16-050dc80bd719"
      },
      "source": [
        "import os\n",
        "filenames = [data_dir+filename for filename in os.listdir(data_dir)]\n",
        "filenames"
      ],
      "execution_count": 4,
      "outputs": [
        {
          "output_type": "execute_result",
          "data": {
            "text/plain": [
              "['/content/pubmed-rct/PubMed_20k_RCT_numbers_replaced_with_at_sign/test.txt',\n",
              " '/content/pubmed-rct/PubMed_20k_RCT_numbers_replaced_with_at_sign/dev.txt',\n",
              " '/content/pubmed-rct/PubMed_20k_RCT_numbers_replaced_with_at_sign/train.txt']"
            ]
          },
          "metadata": {
            "tags": []
          },
          "execution_count": 4
        }
      ]
    },
    {
      "cell_type": "code",
      "metadata": {
        "id": "7N2iK8ayNK2H"
      },
      "source": [
        "#Preprocess data\n",
        "\n",
        "def get_lines(filename):\n",
        "  with open(filename, \"r\") as f:\n",
        "    return f.readlines()\n"
      ],
      "execution_count": 5,
      "outputs": []
    },
    {
      "cell_type": "code",
      "metadata": {
        "id": "sER5Xot5NLHT"
      },
      "source": [
        "train_lines = get_lines('/content/pubmed-rct/PubMed_20k_RCT_numbers_replaced_with_at_sign/train.txt')"
      ],
      "execution_count": 6,
      "outputs": []
    },
    {
      "cell_type": "code",
      "metadata": {
        "colab": {
          "base_uri": "https://localhost:8080/"
        },
        "id": "YoPhJfMSNLJs",
        "outputId": "7657f954-7acb-4901-d27e-0926a327fbb1"
      },
      "source": [
        "train_lines[:10]"
      ],
      "execution_count": 7,
      "outputs": [
        {
          "output_type": "execute_result",
          "data": {
            "text/plain": [
              "['###24293578\\n',\n",
              " 'OBJECTIVE\\tTo investigate the efficacy of @ weeks of daily low-dose oral prednisolone in improving pain , mobility , and systemic low-grade inflammation in the short term and whether the effect would be sustained at @ weeks in older adults with moderate to severe knee osteoarthritis ( OA ) .\\n',\n",
              " 'METHODS\\tA total of @ patients with primary knee OA were randomized @:@ ; @ received @ mg/day of prednisolone and @ received placebo for @ weeks .\\n',\n",
              " 'METHODS\\tOutcome measures included pain reduction and improvement in function scores and systemic inflammation markers .\\n',\n",
              " 'METHODS\\tPain was assessed using the visual analog pain scale ( @-@ mm ) .\\n',\n",
              " 'METHODS\\tSecondary outcome measures included the Western Ontario and McMaster Universities Osteoarthritis Index scores , patient global assessment ( PGA ) of the severity of knee OA , and @-min walk distance ( @MWD ) .\\n',\n",
              " 'METHODS\\tSerum levels of interleukin @ ( IL-@ ) , IL-@ , tumor necrosis factor ( TNF ) - , and high-sensitivity C-reactive protein ( hsCRP ) were measured .\\n',\n",
              " 'RESULTS\\tThere was a clinically relevant reduction in the intervention group compared to the placebo group for knee pain , physical function , PGA , and @MWD at @ weeks .\\n',\n",
              " 'RESULTS\\tThe mean difference between treatment arms ( @ % CI ) was @ ( @-@ @ ) , p < @ ; @ ( @-@ @ ) , p < @ ; @ ( @-@ @ ) , p < @ ; and @ ( @-@ @ ) , p < @ , respectively .\\n',\n",
              " 'RESULTS\\tFurther , there was a clinically relevant reduction in the serum levels of IL-@ , IL-@ , TNF - , and hsCRP at @ weeks in the intervention group when compared to the placebo group .\\n']"
            ]
          },
          "metadata": {
            "tags": []
          },
          "execution_count": 7
        }
      ]
    },
    {
      "cell_type": "code",
      "metadata": {
        "colab": {
          "base_uri": "https://localhost:8080/"
        },
        "id": "jcUyWkw5Vf74",
        "outputId": "e7d6dcff-fa9a-445d-b261-90897e602171"
      },
      "source": [
        "len(train_lines)"
      ],
      "execution_count": 8,
      "outputs": [
        {
          "output_type": "execute_result",
          "data": {
            "text/plain": [
              "210040"
            ]
          },
          "metadata": {
            "tags": []
          },
          "execution_count": 8
        }
      ]
    },
    {
      "cell_type": "markdown",
      "metadata": {
        "id": "MnfFodjAGFAK"
      },
      "source": [
        "**Creating a function to read the text and covert them into a dict**"
      ]
    },
    {
      "cell_type": "code",
      "metadata": {
        "id": "FgF8C801NLMS"
      },
      "source": [
        "def seperator(filename):\n",
        "  lines = get_lines(filename)\n",
        "  abstract_lines = ''\n",
        "  abstract_samples=[]\n",
        "  for line in lines:\n",
        "    if line.startswith('###'):\n",
        "      abstract_id= line\n",
        "      abstract_lines = ''\n",
        "    elif line.isspace():\n",
        "      abstract_lines_split = abstract_lines.splitlines()\n",
        "\n",
        "      for abstract_line_number, abstract_line in enumerate(abstract_lines_split):\n",
        "        line_data={}\n",
        "        target_text_split = abstract_line.split('\\t')\n",
        "        line_data['line_number'] = abstract_line_number\n",
        "        line_data['target'] = target_text_split[0]\n",
        "        line_data['text'] = target_text_split[1].lower()\n",
        "        line_data['total_lines'] = len(abstract_lines_split) -1\n",
        "\n",
        "        abstract_samples.append(line_data)\n",
        "    else:\n",
        "       abstract_lines = abstract_lines + line\n",
        "  return abstract_samples \n",
        "\n",
        "    \n"
      ],
      "execution_count": 9,
      "outputs": []
    },
    {
      "cell_type": "code",
      "metadata": {
        "id": "WxJ6isO7NLO1"
      },
      "source": [
        "train_samples = seperator('/content/pubmed-rct/PubMed_20k_RCT_numbers_replaced_with_at_sign/train.txt')\n",
        "val_samples = seperator('/content/pubmed-rct/PubMed_20k_RCT_numbers_replaced_with_at_sign/dev.txt')\n",
        "test_samples = seperator('/content/pubmed-rct/PubMed_20k_RCT_numbers_replaced_with_at_sign/test.txt')"
      ],
      "execution_count": 10,
      "outputs": []
    },
    {
      "cell_type": "code",
      "metadata": {
        "colab": {
          "base_uri": "https://localhost:8080/"
        },
        "id": "PTtJHKlpNLY_",
        "outputId": "ba115ece-aada-46b7-d92c-7b761f2df094"
      },
      "source": [
        "len(train_samples)"
      ],
      "execution_count": 11,
      "outputs": [
        {
          "output_type": "execute_result",
          "data": {
            "text/plain": [
              "180040"
            ]
          },
          "metadata": {
            "tags": []
          },
          "execution_count": 11
        }
      ]
    },
    {
      "cell_type": "code",
      "metadata": {
        "colab": {
          "base_uri": "https://localhost:8080/"
        },
        "id": "S19j7cpH648U",
        "outputId": "fb37409c-0476-4559-af21-db9a243d8aef"
      },
      "source": [
        "train_samples[:10]"
      ],
      "execution_count": 12,
      "outputs": [
        {
          "output_type": "execute_result",
          "data": {
            "text/plain": [
              "[{'line_number': 0,\n",
              "  'target': 'OBJECTIVE',\n",
              "  'text': 'to investigate the efficacy of @ weeks of daily low-dose oral prednisolone in improving pain , mobility , and systemic low-grade inflammation in the short term and whether the effect would be sustained at @ weeks in older adults with moderate to severe knee osteoarthritis ( oa ) .',\n",
              "  'total_lines': 11},\n",
              " {'line_number': 1,\n",
              "  'target': 'METHODS',\n",
              "  'text': 'a total of @ patients with primary knee oa were randomized @:@ ; @ received @ mg/day of prednisolone and @ received placebo for @ weeks .',\n",
              "  'total_lines': 11},\n",
              " {'line_number': 2,\n",
              "  'target': 'METHODS',\n",
              "  'text': 'outcome measures included pain reduction and improvement in function scores and systemic inflammation markers .',\n",
              "  'total_lines': 11},\n",
              " {'line_number': 3,\n",
              "  'target': 'METHODS',\n",
              "  'text': 'pain was assessed using the visual analog pain scale ( @-@ mm ) .',\n",
              "  'total_lines': 11},\n",
              " {'line_number': 4,\n",
              "  'target': 'METHODS',\n",
              "  'text': 'secondary outcome measures included the western ontario and mcmaster universities osteoarthritis index scores , patient global assessment ( pga ) of the severity of knee oa , and @-min walk distance ( @mwd ) .',\n",
              "  'total_lines': 11},\n",
              " {'line_number': 5,\n",
              "  'target': 'METHODS',\n",
              "  'text': 'serum levels of interleukin @ ( il-@ ) , il-@ , tumor necrosis factor ( tnf ) - , and high-sensitivity c-reactive protein ( hscrp ) were measured .',\n",
              "  'total_lines': 11},\n",
              " {'line_number': 6,\n",
              "  'target': 'RESULTS',\n",
              "  'text': 'there was a clinically relevant reduction in the intervention group compared to the placebo group for knee pain , physical function , pga , and @mwd at @ weeks .',\n",
              "  'total_lines': 11},\n",
              " {'line_number': 7,\n",
              "  'target': 'RESULTS',\n",
              "  'text': 'the mean difference between treatment arms ( @ % ci ) was @ ( @-@ @ ) , p < @ ; @ ( @-@ @ ) , p < @ ; @ ( @-@ @ ) , p < @ ; and @ ( @-@ @ ) , p < @ , respectively .',\n",
              "  'total_lines': 11},\n",
              " {'line_number': 8,\n",
              "  'target': 'RESULTS',\n",
              "  'text': 'further , there was a clinically relevant reduction in the serum levels of il-@ , il-@ , tnf - , and hscrp at @ weeks in the intervention group when compared to the placebo group .',\n",
              "  'total_lines': 11},\n",
              " {'line_number': 9,\n",
              "  'target': 'RESULTS',\n",
              "  'text': 'these differences remained significant at @ weeks .',\n",
              "  'total_lines': 11}]"
            ]
          },
          "metadata": {
            "tags": []
          },
          "execution_count": 12
        }
      ]
    },
    {
      "cell_type": "code",
      "metadata": {
        "id": "wGII1OcONLb3"
      },
      "source": [
        "train_df = pd.DataFrame(train_samples)\n",
        "val_df = pd.DataFrame(val_samples)\n",
        "test_df = pd.DataFrame(test_samples)"
      ],
      "execution_count": 13,
      "outputs": []
    },
    {
      "cell_type": "code",
      "metadata": {
        "colab": {
          "base_uri": "https://localhost:8080/",
          "height": 631
        },
        "id": "ltJncNZ_NLei",
        "outputId": "f1d110cc-81ee-4fa4-fb63-7015fde3604d"
      },
      "source": [
        "train_df.head(14)"
      ],
      "execution_count": 14,
      "outputs": [
        {
          "output_type": "execute_result",
          "data": {
            "text/html": [
              "<div>\n",
              "<style scoped>\n",
              "    .dataframe tbody tr th:only-of-type {\n",
              "        vertical-align: middle;\n",
              "    }\n",
              "\n",
              "    .dataframe tbody tr th {\n",
              "        vertical-align: top;\n",
              "    }\n",
              "\n",
              "    .dataframe thead th {\n",
              "        text-align: right;\n",
              "    }\n",
              "</style>\n",
              "<table border=\"1\" class=\"dataframe\">\n",
              "  <thead>\n",
              "    <tr style=\"text-align: right;\">\n",
              "      <th></th>\n",
              "      <th>line_number</th>\n",
              "      <th>target</th>\n",
              "      <th>text</th>\n",
              "      <th>total_lines</th>\n",
              "    </tr>\n",
              "  </thead>\n",
              "  <tbody>\n",
              "    <tr>\n",
              "      <th>0</th>\n",
              "      <td>0</td>\n",
              "      <td>OBJECTIVE</td>\n",
              "      <td>to investigate the efficacy of @ weeks of dail...</td>\n",
              "      <td>11</td>\n",
              "    </tr>\n",
              "    <tr>\n",
              "      <th>1</th>\n",
              "      <td>1</td>\n",
              "      <td>METHODS</td>\n",
              "      <td>a total of @ patients with primary knee oa wer...</td>\n",
              "      <td>11</td>\n",
              "    </tr>\n",
              "    <tr>\n",
              "      <th>2</th>\n",
              "      <td>2</td>\n",
              "      <td>METHODS</td>\n",
              "      <td>outcome measures included pain reduction and i...</td>\n",
              "      <td>11</td>\n",
              "    </tr>\n",
              "    <tr>\n",
              "      <th>3</th>\n",
              "      <td>3</td>\n",
              "      <td>METHODS</td>\n",
              "      <td>pain was assessed using the visual analog pain...</td>\n",
              "      <td>11</td>\n",
              "    </tr>\n",
              "    <tr>\n",
              "      <th>4</th>\n",
              "      <td>4</td>\n",
              "      <td>METHODS</td>\n",
              "      <td>secondary outcome measures included the wester...</td>\n",
              "      <td>11</td>\n",
              "    </tr>\n",
              "    <tr>\n",
              "      <th>5</th>\n",
              "      <td>5</td>\n",
              "      <td>METHODS</td>\n",
              "      <td>serum levels of interleukin @ ( il-@ ) , il-@ ...</td>\n",
              "      <td>11</td>\n",
              "    </tr>\n",
              "    <tr>\n",
              "      <th>6</th>\n",
              "      <td>6</td>\n",
              "      <td>RESULTS</td>\n",
              "      <td>there was a clinically relevant reduction in t...</td>\n",
              "      <td>11</td>\n",
              "    </tr>\n",
              "    <tr>\n",
              "      <th>7</th>\n",
              "      <td>7</td>\n",
              "      <td>RESULTS</td>\n",
              "      <td>the mean difference between treatment arms ( @...</td>\n",
              "      <td>11</td>\n",
              "    </tr>\n",
              "    <tr>\n",
              "      <th>8</th>\n",
              "      <td>8</td>\n",
              "      <td>RESULTS</td>\n",
              "      <td>further , there was a clinically relevant redu...</td>\n",
              "      <td>11</td>\n",
              "    </tr>\n",
              "    <tr>\n",
              "      <th>9</th>\n",
              "      <td>9</td>\n",
              "      <td>RESULTS</td>\n",
              "      <td>these differences remained significant at @ we...</td>\n",
              "      <td>11</td>\n",
              "    </tr>\n",
              "    <tr>\n",
              "      <th>10</th>\n",
              "      <td>10</td>\n",
              "      <td>RESULTS</td>\n",
              "      <td>the outcome measures in rheumatology clinical ...</td>\n",
              "      <td>11</td>\n",
              "    </tr>\n",
              "    <tr>\n",
              "      <th>11</th>\n",
              "      <td>11</td>\n",
              "      <td>CONCLUSIONS</td>\n",
              "      <td>low-dose oral prednisolone had both a short-te...</td>\n",
              "      <td>11</td>\n",
              "    </tr>\n",
              "    <tr>\n",
              "      <th>12</th>\n",
              "      <td>0</td>\n",
              "      <td>BACKGROUND</td>\n",
              "      <td>emotional eating is associated with overeating...</td>\n",
              "      <td>10</td>\n",
              "    </tr>\n",
              "    <tr>\n",
              "      <th>13</th>\n",
              "      <td>1</td>\n",
              "      <td>BACKGROUND</td>\n",
              "      <td>yet , empirical evidence for individual ( trai...</td>\n",
              "      <td>10</td>\n",
              "    </tr>\n",
              "  </tbody>\n",
              "</table>\n",
              "</div>"
            ],
            "text/plain": [
              "    line_number  ... total_lines\n",
              "0             0  ...          11\n",
              "1             1  ...          11\n",
              "2             2  ...          11\n",
              "3             3  ...          11\n",
              "4             4  ...          11\n",
              "5             5  ...          11\n",
              "6             6  ...          11\n",
              "7             7  ...          11\n",
              "8             8  ...          11\n",
              "9             9  ...          11\n",
              "10           10  ...          11\n",
              "11           11  ...          11\n",
              "12            0  ...          10\n",
              "13            1  ...          10\n",
              "\n",
              "[14 rows x 4 columns]"
            ]
          },
          "metadata": {
            "tags": []
          },
          "execution_count": 14
        }
      ]
    },
    {
      "cell_type": "code",
      "metadata": {
        "colab": {
          "base_uri": "https://localhost:8080/"
        },
        "id": "A3ksJj5ONLgt",
        "outputId": "97a271d7-2b8b-4a77-d4eb-4a49195b7eca"
      },
      "source": [
        "train_df['target'].value_counts()"
      ],
      "execution_count": 15,
      "outputs": [
        {
          "output_type": "execute_result",
          "data": {
            "text/plain": [
              "METHODS        59353\n",
              "RESULTS        57953\n",
              "CONCLUSIONS    27168\n",
              "BACKGROUND     21727\n",
              "OBJECTIVE      13839\n",
              "Name: target, dtype: int64"
            ]
          },
          "metadata": {
            "tags": []
          },
          "execution_count": 15
        }
      ]
    },
    {
      "cell_type": "code",
      "metadata": {
        "id": "lsDJZNSKNLj2"
      },
      "source": [
        "#seperating text and label\n",
        "train_text = train_df['text'].tolist()\n",
        "val_text = val_df['text'].tolist()\n",
        "test_text = test_df['text'].tolist()"
      ],
      "execution_count": 16,
      "outputs": []
    },
    {
      "cell_type": "markdown",
      "metadata": {
        "id": "_qw325asF6L5"
      },
      "source": [
        "**Encoding the Label for Multi-Class Classification**"
      ]
    },
    {
      "cell_type": "code",
      "metadata": {
        "id": "bIR_gQPw8ino"
      },
      "source": [
        "#one hot encoding\n",
        "from sklearn.preprocessing import OneHotEncoder\n",
        "one_hot_encoder = OneHotEncoder(sparse=False)\n",
        "\n",
        "train_target = one_hot_encoder.fit_transform(train_df['target'].to_numpy().reshape(-1,1))\n",
        "val_target = one_hot_encoder.transform(val_df['target'].to_numpy().reshape(-1,1))\n",
        "test_target = one_hot_encoder.transform(test_df['target'].to_numpy().reshape(-1,1))"
      ],
      "execution_count": 17,
      "outputs": []
    },
    {
      "cell_type": "code",
      "metadata": {
        "colab": {
          "base_uri": "https://localhost:8080/"
        },
        "id": "o9zgp88C8uhI",
        "outputId": "bdab7f6a-b745-4cd4-cb97-b60393d3239c"
      },
      "source": [
        "train_target[:10]"
      ],
      "execution_count": 18,
      "outputs": [
        {
          "output_type": "execute_result",
          "data": {
            "text/plain": [
              "array([[0., 0., 0., 1., 0.],\n",
              "       [0., 0., 1., 0., 0.],\n",
              "       [0., 0., 1., 0., 0.],\n",
              "       [0., 0., 1., 0., 0.],\n",
              "       [0., 0., 1., 0., 0.],\n",
              "       [0., 0., 1., 0., 0.],\n",
              "       [0., 0., 0., 0., 1.],\n",
              "       [0., 0., 0., 0., 1.],\n",
              "       [0., 0., 0., 0., 1.],\n",
              "       [0., 0., 0., 0., 1.]])"
            ]
          },
          "metadata": {
            "tags": []
          },
          "execution_count": 18
        }
      ]
    },
    {
      "cell_type": "code",
      "metadata": {
        "id": "kqHzkYL_--F4"
      },
      "source": [
        "#Label Encoder\n",
        "from sklearn.preprocessing import LabelEncoder\n",
        "label_encoder = LabelEncoder()\n",
        "\n",
        "train_target1 = label_encoder.fit_transform(train_df['target'].to_numpy())\n",
        "val_target1 = label_encoder.transform(val_df['target'].to_numpy())\n",
        "test_target1 = label_encoder.transform(test_df['target'].to_numpy())"
      ],
      "execution_count": 19,
      "outputs": []
    },
    {
      "cell_type": "code",
      "metadata": {
        "colab": {
          "base_uri": "https://localhost:8080/"
        },
        "id": "yv6GJNOY_eIN",
        "outputId": "c95df3a3-b223-4d82-db0b-14988e8753cf"
      },
      "source": [
        "train_target1[:10]"
      ],
      "execution_count": 20,
      "outputs": [
        {
          "output_type": "execute_result",
          "data": {
            "text/plain": [
              "array([3, 2, 2, 2, 2, 2, 4, 4, 4, 4])"
            ]
          },
          "metadata": {
            "tags": []
          },
          "execution_count": 20
        }
      ]
    },
    {
      "cell_type": "code",
      "metadata": {
        "colab": {
          "base_uri": "https://localhost:8080/"
        },
        "id": "9A689CQJ_3wT",
        "outputId": "815d94e2-7be4-44d5-a03d-6c2f885a231d"
      },
      "source": [
        "#Get classnames from label encoder\n",
        "\n",
        "num_classes  = len(label_encoder.classes_)\n",
        "class_names = label_encoder.classes_\n",
        "num_classes,class_names"
      ],
      "execution_count": 21,
      "outputs": [
        {
          "output_type": "execute_result",
          "data": {
            "text/plain": [
              "(5, array(['BACKGROUND', 'CONCLUSIONS', 'METHODS', 'OBJECTIVE', 'RESULTS'],\n",
              "       dtype=object))"
            ]
          },
          "metadata": {
            "tags": []
          },
          "execution_count": 21
        }
      ]
    },
    {
      "cell_type": "code",
      "metadata": {
        "colab": {
          "base_uri": "https://localhost:8080/"
        },
        "id": "6UsQbOXkNLmO",
        "outputId": "434dcf30-d8f2-4f62-d9ec-3412c150b987"
      },
      "source": [
        "train_text[:10]"
      ],
      "execution_count": 22,
      "outputs": [
        {
          "output_type": "execute_result",
          "data": {
            "text/plain": [
              "['to investigate the efficacy of @ weeks of daily low-dose oral prednisolone in improving pain , mobility , and systemic low-grade inflammation in the short term and whether the effect would be sustained at @ weeks in older adults with moderate to severe knee osteoarthritis ( oa ) .',\n",
              " 'a total of @ patients with primary knee oa were randomized @:@ ; @ received @ mg/day of prednisolone and @ received placebo for @ weeks .',\n",
              " 'outcome measures included pain reduction and improvement in function scores and systemic inflammation markers .',\n",
              " 'pain was assessed using the visual analog pain scale ( @-@ mm ) .',\n",
              " 'secondary outcome measures included the western ontario and mcmaster universities osteoarthritis index scores , patient global assessment ( pga ) of the severity of knee oa , and @-min walk distance ( @mwd ) .',\n",
              " 'serum levels of interleukin @ ( il-@ ) , il-@ , tumor necrosis factor ( tnf ) - , and high-sensitivity c-reactive protein ( hscrp ) were measured .',\n",
              " 'there was a clinically relevant reduction in the intervention group compared to the placebo group for knee pain , physical function , pga , and @mwd at @ weeks .',\n",
              " 'the mean difference between treatment arms ( @ % ci ) was @ ( @-@ @ ) , p < @ ; @ ( @-@ @ ) , p < @ ; @ ( @-@ @ ) , p < @ ; and @ ( @-@ @ ) , p < @ , respectively .',\n",
              " 'further , there was a clinically relevant reduction in the serum levels of il-@ , il-@ , tnf - , and hscrp at @ weeks in the intervention group when compared to the placebo group .',\n",
              " 'these differences remained significant at @ weeks .']"
            ]
          },
          "metadata": {
            "tags": []
          },
          "execution_count": 22
        }
      ]
    },
    {
      "cell_type": "markdown",
      "metadata": {
        "id": "rwAdCZ_3Itxe"
      },
      "source": [
        "# Model_0 : Naive Bayes with TF-IDF encoder"
      ]
    },
    {
      "cell_type": "code",
      "metadata": {
        "id": "g5HsT4nV8V3w",
        "colab": {
          "base_uri": "https://localhost:8080/"
        },
        "outputId": "762a9a10-fa02-49fe-81eb-dbb6e03753d4"
      },
      "source": [
        "from sklearn.feature_extraction.text import TfidfVectorizer\n",
        "from sklearn.naive_bayes import MultinomialNB\n",
        "from sklearn.pipeline import Pipeline\n",
        "\n",
        "model_0 = Pipeline([\n",
        "          ('tfidf',TfidfVectorizer()),\n",
        "          ('clf',MultinomialNB())\n",
        "])\n",
        "#use the label encoded target\n",
        "model_0.fit(train_text,train_target1)\n"
      ],
      "execution_count": 23,
      "outputs": [
        {
          "output_type": "execute_result",
          "data": {
            "text/plain": [
              "Pipeline(memory=None,\n",
              "         steps=[('tfidf',\n",
              "                 TfidfVectorizer(analyzer='word', binary=False,\n",
              "                                 decode_error='strict',\n",
              "                                 dtype=<class 'numpy.float64'>,\n",
              "                                 encoding='utf-8', input='content',\n",
              "                                 lowercase=True, max_df=1.0, max_features=None,\n",
              "                                 min_df=1, ngram_range=(1, 1), norm='l2',\n",
              "                                 preprocessor=None, smooth_idf=True,\n",
              "                                 stop_words=None, strip_accents=None,\n",
              "                                 sublinear_tf=False,\n",
              "                                 token_pattern='(?u)\\\\b\\\\w\\\\w+\\\\b',\n",
              "                                 tokenizer=None, use_idf=True,\n",
              "                                 vocabulary=None)),\n",
              "                ('clf',\n",
              "                 MultinomialNB(alpha=1.0, class_prior=None, fit_prior=True))],\n",
              "         verbose=False)"
            ]
          },
          "metadata": {
            "tags": []
          },
          "execution_count": 23
        }
      ]
    },
    {
      "cell_type": "code",
      "metadata": {
        "id": "fuuJLu5l8V8M",
        "colab": {
          "base_uri": "https://localhost:8080/"
        },
        "outputId": "cf72fd60-a007-451f-9d31-ba03dfdfc5e0"
      },
      "source": [
        "model0_score = model_0.score(val_text,val_target1)\n",
        "model0_score"
      ],
      "execution_count": 24,
      "outputs": [
        {
          "output_type": "execute_result",
          "data": {
            "text/plain": [
              "0.7218323844829869"
            ]
          },
          "metadata": {
            "tags": []
          },
          "execution_count": 24
        }
      ]
    },
    {
      "cell_type": "code",
      "metadata": {
        "id": "zMdPYO748V_Z"
      },
      "source": [
        "#Creating a classification metrics function\n",
        "from sklearn.metrics import accuracy_score, precision_recall_fscore_support\n",
        "\n",
        "def calculate_results(y_true,y_pred):\n",
        "  acc = accuracy_score(y_true,y_pred)*100\n",
        "  model_precision, model_recall, model_f1, _ = precision_recall_fscore_support(y_true, y_pred, average=\"weighted\")\n",
        "  model_results = { \"Accuracy\":acc,\n",
        "                    \"Precision\":model_precision,\n",
        "                    \"Recall\" :model_recall,\n",
        "                     \"F1_score\":model_f1 \n",
        "  }\n",
        "  return model_results\n"
      ],
      "execution_count": 25,
      "outputs": []
    },
    {
      "cell_type": "code",
      "metadata": {
        "id": "BD6EkpgCJlcu"
      },
      "source": [
        "model0_preds = model_0.predict(val_text)"
      ],
      "execution_count": 26,
      "outputs": []
    },
    {
      "cell_type": "code",
      "metadata": {
        "colab": {
          "base_uri": "https://localhost:8080/"
        },
        "id": "ezGzJxY4KyZt",
        "outputId": "d732f8e5-3b7f-4ba9-9db0-2fdec1e56c25"
      },
      "source": [
        "model0_preds"
      ],
      "execution_count": 27,
      "outputs": [
        {
          "output_type": "execute_result",
          "data": {
            "text/plain": [
              "array([4, 1, 3, ..., 4, 4, 1])"
            ]
          },
          "metadata": {
            "tags": []
          },
          "execution_count": 27
        }
      ]
    },
    {
      "cell_type": "code",
      "metadata": {
        "id": "--jSVn1z8WCG",
        "colab": {
          "base_uri": "https://localhost:8080/"
        },
        "outputId": "6f0fae71-5bc3-423c-dc3d-b7d12613c4e6"
      },
      "source": [
        "calculate_results(val_target1,model0_preds)"
      ],
      "execution_count": 28,
      "outputs": [
        {
          "output_type": "execute_result",
          "data": {
            "text/plain": [
              "{'Accuracy': 72.1832384482987,\n",
              " 'F1_score': 0.6989250353450294,\n",
              " 'Precision': 0.7186466952323352,\n",
              " 'Recall': 0.7218323844829869}"
            ]
          },
          "metadata": {
            "tags": []
          },
          "execution_count": 28
        }
      ]
    },
    {
      "cell_type": "markdown",
      "metadata": {
        "id": "agpzGbT8LL43"
      },
      "source": [
        "# Tokenize for Deep NN"
      ]
    },
    {
      "cell_type": "code",
      "metadata": {
        "id": "j3-4UDqz8WE_",
        "colab": {
          "base_uri": "https://localhost:8080/"
        },
        "outputId": "7bd16d78-0acc-425a-89b5-310f4895817e"
      },
      "source": [
        "#How long is the sentence on average\n",
        "round(sum([len(i.split()) for i in train_text])/len(train_text))"
      ],
      "execution_count": 29,
      "outputs": [
        {
          "output_type": "execute_result",
          "data": {
            "text/plain": [
              "26"
            ]
          },
          "metadata": {
            "tags": []
          },
          "execution_count": 29
        }
      ]
    },
    {
      "cell_type": "code",
      "metadata": {
        "colab": {
          "base_uri": "https://localhost:8080/",
          "height": 0
        },
        "id": "8LUwCmv0Ni1_",
        "outputId": "cc604684-333c-479b-9605-320975c9066c"
      },
      "source": [
        "#Distribution of sentence length\n",
        "sent_length = [len(i.split()) for i in train_text]\n",
        "plt.hist(sent_length,bins=30)"
      ],
      "execution_count": 30,
      "outputs": [
        {
          "output_type": "execute_result",
          "data": {
            "text/plain": [
              "(array([1.6499e+04, 5.6664e+04, 5.2683e+04, 2.9050e+04, 1.3111e+04,\n",
              "        5.6610e+03, 3.0490e+03, 1.5190e+03, 8.0800e+02, 4.3200e+02,\n",
              "        2.2600e+02, 1.2800e+02, 7.7000e+01, 3.9000e+01, 3.0000e+01,\n",
              "        1.5000e+01, 9.0000e+00, 8.0000e+00, 4.0000e+00, 8.0000e+00,\n",
              "        7.0000e+00, 5.0000e+00, 1.0000e+00, 2.0000e+00, 3.0000e+00,\n",
              "        0.0000e+00, 0.0000e+00, 1.0000e+00, 0.0000e+00, 1.0000e+00]),\n",
              " array([  1.        ,  10.83333333,  20.66666667,  30.5       ,\n",
              "         40.33333333,  50.16666667,  60.        ,  69.83333333,\n",
              "         79.66666667,  89.5       ,  99.33333333, 109.16666667,\n",
              "        119.        , 128.83333333, 138.66666667, 148.5       ,\n",
              "        158.33333333, 168.16666667, 178.        , 187.83333333,\n",
              "        197.66666667, 207.5       , 217.33333333, 227.16666667,\n",
              "        237.        , 246.83333333, 256.66666667, 266.5       ,\n",
              "        276.33333333, 286.16666667, 296.        ]),\n",
              " <a list of 30 Patch objects>)"
            ]
          },
          "metadata": {
            "tags": []
          },
          "execution_count": 30
        },
        {
          "output_type": "display_data",
          "data": {
            "image/png": "[encoded data removed]",
            "text/plain": [
              "<Figure size 432x288 with 1 Axes>"
            ]
          },
          "metadata": {
            "tags": [],
            "needs_background": "light"
          }
        }
      ]
    },
    {
      "cell_type": "code",
      "metadata": {
        "colab": {
          "base_uri": "https://localhost:8080/"
        },
        "id": "yKX2VI4KOOSB",
        "outputId": "57c21d81-b704-44fc-93a3-08bd20b6aa88"
      },
      "source": [
        "#How long of a sentence length cover 95% train data?\n",
        "\n",
        "output_len = int(np.percentile(sent_length,95))\n",
        "output_len"
      ],
      "execution_count": 31,
      "outputs": [
        {
          "output_type": "execute_result",
          "data": {
            "text/plain": [
              "55"
            ]
          },
          "metadata": {
            "tags": []
          },
          "execution_count": 31
        }
      ]
    },
    {
      "cell_type": "code",
      "metadata": {
        "id": "8ZoRdxLa8WHX"
      },
      "source": [
        "from tensorflow.keras.layers.experimental.preprocessing import TextVectorization\n",
        "\n",
        "max_vocab_size=68000\n",
        "max_length = 55\n",
        "\n",
        "text_vectorizer = TextVectorization(max_tokens=max_vocab_size,\n",
        "                                    output_sequence_length=max_length,\n",
        "                                    standardize='lower_and_strip_punctuation',\n",
        "                                    split='whitespace',\n",
        "                                    pad_to_max_tokens=True)\n",
        "\n",
        "#Fit text_vectorizer to training data\n",
        "text_vectorizer.adapt(train_text)"
      ],
      "execution_count": 32,
      "outputs": []
    },
    {
      "cell_type": "code",
      "metadata": {
        "colab": {
          "base_uri": "https://localhost:8080/"
        },
        "id": "j7tMyv7aRCjw",
        "outputId": "690fbb14-ec47-4bd1-bf0d-62d8c08dc4a9"
      },
      "source": [
        "#Test out text vectorizer\n",
        "import random\n",
        "sample = random.choice(train_text)\n",
        "print(f\"sample sentence: {sample}\")\n",
        "print(f\"Length of sample sentence: {len(sample.split())}\")\n",
        "print(f\"sample sentence: {text_vectorizer([sample])}\")"
      ],
      "execution_count": 33,
      "outputs": [
        {
          "output_type": "stream",
          "text": [
            "sample sentence: cto of surgically bypassed coronary arteries @ year after coronary artery bypass grafting is extremely common .\n",
            "Length of sample sentence: 17\n",
            "sample sentence: [[ 8739     4  5533 27242   346  3489   157    21   346   543  1159  2864\n",
            "     20  3945   317     0     0     0     0     0     0     0     0     0\n",
            "      0     0     0     0     0     0     0     0     0     0     0     0\n",
            "      0     0     0     0     0     0     0     0     0     0     0     0\n",
            "      0     0     0     0     0     0     0]]\n"
          ],
          "name": "stdout"
        }
      ]
    },
    {
      "cell_type": "code",
      "metadata": {
        "colab": {
          "base_uri": "https://localhost:8080/"
        },
        "id": "mgghc0kVRqe5",
        "outputId": "f3ea98a2-de9b-4461-a4b3-5899947ced07"
      },
      "source": [
        "sam_vector = text_vectorizer([sample])\n",
        "sam_vector.shape"
      ],
      "execution_count": 34,
      "outputs": [
        {
          "output_type": "execute_result",
          "data": {
            "text/plain": [
              "TensorShape([1, 55])"
            ]
          },
          "metadata": {
            "tags": []
          },
          "execution_count": 34
        }
      ]
    },
    {
      "cell_type": "code",
      "metadata": {
        "colab": {
          "base_uri": "https://localhost:8080/"
        },
        "id": "bf5zzmaHSDmY",
        "outputId": "16ebb183-3ec7-4d94-c0f3-3d8ab87065e2"
      },
      "source": [
        "#Total words in our vectorizer vocab\n",
        "vocab = text_vectorizer.get_vocabulary()\n",
        "print(f\"No of words in vocab: {len(vocab)}\")\n",
        "print(f\"Most Common words in vocab: {vocab[:5]}\")\n",
        "print(f\"Least common words in vocab: {vocab[-5:]}\")"
      ],
      "execution_count": 35,
      "outputs": [
        {
          "output_type": "stream",
          "text": [
            "No of words in vocab: 64841\n",
            "Most Common words in vocab: ['', '[UNK]', 'the', 'and', 'of']\n",
            "Least common words in vocab: ['aainduced', 'aaigroup', 'aachener', 'aachen', 'aaacp']\n"
          ],
          "name": "stdout"
        }
      ]
    },
    {
      "cell_type": "markdown",
      "metadata": {
        "id": "bTCCHso2L2TY"
      },
      "source": [
        "# Embedding"
      ]
    },
    {
      "cell_type": "code",
      "metadata": {
        "id": "-2XszCbt8WJY"
      },
      "source": [
        "from tensorflow.keras import layers\n",
        "\n",
        "#converts each int token into a 128 dim vector randomly initialized\n",
        "\n",
        "embedding = layers.Embedding(input_dim = max_vocab_size,\n",
        "                             output_dim = 128,\n",
        "                             mask_zero=True,\n",
        "                             input_length=max_length,\n",
        "                             name='token_embedding')"
      ],
      "execution_count": 36,
      "outputs": []
    },
    {
      "cell_type": "code",
      "metadata": {
        "id": "6_q9tvyR8WLd",
        "colab": {
          "base_uri": "https://localhost:8080/"
        },
        "outputId": "d0750da5-b9a8-4598-fb51-1657a959e202"
      },
      "source": [
        "#Embedding Example\n",
        "print(f\"sample sentence: {sample}\\n\")\n",
        "vec_sample = text_vectorizer([sample])\n",
        "print(f\"Text vector sentence: {vec_sample}\\n\")\n",
        "embed_sample = embedding(vec_sample)\n",
        "print(f\"Embedding sentence: {embed_sample}\")"
      ],
      "execution_count": 37,
      "outputs": [
        {
          "output_type": "stream",
          "text": [
            "sample sentence: cto of surgically bypassed coronary arteries @ year after coronary artery bypass grafting is extremely common .\n",
            "\n",
            "Text vector sentence: [[ 8739     4  5533 27242   346  3489   157    21   346   543  1159  2864\n",
            "     20  3945   317     0     0     0     0     0     0     0     0     0\n",
            "      0     0     0     0     0     0     0     0     0     0     0     0\n",
            "      0     0     0     0     0     0     0     0     0     0     0     0\n",
            "      0     0     0     0     0     0     0]]\n",
            "\n",
            "Embedding sentence: [[[ 0.00566932  0.04651041  0.01268889 ... -0.03302192 -0.03579786\n",
            "    0.03985933]\n",
            "  [-0.01608833 -0.03008424  0.00029036 ...  0.02768982 -0.0312911\n",
            "    0.03523192]\n",
            "  [ 0.02641347  0.02397171 -0.02031874 ...  0.00619759 -0.046593\n",
            "   -0.03389843]\n",
            "  ...\n",
            "  [ 0.02745745  0.03357356  0.01174289 ... -0.0374492  -0.04167526\n",
            "    0.00608252]\n",
            "  [ 0.02745745  0.03357356  0.01174289 ... -0.0374492  -0.04167526\n",
            "    0.00608252]\n",
            "  [ 0.02745745  0.03357356  0.01174289 ... -0.0374492  -0.04167526\n",
            "    0.00608252]]]\n"
          ],
          "name": "stdout"
        }
      ]
    },
    {
      "cell_type": "code",
      "metadata": {
        "id": "VyaDM6uh8WNc",
        "colab": {
          "base_uri": "https://localhost:8080/"
        },
        "outputId": "6accc301-020f-47ea-8998-71f7625765fa"
      },
      "source": [
        "embed_sample.shape"
      ],
      "execution_count": 38,
      "outputs": [
        {
          "output_type": "execute_result",
          "data": {
            "text/plain": [
              "TensorShape([1, 55, 128])"
            ]
          },
          "metadata": {
            "tags": []
          },
          "execution_count": 38
        }
      ]
    },
    {
      "cell_type": "markdown",
      "metadata": {
        "id": "x5LWYpUOWx64"
      },
      "source": [
        "# Converting training and test data into tf datasets for faster computation"
      ]
    },
    {
      "cell_type": "code",
      "metadata": {
        "id": "Qmrcha0LWxHY"
      },
      "source": [
        "train_dataset = tf.data.Dataset.from_tensor_slices((train_text,train_target)) #Using one hot target\n",
        "val_dataset = tf.data.Dataset.from_tensor_slices((val_text,val_target))\n",
        "test_dataset = tf.data.Dataset.from_tensor_slices((test_text,test_target))"
      ],
      "execution_count": 39,
      "outputs": []
    },
    {
      "cell_type": "code",
      "metadata": {
        "colab": {
          "base_uri": "https://localhost:8080/"
        },
        "id": "6LbNQKe6UxO1",
        "outputId": "3a6d932d-9a1e-4fb0-8c95-3d36c948fae5"
      },
      "source": [
        "train_dataset"
      ],
      "execution_count": 40,
      "outputs": [
        {
          "output_type": "execute_result",
          "data": {
            "text/plain": [
              "<TensorSliceDataset shapes: ((), (5,)), types: (tf.string, tf.float64)>"
            ]
          },
          "metadata": {
            "tags": []
          },
          "execution_count": 40
        }
      ]
    },
    {
      "cell_type": "code",
      "metadata": {
        "id": "QwKhQ2tpUxSX"
      },
      "source": [
        "#Turn datasets into prefetch batches improve the training speed\n",
        "train_dataset = train_dataset.batch(32).prefetch(tf.data.AUTOTUNE)\n",
        "val_dataset = val_dataset.batch(32).prefetch(tf.data.AUTOTUNE)\n",
        "test_dataset = test_dataset.batch(32).prefetch(tf.data.AUTOTUNE)"
      ],
      "execution_count": 41,
      "outputs": []
    },
    {
      "cell_type": "code",
      "metadata": {
        "colab": {
          "base_uri": "https://localhost:8080/"
        },
        "id": "DiSeK3XUYmhZ",
        "outputId": "8142d69b-5801-41ad-9cef-48b7d1d263ee"
      },
      "source": [
        "train_dataset"
      ],
      "execution_count": 42,
      "outputs": [
        {
          "output_type": "execute_result",
          "data": {
            "text/plain": [
              "<PrefetchDataset shapes: ((None,), (None, 5)), types: (tf.string, tf.float64)>"
            ]
          },
          "metadata": {
            "tags": []
          },
          "execution_count": 42
        }
      ]
    },
    {
      "cell_type": "markdown",
      "metadata": {
        "id": "oIlhsQN5ZQdv"
      },
      "source": [
        "# Model_1 : Conv1D with Token embedding"
      ]
    },
    {
      "cell_type": "code",
      "metadata": {
        "id": "Aq38pDCfUxV9"
      },
      "source": [
        "from tensorflow.keras import layers\n",
        "\n",
        "inputs = layers.Input(shape=(1,),dtype=tf.string)\n",
        "x = text_vectorizer(inputs)\n",
        "x = embedding(x)\n",
        "x = layers.Conv1D(64,3,activation='relu',padding='same')(x)\n",
        "x = layers.Conv1D(64,3,activation='relu',padding='same')(x)\n",
        "x = layers.GlobalAveragePooling1D()(x)\n",
        "outputs = layers.Dense(5,activation='softmax')(x)\n",
        "\n",
        "model_1 = tf.keras.Model(inputs,outputs)"
      ],
      "execution_count": 43,
      "outputs": []
    },
    {
      "cell_type": "code",
      "metadata": {
        "colab": {
          "base_uri": "https://localhost:8080/"
        },
        "id": "EmEej2Z7UxY4",
        "outputId": "a1cd97b5-cd51-4e5a-bb90-52c85e0a6606"
      },
      "source": [
        "model_1.summary()"
      ],
      "execution_count": 44,
      "outputs": [
        {
          "output_type": "stream",
          "text": [
            "Model: \"model\"\n",
            "_________________________________________________________________\n",
            "Layer (type)                 Output Shape              Param #   \n",
            "=================================================================\n",
            "input_1 (InputLayer)         [(None, 1)]               0         \n",
            "_________________________________________________________________\n",
            "text_vectorization (TextVect (None, 55)                0         \n",
            "_________________________________________________________________\n",
            "token_embedding (Embedding)  (None, 55, 128)           8704000   \n",
            "_________________________________________________________________\n",
            "conv1d (Conv1D)              (None, 55, 64)            24640     \n",
            "_________________________________________________________________\n",
            "conv1d_1 (Conv1D)            (None, 55, 64)            12352     \n",
            "_________________________________________________________________\n",
            "global_average_pooling1d (Gl (None, 64)                0         \n",
            "_________________________________________________________________\n",
            "dense (Dense)                (None, 5)                 325       \n",
            "=================================================================\n",
            "Total params: 8,741,317\n",
            "Trainable params: 8,741,317\n",
            "Non-trainable params: 0\n",
            "_________________________________________________________________\n"
          ],
          "name": "stdout"
        }
      ]
    },
    {
      "cell_type": "code",
      "metadata": {
        "id": "GjP0vOAmUxbo"
      },
      "source": [
        "model_1.compile(optimizer=tf.keras.optimizers.Adam(),\n",
        "                loss='categorical_crossentropy',\n",
        "                metrics = ['accuracy'])"
      ],
      "execution_count": 45,
      "outputs": []
    },
    {
      "cell_type": "code",
      "metadata": {
        "colab": {
          "base_uri": "https://localhost:8080/"
        },
        "id": "Inr2skDaUxeb",
        "outputId": "9dc07750-d596-4987-e345-996f89beb39c"
      },
      "source": [
        "history_1  = model_1.fit(train_dataset,epochs=3,\n",
        "                         steps_per_epoch = int(0.1*len(train_dataset)), #Reducing the train data for faster evaluation\n",
        "                         validation_data = val_dataset,\n",
        "                         validation_steps = int(0.1*len(val_dataset)) #Only validate on 10% valid data\n",
        "                         )"
      ],
      "execution_count": 46,
      "outputs": [
        {
          "output_type": "stream",
          "text": [
            "Epoch 1/3\n",
            "562/562 [==============================] - 90s 108ms/step - loss: 0.8928 - accuracy: 0.6360 - val_loss: 0.6908 - val_accuracy: 0.7347\n",
            "Epoch 2/3\n",
            "562/562 [==============================] - 61s 108ms/step - loss: 0.6693 - accuracy: 0.7435 - val_loss: 0.6574 - val_accuracy: 0.7553\n",
            "Epoch 3/3\n",
            "562/562 [==============================] - 60s 108ms/step - loss: 0.6318 - accuracy: 0.7631 - val_loss: 0.6059 - val_accuracy: 0.7829\n"
          ],
          "name": "stdout"
        }
      ]
    },
    {
      "cell_type": "code",
      "metadata": {
        "colab": {
          "base_uri": "https://localhost:8080/"
        },
        "id": "Rx86AsT0dsEq",
        "outputId": "58a3f1aa-e139-44a3-e933-abc5c573ce84"
      },
      "source": [
        "model_1.evaluate(val_dataset)"
      ],
      "execution_count": 47,
      "outputs": [
        {
          "output_type": "stream",
          "text": [
            "945/945 [==============================] - 5s 5ms/step - loss: 0.6160 - accuracy: 0.7756\n"
          ],
          "name": "stdout"
        },
        {
          "output_type": "execute_result",
          "data": {
            "text/plain": [
              "[0.6160421967506409, 0.7755858302116394]"
            ]
          },
          "metadata": {
            "tags": []
          },
          "execution_count": 47
        }
      ]
    },
    {
      "cell_type": "code",
      "metadata": {
        "colab": {
          "base_uri": "https://localhost:8080/"
        },
        "id": "0rpYrvFFUxhV",
        "outputId": "2b4173d1-d58e-4cc5-94ba-50d2c148d0db"
      },
      "source": [
        "model_1_pred_probs = model_1.predict(val_dataset)\n",
        "model_1_pred = tf.argmax(model_1_pred_probs,axis=1)\n",
        "model_1_pred[:10]"
      ],
      "execution_count": 48,
      "outputs": [
        {
          "output_type": "execute_result",
          "data": {
            "text/plain": [
              "<tf.Tensor: shape=(10,), dtype=int64, numpy=array([0, 0, 3, 2, 4, 2, 2, 2, 4, 1])>"
            ]
          },
          "metadata": {
            "tags": []
          },
          "execution_count": 48
        }
      ]
    },
    {
      "cell_type": "code",
      "metadata": {
        "colab": {
          "base_uri": "https://localhost:8080/"
        },
        "id": "1m9onHfDUxkj",
        "outputId": "911548cd-d8a3-4d84-a0cd-6e550aa754a6"
      },
      "source": [
        "calculate_results(val_target1,model_1_pred)"
      ],
      "execution_count": 49,
      "outputs": [
        {
          "output_type": "execute_result",
          "data": {
            "text/plain": [
              "{'Accuracy': 77.55858599232093,\n",
              " 'F1_score': 0.7743040331217157,\n",
              " 'Precision': 0.7743230049936415,\n",
              " 'Recall': 0.7755858599232093}"
            ]
          },
          "metadata": {
            "tags": []
          },
          "execution_count": 49
        }
      ]
    },
    {
      "cell_type": "markdown",
      "metadata": {
        "id": "03RJzC38fXWM"
      },
      "source": [
        "# Model_2: Tensorflow Hub pretrained feature extractor"
      ]
    },
    {
      "cell_type": "code",
      "metadata": {
        "id": "7jGaPq8GUxy-"
      },
      "source": [
        "from tensorflow.keras import layers\n",
        "import tensorflow_hub as hub\n",
        "\n",
        "embed = hub.KerasLayer(\"https://tfhub.dev/google/universal-sentence-encoder/4\",\n",
        "                       input_shape=[], dtype=tf.string,\n",
        "                       trainable=False)\n",
        "\n",
        "model_2 = tf.keras.Sequential([\n",
        "        embed,\n",
        "        layers.Dense(128,activation='relu'),\n",
        "        layers.Dense(128,activation='relu'),\n",
        "        layers.Dense(64,activation='relu'),\n",
        "        layers.Dense(64,activation='relu'),\n",
        "        layers.Dense(32,activation='relu'),\n",
        "        layers.Dense(5,activation='softmax')                       \n",
        "])"
      ],
      "execution_count": 50,
      "outputs": []
    },
    {
      "cell_type": "code",
      "metadata": {
        "colab": {
          "base_uri": "https://localhost:8080/"
        },
        "id": "aVaxKFufUx2t",
        "outputId": "cec58653-80be-46ee-f088-cbe70b29b5c2"
      },
      "source": [
        "model_2.summary()"
      ],
      "execution_count": 51,
      "outputs": [
        {
          "output_type": "stream",
          "text": [
            "Model: \"sequential\"\n",
            "_________________________________________________________________\n",
            "Layer (type)                 Output Shape              Param #   \n",
            "=================================================================\n",
            "keras_layer (KerasLayer)     (None, 512)               256797824 \n",
            "_________________________________________________________________\n",
            "dense_1 (Dense)              (None, 128)               65664     \n",
            "_________________________________________________________________\n",
            "dense_2 (Dense)              (None, 128)               16512     \n",
            "_________________________________________________________________\n",
            "dense_3 (Dense)              (None, 64)                8256      \n",
            "_________________________________________________________________\n",
            "dense_4 (Dense)              (None, 64)                4160      \n",
            "_________________________________________________________________\n",
            "dense_5 (Dense)              (None, 32)                2080      \n",
            "_________________________________________________________________\n",
            "dense_6 (Dense)              (None, 5)                 165       \n",
            "=================================================================\n",
            "Total params: 256,894,661\n",
            "Trainable params: 96,837\n",
            "Non-trainable params: 256,797,824\n",
            "_________________________________________________________________\n"
          ],
          "name": "stdout"
        }
      ]
    },
    {
      "cell_type": "code",
      "metadata": {
        "id": "E5RVlu5UUx6N"
      },
      "source": [
        "model_2.compile(optimizer=tf.keras.optimizers.Adam(),\n",
        "                loss='categorical_crossentropy',\n",
        "                metrics = ['accuracy'])"
      ],
      "execution_count": 52,
      "outputs": []
    },
    {
      "cell_type": "code",
      "metadata": {
        "colab": {
          "base_uri": "https://localhost:8080/"
        },
        "id": "WQVq88tBUx9T",
        "outputId": "2d7040b8-99ad-4edd-bb8e-ad53d9914d70"
      },
      "source": [
        "history_2  = model_2.fit(train_dataset,epochs=10,\n",
        "                         steps_per_epoch = int(0.1*len(train_dataset)), #Reducing the train data for faster evaluation\n",
        "                         validation_data = val_dataset,\n",
        "                         validation_steps = int(0.1*len(val_dataset)) #Only validate on 10% valid data\n",
        "                         )"
      ],
      "execution_count": 53,
      "outputs": [
        {
          "output_type": "stream",
          "text": [
            "Epoch 1/10\n",
            "562/562 [==============================] - 14s 19ms/step - loss: 0.9147 - accuracy: 0.6310 - val_loss: 0.7717 - val_accuracy: 0.7018\n",
            "Epoch 2/10\n",
            "562/562 [==============================] - 10s 18ms/step - loss: 0.7372 - accuracy: 0.7157 - val_loss: 0.7118 - val_accuracy: 0.7277\n",
            "Epoch 3/10\n",
            "562/562 [==============================] - 10s 18ms/step - loss: 0.7126 - accuracy: 0.7245 - val_loss: 0.6830 - val_accuracy: 0.7330\n",
            "Epoch 4/10\n",
            "562/562 [==============================] - 10s 18ms/step - loss: 0.6798 - accuracy: 0.7437 - val_loss: 0.6741 - val_accuracy: 0.7453\n",
            "Epoch 5/10\n",
            "562/562 [==============================] - 10s 18ms/step - loss: 0.6836 - accuracy: 0.7373 - val_loss: 0.6429 - val_accuracy: 0.7493\n",
            "Epoch 6/10\n",
            "562/562 [==============================] - 10s 18ms/step - loss: 0.6825 - accuracy: 0.7371 - val_loss: 0.6446 - val_accuracy: 0.7623\n",
            "Epoch 7/10\n",
            "562/562 [==============================] - 10s 18ms/step - loss: 0.6530 - accuracy: 0.7510 - val_loss: 0.6282 - val_accuracy: 0.7626\n",
            "Epoch 8/10\n",
            "562/562 [==============================] - 10s 18ms/step - loss: 0.6429 - accuracy: 0.7563 - val_loss: 0.6265 - val_accuracy: 0.7673\n",
            "Epoch 9/10\n",
            "562/562 [==============================] - 10s 18ms/step - loss: 0.6444 - accuracy: 0.7489 - val_loss: 0.6338 - val_accuracy: 0.7623\n",
            "Epoch 10/10\n",
            "562/562 [==============================] - 10s 18ms/step - loss: 0.6379 - accuracy: 0.7572 - val_loss: 0.6154 - val_accuracy: 0.7676\n"
          ],
          "name": "stdout"
        }
      ]
    },
    {
      "cell_type": "code",
      "metadata": {
        "colab": {
          "base_uri": "https://localhost:8080/"
        },
        "id": "CBH7VWe6UyAU",
        "outputId": "10a919a0-7d32-4f2d-90ca-093bcf38a58d"
      },
      "source": [
        "model_2.evaluate(val_dataset)"
      ],
      "execution_count": 54,
      "outputs": [
        {
          "output_type": "stream",
          "text": [
            "945/945 [==============================] - 15s 15ms/step - loss: 0.6222 - accuracy: 0.7635\n"
          ],
          "name": "stdout"
        },
        {
          "output_type": "execute_result",
          "data": {
            "text/plain": [
              "[0.6221706867218018, 0.7635045647621155]"
            ]
          },
          "metadata": {
            "tags": []
          },
          "execution_count": 54
        }
      ]
    },
    {
      "cell_type": "code",
      "metadata": {
        "colab": {
          "base_uri": "https://localhost:8080/"
        },
        "id": "COgaA2IMgEBI",
        "outputId": "0c705a97-875c-4689-84a2-fd578cbea36b"
      },
      "source": [
        "model_2_pred_probs = model_2.predict(val_dataset)\n",
        "model_2_pred = tf.argmax(model_2_pred_probs,axis=1)\n",
        "model_2_pred[:10]"
      ],
      "execution_count": 55,
      "outputs": [
        {
          "output_type": "execute_result",
          "data": {
            "text/plain": [
              "<tf.Tensor: shape=(10,), dtype=int64, numpy=array([0, 1, 3, 2, 2, 4, 4, 2, 4, 1])>"
            ]
          },
          "metadata": {
            "tags": []
          },
          "execution_count": 55
        }
      ]
    },
    {
      "cell_type": "code",
      "metadata": {
        "colab": {
          "base_uri": "https://localhost:8080/"
        },
        "id": "6jRzoW8RgEGO",
        "outputId": "4f9464ff-0e24-43ae-f693-cc3492f4e4b0"
      },
      "source": [
        "calculate_results(val_target1,model_2_pred)"
      ],
      "execution_count": 56,
      "outputs": [
        {
          "output_type": "execute_result",
          "data": {
            "text/plain": [
              "{'Accuracy': 76.35045677214352,\n",
              " 'F1_score': 0.7599863000134777,\n",
              " 'Precision': 0.7585112426502911,\n",
              " 'Recall': 0.7635045677214352}"
            ]
          },
          "metadata": {
            "tags": []
          },
          "execution_count": 56
        }
      ]
    },
    {
      "cell_type": "markdown",
      "metadata": {
        "id": "xc0sKWIEkeM4"
      },
      "source": [
        "# Model_3: Conv1D with character embedding"
      ]
    },
    {
      "cell_type": "code",
      "metadata": {
        "id": "zVNzukolgELn"
      },
      "source": [
        "#Creating character token\n",
        "\n",
        "#make fn to spit setence to char\n",
        "def split_chars(text):\n",
        "  return \" \".join(list(text))"
      ],
      "execution_count": 57,
      "outputs": []
    },
    {
      "cell_type": "code",
      "metadata": {
        "colab": {
          "base_uri": "https://localhost:8080/",
          "height": 69
        },
        "id": "kIvHURAjgET2",
        "outputId": "01e73e57-6c34-4ff4-8733-d26245136d2b"
      },
      "source": [
        "#example\n",
        "\" \".join(list(sample))"
      ],
      "execution_count": 58,
      "outputs": [
        {
          "output_type": "execute_result",
          "data": {
            "application/vnd.google.colaboratory.intrinsic+json": {
              "type": "string"
            },
            "text/plain": [
              "'c t o   o f   s u r g i c a l l y   b y p a s s e d   c o r o n a r y   a r t e r i e s   @   y e a r   a f t e r   c o r o n a r y   a r t e r y   b y p a s s   g r a f t i n g   i s   e x t r e m e l y   c o m m o n   .'"
            ]
          },
          "metadata": {
            "tags": []
          },
          "execution_count": 58
        }
      ]
    },
    {
      "cell_type": "code",
      "metadata": {
        "id": "qFCJfbxFgEXv"
      },
      "source": [
        "train_chars = [split_chars(sentence) for sentence in train_text ]\n",
        "val_chars = [split_chars(sentence) for sentence in val_text ]\n",
        "test_chars = [split_chars(sentence) for sentence in test_text ]"
      ],
      "execution_count": 59,
      "outputs": []
    },
    {
      "cell_type": "code",
      "metadata": {
        "colab": {
          "base_uri": "https://localhost:8080/"
        },
        "id": "NLrqY-EXgEfX",
        "outputId": "6d9e4f5a-0a0a-46fc-c6fc-5d1c79ecf956"
      },
      "source": [
        "#Avg char length\n",
        "char_lens = [len(sentence) for sentence in train_text]\n",
        "mean_char_len = np.mean(char_lens)\n",
        "mean_char_len"
      ],
      "execution_count": 60,
      "outputs": [
        {
          "output_type": "execute_result",
          "data": {
            "text/plain": [
              "149.3662574983337"
            ]
          },
          "metadata": {
            "tags": []
          },
          "execution_count": 60
        }
      ]
    },
    {
      "cell_type": "code",
      "metadata": {
        "colab": {
          "base_uri": "https://localhost:8080/",
          "height": 433
        },
        "id": "PaDmLoKDgEjA",
        "outputId": "0be6eb5b-9630-470d-baa1-d64c0e9de821"
      },
      "source": [
        "#Check distribution\n",
        "plt.hist(char_lens,bins=20)\n"
      ],
      "execution_count": 61,
      "outputs": [
        {
          "output_type": "execute_result",
          "data": {
            "text/plain": [
              "(array([2.2108e+04, 7.0583e+04, 5.3952e+04, 2.2391e+04, 7.4540e+03,\n",
              "        2.2350e+03, 8.0200e+02, 2.8700e+02, 1.1800e+02, 4.9000e+01,\n",
              "        2.9000e+01, 1.3000e+01, 8.0000e+00, 5.0000e+00, 1.0000e+00,\n",
              "        2.0000e+00, 1.0000e+00, 1.0000e+00, 0.0000e+00, 1.0000e+00]),\n",
              " array([1.00000e+00, 7.02500e+01, 1.39500e+02, 2.08750e+02, 2.78000e+02,\n",
              "        3.47250e+02, 4.16500e+02, 4.85750e+02, 5.55000e+02, 6.24250e+02,\n",
              "        6.93500e+02, 7.62750e+02, 8.32000e+02, 9.01250e+02, 9.70500e+02,\n",
              "        1.03975e+03, 1.10900e+03, 1.17825e+03, 1.24750e+03, 1.31675e+03,\n",
              "        1.38600e+03]),\n",
              " <a list of 20 Patch objects>)"
            ]
          },
          "metadata": {
            "tags": []
          },
          "execution_count": 61
        },
        {
          "output_type": "display_data",
          "data": {
            "image/png": "[encoded data removed]",
            "text/plain": [
              "<Figure size 432x288 with 1 Axes>"
            ]
          },
          "metadata": {
            "tags": [],
            "needs_background": "light"
          }
        }
      ]
    },
    {
      "cell_type": "code",
      "metadata": {
        "colab": {
          "base_uri": "https://localhost:8080/"
        },
        "id": "1Pa20KIWgEmo",
        "outputId": "7c76bc8f-1339-4831-be65-e28dde1a522b"
      },
      "source": [
        "#Find what char length covers 95% sequences\n",
        "output_char_len = int(np.percentile(char_lens,95))\n",
        "output_char_len"
      ],
      "execution_count": 62,
      "outputs": [
        {
          "output_type": "execute_result",
          "data": {
            "text/plain": [
              "290"
            ]
          },
          "metadata": {
            "tags": []
          },
          "execution_count": 62
        }
      ]
    },
    {
      "cell_type": "code",
      "metadata": {
        "colab": {
          "base_uri": "https://localhost:8080/"
        },
        "id": "epk8TJWegErH",
        "outputId": "7907c8a8-4e51-46c3-e251-71fbda7b7ce1"
      },
      "source": [
        "#Get all keyboard character\n",
        "import string\n",
        "aplhabet = string.ascii_lowercase + string.digits + string.punctuation\n",
        "len(aplhabet)"
      ],
      "execution_count": 63,
      "outputs": [
        {
          "output_type": "execute_result",
          "data": {
            "text/plain": [
              "68"
            ]
          },
          "metadata": {
            "tags": []
          },
          "execution_count": 63
        }
      ]
    },
    {
      "cell_type": "code",
      "metadata": {
        "id": "CYFuu0iIUyD4"
      },
      "source": [
        "#Creating Character tokens\n",
        "\n",
        "max_char_token=70\n",
        "output_seq_len = 290\n",
        "\n",
        "char_vectorizer = TextVectorization(max_tokens=max_char_token,\n",
        "                                    output_sequence_length=output_seq_len,\n",
        "                                    pad_to_max_tokens=True)\n",
        "\n",
        "#Fit text_vectorizer to training data\n",
        "char_vectorizer.adapt(train_chars)"
      ],
      "execution_count": 64,
      "outputs": []
    },
    {
      "cell_type": "code",
      "metadata": {
        "colab": {
          "base_uri": "https://localhost:8080/"
        },
        "id": "VLJdHOeY_2SB",
        "outputId": "9f1d2642-489f-4fc0-e37f-d23189152188"
      },
      "source": [
        "char_vocab = char_vectorizer.get_vocabulary()\n",
        "char_vocab[:10]"
      ],
      "execution_count": 65,
      "outputs": [
        {
          "output_type": "execute_result",
          "data": {
            "text/plain": [
              "['', '[UNK]', 'e', 't', 'i', 'a', 'n', 'o', 'r', 's']"
            ]
          },
          "metadata": {
            "tags": []
          },
          "execution_count": 65
        }
      ]
    },
    {
      "cell_type": "markdown",
      "metadata": {
        "id": "HORBryiKB_de"
      },
      "source": [
        "Embedding Layer"
      ]
    },
    {
      "cell_type": "code",
      "metadata": {
        "id": "Fq2S7CFU_2Zw"
      },
      "source": [
        "embedding_char = layers.Embedding(input_dim = len(char_vocab),\n",
        "                             output_dim = 25,\n",
        "                             mask_zero=True,\n",
        "                             name='char_embedding')"
      ],
      "execution_count": 66,
      "outputs": []
    },
    {
      "cell_type": "markdown",
      "metadata": {
        "id": "XVaU27p-DcTx"
      },
      "source": [
        "Model building"
      ]
    },
    {
      "cell_type": "code",
      "metadata": {
        "id": "EoGQokA7_2jy"
      },
      "source": [
        "from tensorflow.keras import layers\n",
        "\n",
        "inputs = layers.Input(shape=(1,),dtype=tf.string)\n",
        "x = char_vectorizer(inputs)\n",
        "x = embedding_char(x)\n",
        "x = layers.Conv1D(128,3,activation='relu',padding='same')(x)\n",
        "x = layers.Conv1D(128,3,activation='relu',padding='same')(x)\n",
        "x = layers.Conv1D(64,3,activation='relu',padding='same')(x)\n",
        "x = layers.Conv1D(64,3,activation='relu',padding='same')(x)\n",
        "x = layers.Conv1D(32,3,activation='relu',padding='same')(x)\n",
        "x = layers.Conv1D(16,3,activation='relu',padding='same')(x)\n",
        "x = layers.GlobalMaxPooling1D()(x)\n",
        "outputs = layers.Dense(5,activation='softmax')(x)\n",
        "\n",
        "model_3 = tf.keras.Model(inputs,outputs)"
      ],
      "execution_count": 67,
      "outputs": []
    },
    {
      "cell_type": "code",
      "metadata": {
        "colab": {
          "base_uri": "https://localhost:8080/"
        },
        "id": "Df4vDLodDfDF",
        "outputId": "085b96da-e91f-47ba-b12f-c426ee7e4436"
      },
      "source": [
        "model_3.summary()"
      ],
      "execution_count": 68,
      "outputs": [
        {
          "output_type": "stream",
          "text": [
            "Model: \"model_1\"\n",
            "_________________________________________________________________\n",
            "Layer (type)                 Output Shape              Param #   \n",
            "=================================================================\n",
            "input_2 (InputLayer)         [(None, 1)]               0         \n",
            "_________________________________________________________________\n",
            "text_vectorization_1 (TextVe (None, 290)               0         \n",
            "_________________________________________________________________\n",
            "char_embedding (Embedding)   (None, 290, 25)           700       \n",
            "_________________________________________________________________\n",
            "conv1d_2 (Conv1D)            (None, 290, 128)          9728      \n",
            "_________________________________________________________________\n",
            "conv1d_3 (Conv1D)            (None, 290, 128)          49280     \n",
            "_________________________________________________________________\n",
            "conv1d_4 (Conv1D)            (None, 290, 64)           24640     \n",
            "_________________________________________________________________\n",
            "conv1d_5 (Conv1D)            (None, 290, 64)           12352     \n",
            "_________________________________________________________________\n",
            "conv1d_6 (Conv1D)            (None, 290, 32)           6176      \n",
            "_________________________________________________________________\n",
            "conv1d_7 (Conv1D)            (None, 290, 16)           1552      \n",
            "_________________________________________________________________\n",
            "global_max_pooling1d (Global (None, 16)                0         \n",
            "_________________________________________________________________\n",
            "dense_7 (Dense)              (None, 5)                 85        \n",
            "=================================================================\n",
            "Total params: 104,513\n",
            "Trainable params: 104,513\n",
            "Non-trainable params: 0\n",
            "_________________________________________________________________\n"
          ],
          "name": "stdout"
        }
      ]
    },
    {
      "cell_type": "code",
      "metadata": {
        "id": "TVwX0VKmDfHN"
      },
      "source": [
        "model_3.compile(optimizer=tf.keras.optimizers.Adam(),\n",
        "                loss='categorical_crossentropy',\n",
        "                metrics = ['accuracy'])"
      ],
      "execution_count": 69,
      "outputs": []
    },
    {
      "cell_type": "code",
      "metadata": {
        "id": "rHGOsDbcEm0-"
      },
      "source": [
        "#Creating dataset\n",
        "trainchar_dataset = tf.data.Dataset.from_tensor_slices((train_chars,train_target)) #Using one hot target\n",
        "valchar_dataset = tf.data.Dataset.from_tensor_slices((val_chars,val_target))\n",
        "testchar_dataset = tf.data.Dataset.from_tensor_slices((test_chars,test_target))\n",
        "\n",
        "\n",
        "train_char_dataset = trainchar_dataset.batch(32).prefetch(tf.data.AUTOTUNE)\n",
        "val_char_dataset = valchar_dataset.batch(32).prefetch(tf.data.AUTOTUNE)\n",
        "test_char_dataset = testchar_dataset.batch(32).prefetch(tf.data.AUTOTUNE)"
      ],
      "execution_count": 70,
      "outputs": []
    },
    {
      "cell_type": "code",
      "metadata": {
        "colab": {
          "base_uri": "https://localhost:8080/"
        },
        "id": "QiqGTm74DfM8",
        "outputId": "f1569327-b001-45c1-cbe3-dfbeed8d5295"
      },
      "source": [
        "history_3  = model_3.fit(train_char_dataset,epochs=10,\n",
        "                         steps_per_epoch = int(0.1*len(train_char_dataset)), #Reducing the train data for faster evaluation\n",
        "                         validation_data = val_char_dataset,\n",
        "                         validation_steps = int(0.1*len(val_char_dataset)) #Only validate on 10% valid data\n",
        "                         )"
      ],
      "execution_count": 71,
      "outputs": [
        {
          "output_type": "stream",
          "text": [
            "Epoch 1/10\n",
            "562/562 [==============================] - 12s 19ms/step - loss: 1.3167 - accuracy: 0.4071 - val_loss: 1.2090 - val_accuracy: 0.4757\n",
            "Epoch 2/10\n",
            "562/562 [==============================] - 10s 18ms/step - loss: 1.1580 - accuracy: 0.5134 - val_loss: 1.0908 - val_accuracy: 0.5322\n",
            "Epoch 3/10\n",
            "562/562 [==============================] - 10s 18ms/step - loss: 1.0439 - accuracy: 0.5746 - val_loss: 0.9889 - val_accuracy: 0.5944\n",
            "Epoch 4/10\n",
            "562/562 [==============================] - 10s 18ms/step - loss: 0.9749 - accuracy: 0.6088 - val_loss: 0.9303 - val_accuracy: 0.6230\n",
            "Epoch 5/10\n",
            "562/562 [==============================] - 10s 18ms/step - loss: 0.9267 - accuracy: 0.6337 - val_loss: 0.9146 - val_accuracy: 0.6426\n",
            "Epoch 6/10\n",
            "562/562 [==============================] - 10s 18ms/step - loss: 0.8925 - accuracy: 0.6507 - val_loss: 0.8757 - val_accuracy: 0.6562\n",
            "Epoch 7/10\n",
            "562/562 [==============================] - 10s 18ms/step - loss: 0.8571 - accuracy: 0.6615 - val_loss: 0.8541 - val_accuracy: 0.6559\n",
            "Epoch 8/10\n",
            "562/562 [==============================] - 10s 18ms/step - loss: 0.8164 - accuracy: 0.6862 - val_loss: 0.8087 - val_accuracy: 0.6888\n",
            "Epoch 9/10\n",
            "562/562 [==============================] - 10s 18ms/step - loss: 0.8112 - accuracy: 0.6891 - val_loss: 0.8190 - val_accuracy: 0.6759\n",
            "Epoch 10/10\n",
            "562/562 [==============================] - 10s 18ms/step - loss: 0.7960 - accuracy: 0.6899 - val_loss: 0.7637 - val_accuracy: 0.7068\n"
          ],
          "name": "stdout"
        }
      ]
    },
    {
      "cell_type": "code",
      "metadata": {
        "colab": {
          "base_uri": "https://localhost:8080/"
        },
        "id": "51h6wgmEDfRK",
        "outputId": "46acc124-b242-4835-d2d2-b2d48158b7e8"
      },
      "source": [
        "model_3.evaluate(val_char_dataset)"
      ],
      "execution_count": 72,
      "outputs": [
        {
          "output_type": "stream",
          "text": [
            "945/945 [==============================] - 9s 10ms/step - loss: 0.7707 - accuracy: 0.7030\n"
          ],
          "name": "stdout"
        },
        {
          "output_type": "execute_result",
          "data": {
            "text/plain": [
              "[0.7707056403160095, 0.7029657363891602]"
            ]
          },
          "metadata": {
            "tags": []
          },
          "execution_count": 72
        }
      ]
    },
    {
      "cell_type": "code",
      "metadata": {
        "colab": {
          "base_uri": "https://localhost:8080/"
        },
        "id": "d4YcjUNxGQpv",
        "outputId": "e1fa9cbd-948f-465d-b06f-56a874dfc763"
      },
      "source": [
        "model_3_pred_probs = model_3.predict(val_char_dataset)\n",
        "model_3_pred = tf.argmax(model_3_pred_probs,axis=1)\n",
        "model_3_pred[:10]"
      ],
      "execution_count": 73,
      "outputs": [
        {
          "output_type": "execute_result",
          "data": {
            "text/plain": [
              "<tf.Tensor: shape=(10,), dtype=int64, numpy=array([1, 1, 3, 2, 4, 2, 4, 2, 4, 4])>"
            ]
          },
          "metadata": {
            "tags": []
          },
          "execution_count": 73
        }
      ]
    },
    {
      "cell_type": "code",
      "metadata": {
        "colab": {
          "base_uri": "https://localhost:8080/"
        },
        "id": "9JZ9PDttDfVL",
        "outputId": "4b4d30da-3ae3-4af2-ec56-21c0f29e6a1a"
      },
      "source": [
        "calculate_results(val_target1,model_3_pred)"
      ],
      "execution_count": 74,
      "outputs": [
        {
          "output_type": "execute_result",
          "data": {
            "text/plain": [
              "{'Accuracy': 70.29657089898053,\n",
              " 'F1_score': 0.6957587817379914,\n",
              " 'Precision': 0.7002000014068726,\n",
              " 'Recall': 0.7029657089898054}"
            ]
          },
          "metadata": {
            "tags": []
          },
          "execution_count": 74
        }
      ]
    },
    {
      "cell_type": "markdown",
      "metadata": {
        "id": "3Jo7dGIFIBdN"
      },
      "source": [
        "# Model_4 : Use pretrained token (model_1)embedding + pre trained char embedding (model_3)"
      ]
    },
    {
      "cell_type": "code",
      "metadata": {
        "id": "Vc8LCNyIDfaq"
      },
      "source": [
        "from tensorflow.keras import layers\n",
        "\n",
        "#1.Setup char input model with BiLSTM\n",
        "char_input = layers.Input(shape=(1,),dtype=tf.string,name='char_input')\n",
        "x1 = char_vectorizer(char_input)\n",
        "x1 = embedding_char(x1)\n",
        "char_output = layers.Bidirectional(layers.LSTM(24))(x1)\n",
        "\n",
        "char_model = tf.keras.Model(char_input,char_output)\n",
        "\n",
        "#2.Setup token iput model with Tensorflow hub feature vector\n",
        "token_input = layers.Input(shape=[],dtype=tf.string,name='token_input')\n",
        "y1 = embed(token_input) #Tensorflow hub layer from model_2\n",
        "token_output = layers.Dense(128,activation='relu')(y1)\n",
        "token_model = tf.keras.Model(token_input,token_output)\n",
        "\n",
        "concat = layers.Concatenate(name='token_char_hybrid')([char_model.output,token_model.output])\n",
        "\n",
        "#creating output layers\n",
        "x = layers.Dropout(0.5)(concat)\n",
        "x = layers.Dense(128,activation='relu')(x)\n",
        "x = layers.Dropout(0.5)(x)\n",
        "outputs = layers.Dense(5,activation='softmax')(x)\n",
        "\n",
        "model_4 = tf.keras.Model([char_model.input,token_model.input],outputs)"
      ],
      "execution_count": 75,
      "outputs": []
    },
    {
      "cell_type": "code",
      "metadata": {
        "colab": {
          "base_uri": "https://localhost:8080/"
        },
        "id": "GpfXUnJsDffn",
        "outputId": "0c19ce7d-6d30-4bdb-f284-0be4fd122f04"
      },
      "source": [
        "model_4.summary()"
      ],
      "execution_count": 76,
      "outputs": [
        {
          "output_type": "stream",
          "text": [
            "Model: \"model_4\"\n",
            "__________________________________________________________________________________________________\n",
            "Layer (type)                    Output Shape         Param #     Connected to                     \n",
            "==================================================================================================\n",
            "char_input (InputLayer)         [(None, 1)]          0                                            \n",
            "__________________________________________________________________________________________________\n",
            "text_vectorization_1 (TextVecto (None, 290)          0           char_input[0][0]                 \n",
            "__________________________________________________________________________________________________\n",
            "token_input (InputLayer)        [(None,)]            0                                            \n",
            "__________________________________________________________________________________________________\n",
            "char_embedding (Embedding)      (None, 290, 25)      700         text_vectorization_1[1][0]       \n",
            "__________________________________________________________________________________________________\n",
            "keras_layer (KerasLayer)        (None, 512)          256797824   token_input[0][0]                \n",
            "__________________________________________________________________________________________________\n",
            "bidirectional (Bidirectional)   (None, 48)           9600        char_embedding[1][0]             \n",
            "__________________________________________________________________________________________________\n",
            "dense_8 (Dense)                 (None, 128)          65664       keras_layer[1][0]                \n",
            "__________________________________________________________________________________________________\n",
            "token_char_hybrid (Concatenate) (None, 176)          0           bidirectional[0][0]              \n",
            "                                                                 dense_8[0][0]                    \n",
            "__________________________________________________________________________________________________\n",
            "dropout (Dropout)               (None, 176)          0           token_char_hybrid[0][0]          \n",
            "__________________________________________________________________________________________________\n",
            "dense_9 (Dense)                 (None, 128)          22656       dropout[0][0]                    \n",
            "__________________________________________________________________________________________________\n",
            "dropout_1 (Dropout)             (None, 128)          0           dense_9[0][0]                    \n",
            "__________________________________________________________________________________________________\n",
            "dense_10 (Dense)                (None, 5)            645         dropout_1[0][0]                  \n",
            "==================================================================================================\n",
            "Total params: 256,897,089\n",
            "Trainable params: 99,265\n",
            "Non-trainable params: 256,797,824\n",
            "__________________________________________________________________________________________________\n"
          ],
          "name": "stdout"
        }
      ]
    },
    {
      "cell_type": "code",
      "metadata": {
        "colab": {
          "base_uri": "https://localhost:8080/",
          "height": 976
        },
        "id": "3vVoUGU8PDQY",
        "outputId": "a8cb9075-45fa-4379-a7c5-93012a8ef468"
      },
      "source": [
        "from tensorflow.keras.utils import plot_model\n",
        "plot_model(model_4,show_shapes=True)"
      ],
      "execution_count": 101,
      "outputs": [
        {
          "output_type": "execute_result",
          "data": {
            "image/png": "[encoded data removed]",
            "text/plain": [
              "<IPython.core.display.Image object>"
            ]
          },
          "metadata": {
            "tags": []
          },
          "execution_count": 101
        }
      ]
    },
    {
      "cell_type": "code",
      "metadata": {
        "id": "mlFb1TwOPDdO"
      },
      "source": [
        "model_4.compile(optimizer=tf.keras.optimizers.Adam(),\n",
        "                loss='categorical_crossentropy',\n",
        "                metrics = ['accuracy'])"
      ],
      "execution_count": 78,
      "outputs": []
    },
    {
      "cell_type": "code",
      "metadata": {
        "id": "OzdY8WAAPD9t"
      },
      "source": [
        "# Combining token data and char data into a dataset\n",
        "train_token_char_data = tf.data.Dataset.from_tensor_slices((train_chars,train_text))\n",
        "train_token_char_label = tf.data.Dataset.from_tensor_slices(train_target)\n",
        "train_char_token_dataset = tf.data.Dataset.zip((train_token_char_data,train_token_char_label))\n",
        "#Batch and prefetch\n",
        "train_char_token_dataset = train_char_token_dataset.batch(32).prefetch(tf.data.AUTOTUNE)\n"
      ],
      "execution_count": 79,
      "outputs": []
    },
    {
      "cell_type": "code",
      "metadata": {
        "id": "FzEeduwTd9sG"
      },
      "source": [
        "# Combining token data and char data into a valid dataset\n",
        "val_token_char_data = tf.data.Dataset.from_tensor_slices((val_chars,val_text))\n",
        "val_token_char_label = tf.data.Dataset.from_tensor_slices(val_target)\n",
        "val_char_token_dataset = tf.data.Dataset.zip((val_token_char_data,val_token_char_label))\n",
        "#Batch and prefetch\n",
        "val_char_token_dataset = val_char_token_dataset.batch(32).prefetch(tf.data.AUTOTUNE)\n"
      ],
      "execution_count": 80,
      "outputs": []
    },
    {
      "cell_type": "code",
      "metadata": {
        "colab": {
          "base_uri": "https://localhost:8080/"
        },
        "id": "EUssGPIng49f",
        "outputId": "f5d1769e-84fc-4d27-ad8b-9e0d5887e4bc"
      },
      "source": [
        "train_char_token_dataset,val_char_token_dataset"
      ],
      "execution_count": 81,
      "outputs": [
        {
          "output_type": "execute_result",
          "data": {
            "text/plain": [
              "(<PrefetchDataset shapes: (((None,), (None,)), (None, 5)), types: ((tf.string, tf.string), tf.float64)>,\n",
              " <PrefetchDataset shapes: (((None,), (None,)), (None, 5)), types: ((tf.string, tf.string), tf.float64)>)"
            ]
          },
          "metadata": {
            "tags": []
          },
          "execution_count": 81
        }
      ]
    },
    {
      "cell_type": "code",
      "metadata": {
        "colab": {
          "base_uri": "https://localhost:8080/"
        },
        "id": "Vrpm3need9-G",
        "outputId": "7c28253e-d59c-4ada-ddd5-9e6756127b20"
      },
      "source": [
        "history_4  = model_4.fit(train_char_token_dataset,epochs=5,\n",
        "                         steps_per_epoch = int(0.1*len(train_char_token_dataset)), #Reducing the train data for faster evaluation\n",
        "                         validation_data = val_char_token_dataset,\n",
        "                         validation_steps = int(0.1*len(val_char_token_dataset)) #Only validate on 10% valid data\n",
        "                         )"
      ],
      "execution_count": 82,
      "outputs": [
        {
          "output_type": "stream",
          "text": [
            "Epoch 1/5\n",
            "562/562 [==============================] - 84s 133ms/step - loss: 0.9831 - accuracy: 0.6091 - val_loss: 0.7785 - val_accuracy: 0.6951\n",
            "Epoch 2/5\n",
            "562/562 [==============================] - 71s 127ms/step - loss: 0.7997 - accuracy: 0.6910 - val_loss: 0.7178 - val_accuracy: 0.7314\n",
            "Epoch 3/5\n",
            "562/562 [==============================] - 68s 121ms/step - loss: 0.7730 - accuracy: 0.7046 - val_loss: 0.6976 - val_accuracy: 0.7324\n",
            "Epoch 4/5\n",
            "562/562 [==============================] - 73s 130ms/step - loss: 0.7473 - accuracy: 0.7192 - val_loss: 0.6756 - val_accuracy: 0.7407\n",
            "Epoch 5/5\n",
            "562/562 [==============================] - 70s 125ms/step - loss: 0.7534 - accuracy: 0.7179 - val_loss: 0.6631 - val_accuracy: 0.7447\n"
          ],
          "name": "stdout"
        }
      ]
    },
    {
      "cell_type": "code",
      "metadata": {
        "colab": {
          "base_uri": "https://localhost:8080/"
        },
        "id": "7ft6tDUegF5G",
        "outputId": "39f85937-3d9d-47b7-acdf-f182b9518c2a"
      },
      "source": [
        "model_4.evaluate(val_char_token_dataset)"
      ],
      "execution_count": 83,
      "outputs": [
        {
          "output_type": "stream",
          "text": [
            "945/945 [==============================] - 49s 52ms/step - loss: 0.6711 - accuracy: 0.7416\n"
          ],
          "name": "stdout"
        },
        {
          "output_type": "execute_result",
          "data": {
            "text/plain": [
              "[0.671107292175293, 0.7416258454322815]"
            ]
          },
          "metadata": {
            "tags": []
          },
          "execution_count": 83
        }
      ]
    },
    {
      "cell_type": "code",
      "metadata": {
        "colab": {
          "base_uri": "https://localhost:8080/"
        },
        "id": "YZWfnrNVgF-5",
        "outputId": "ce5d8984-4fb2-4718-9e82-8910d2c17fcc"
      },
      "source": [
        "model_4_pred_probs = model_4.predict(val_char_token_dataset)\n",
        "model_4_pred = tf.argmax(model_4_pred_probs,axis=1)\n",
        "model_4_pred[:10]"
      ],
      "execution_count": 84,
      "outputs": [
        {
          "output_type": "execute_result",
          "data": {
            "text/plain": [
              "<tf.Tensor: shape=(10,), dtype=int64, numpy=array([0, 0, 3, 2, 2, 2, 2, 2, 4, 1])>"
            ]
          },
          "metadata": {
            "tags": []
          },
          "execution_count": 84
        }
      ]
    },
    {
      "cell_type": "code",
      "metadata": {
        "colab": {
          "base_uri": "https://localhost:8080/"
        },
        "id": "hpB6tizygGE8",
        "outputId": "0ed7babb-d840-4a19-fdec-cf6b12523f7a"
      },
      "source": [
        "calculate_results(val_target1,model_4_pred)"
      ],
      "execution_count": 85,
      "outputs": [
        {
          "output_type": "execute_result",
          "data": {
            "text/plain": [
              "{'Accuracy': 74.16258440354827,\n",
              " 'F1_score': 0.7359829126432025,\n",
              " 'Precision': 0.7404845369970398,\n",
              " 'Recall': 0.7416258440354826}"
            ]
          },
          "metadata": {
            "tags": []
          },
          "execution_count": 85
        }
      ]
    },
    {
      "cell_type": "markdown",
      "metadata": {
        "id": "IZDFHAwXj6MZ"
      },
      "source": [
        "# Model_5 : Pretrained tokn embeddings + character embedding + positional embedding"
      ]
    },
    {
      "cell_type": "code",
      "metadata": {
        "colab": {
          "base_uri": "https://localhost:8080/",
          "height": 265
        },
        "id": "uagRIUFlgGZ6",
        "outputId": "ebce0d56-e4fe-45e2-bb84-6860502deda9"
      },
      "source": [
        "train_df.head(7)"
      ],
      "execution_count": 86,
      "outputs": [
        {
          "output_type": "execute_result",
          "data": {
            "text/html": [
              "<div>\n",
              "<style scoped>\n",
              "    .dataframe tbody tr th:only-of-type {\n",
              "        vertical-align: middle;\n",
              "    }\n",
              "\n",
              "    .dataframe tbody tr th {\n",
              "        vertical-align: top;\n",
              "    }\n",
              "\n",
              "    .dataframe thead th {\n",
              "        text-align: right;\n",
              "    }\n",
              "</style>\n",
              "<table border=\"1\" class=\"dataframe\">\n",
              "  <thead>\n",
              "    <tr style=\"text-align: right;\">\n",
              "      <th></th>\n",
              "      <th>line_number</th>\n",
              "      <th>target</th>\n",
              "      <th>text</th>\n",
              "      <th>total_lines</th>\n",
              "    </tr>\n",
              "  </thead>\n",
              "  <tbody>\n",
              "    <tr>\n",
              "      <th>0</th>\n",
              "      <td>0</td>\n",
              "      <td>OBJECTIVE</td>\n",
              "      <td>to investigate the efficacy of @ weeks of dail...</td>\n",
              "      <td>11</td>\n",
              "    </tr>\n",
              "    <tr>\n",
              "      <th>1</th>\n",
              "      <td>1</td>\n",
              "      <td>METHODS</td>\n",
              "      <td>a total of @ patients with primary knee oa wer...</td>\n",
              "      <td>11</td>\n",
              "    </tr>\n",
              "    <tr>\n",
              "      <th>2</th>\n",
              "      <td>2</td>\n",
              "      <td>METHODS</td>\n",
              "      <td>outcome measures included pain reduction and i...</td>\n",
              "      <td>11</td>\n",
              "    </tr>\n",
              "    <tr>\n",
              "      <th>3</th>\n",
              "      <td>3</td>\n",
              "      <td>METHODS</td>\n",
              "      <td>pain was assessed using the visual analog pain...</td>\n",
              "      <td>11</td>\n",
              "    </tr>\n",
              "    <tr>\n",
              "      <th>4</th>\n",
              "      <td>4</td>\n",
              "      <td>METHODS</td>\n",
              "      <td>secondary outcome measures included the wester...</td>\n",
              "      <td>11</td>\n",
              "    </tr>\n",
              "    <tr>\n",
              "      <th>5</th>\n",
              "      <td>5</td>\n",
              "      <td>METHODS</td>\n",
              "      <td>serum levels of interleukin @ ( il-@ ) , il-@ ...</td>\n",
              "      <td>11</td>\n",
              "    </tr>\n",
              "    <tr>\n",
              "      <th>6</th>\n",
              "      <td>6</td>\n",
              "      <td>RESULTS</td>\n",
              "      <td>there was a clinically relevant reduction in t...</td>\n",
              "      <td>11</td>\n",
              "    </tr>\n",
              "  </tbody>\n",
              "</table>\n",
              "</div>"
            ],
            "text/plain": [
              "   line_number  ... total_lines\n",
              "0            0  ...          11\n",
              "1            1  ...          11\n",
              "2            2  ...          11\n",
              "3            3  ...          11\n",
              "4            4  ...          11\n",
              "5            5  ...          11\n",
              "6            6  ...          11\n",
              "\n",
              "[7 rows x 4 columns]"
            ]
          },
          "metadata": {
            "tags": []
          },
          "execution_count": 86
        }
      ]
    },
    {
      "cell_type": "code",
      "metadata": {
        "id": "DXWaQNeFkZvR",
        "outputId": "09f85686-7099-4d42-e464-fd4cede56039",
        "colab": {
          "base_uri": "https://localhost:8080/",
          "height": 282
        }
      },
      "source": [
        "train_df['line_number'].plot.hist()"
      ],
      "execution_count": 98,
      "outputs": [
        {
          "output_type": "execute_result",
          "data": {
            "text/plain": [
              "<matplotlib.axes._subplots.AxesSubplot at 0x7f34b6cb48d0>"
            ]
          },
          "metadata": {
            "tags": []
          },
          "execution_count": 98
        },
        {
          "output_type": "display_data",
          "data": {
            "image/png": "[encoded data removed]",
            "text/plain": [
              "<Figure size 432x288 with 1 Axes>"
            ]
          },
          "metadata": {
            "tags": [],
            "needs_background": "light"
          }
        }
      ]
    },
    {
      "cell_type": "code",
      "metadata": {
        "id": "izfq67Yxkh8Q",
        "colab": {
          "base_uri": "https://localhost:8080/"
        },
        "outputId": "cc45546d-30b3-420e-955a-64efdfbb0500"
      },
      "source": [
        "#Onehot encode the line number\n",
        "train_line_number_one_hot = tf.one_hot(train_df['line_number'].to_numpy(),depth=15)\n",
        "val_line_number_one_hot = tf.one_hot(val_df['line_number'].to_numpy(),depth=15)\n",
        "test_line_number_one_hot = tf.one_hot(test_df['line_number'].to_numpy(),depth=15)\n",
        "\n",
        "train_line_number_one_hot[:10]"
      ],
      "execution_count": 87,
      "outputs": [
        {
          "output_type": "execute_result",
          "data": {
            "text/plain": [
              "<tf.Tensor: shape=(10, 15), dtype=float32, numpy=\n",
              "array([[1., 0., 0., 0., 0., 0., 0., 0., 0., 0., 0., 0., 0., 0., 0.],\n",
              "       [0., 1., 0., 0., 0., 0., 0., 0., 0., 0., 0., 0., 0., 0., 0.],\n",
              "       [0., 0., 1., 0., 0., 0., 0., 0., 0., 0., 0., 0., 0., 0., 0.],\n",
              "       [0., 0., 0., 1., 0., 0., 0., 0., 0., 0., 0., 0., 0., 0., 0.],\n",
              "       [0., 0., 0., 0., 1., 0., 0., 0., 0., 0., 0., 0., 0., 0., 0.],\n",
              "       [0., 0., 0., 0., 0., 1., 0., 0., 0., 0., 0., 0., 0., 0., 0.],\n",
              "       [0., 0., 0., 0., 0., 0., 1., 0., 0., 0., 0., 0., 0., 0., 0.],\n",
              "       [0., 0., 0., 0., 0., 0., 0., 1., 0., 0., 0., 0., 0., 0., 0.],\n",
              "       [0., 0., 0., 0., 0., 0., 0., 0., 1., 0., 0., 0., 0., 0., 0.],\n",
              "       [0., 0., 0., 0., 0., 0., 0., 0., 0., 1., 0., 0., 0., 0., 0.]],\n",
              "      dtype=float32)>"
            ]
          },
          "metadata": {
            "tags": []
          },
          "execution_count": 87
        }
      ]
    },
    {
      "cell_type": "code",
      "metadata": {
        "id": "ODzdFDwQiLXt",
        "outputId": "0bb06ccf-fd3f-42c6-b587-e5786e5c69c4",
        "colab": {
          "base_uri": "https://localhost:8080/",
          "height": 282
        }
      },
      "source": [
        "train_df['total_lines'].plot.hist(bins=25)\n"
      ],
      "execution_count": 97,
      "outputs": [
        {
          "output_type": "execute_result",
          "data": {
            "text/plain": [
              "<matplotlib.axes._subplots.AxesSubplot at 0x7f34b6cac6d0>"
            ]
          },
          "metadata": {
            "tags": []
          },
          "execution_count": 97
        },
        {
          "output_type": "display_data",
          "data": {
            "image/png": "[encoded data removed]",
            "text/plain": [
              "<Figure size 432x288 with 1 Axes>"
            ]
          },
          "metadata": {
            "tags": [],
            "needs_background": "light"
          }
        }
      ]
    },
    {
      "cell_type": "code",
      "metadata": {
        "id": "8u_6TGlTiLoj",
        "outputId": "cc9f1831-373a-41d5-f7cf-3e18c7986717",
        "colab": {
          "base_uri": "https://localhost:8080/"
        }
      },
      "source": [
        "#Onehot encode the total lines\n",
        "train_total_lines_one_hot = tf.one_hot(train_df['total_lines'].to_numpy(),depth=20)\n",
        "val_total_lines_one_hot = tf.one_hot(val_df['total_lines'].to_numpy(),depth=20)\n",
        "test_total_lines_one_hot = tf.one_hot(test_df['total_lines'].to_numpy(),depth=20)\n",
        "\n",
        "train_total_lines_one_hot[1]"
      ],
      "execution_count": 100,
      "outputs": [
        {
          "output_type": "execute_result",
          "data": {
            "text/plain": [
              "<tf.Tensor: shape=(20,), dtype=float32, numpy=\n",
              "array([0., 0., 0., 0., 0., 0., 0., 0., 0., 0., 0., 1., 0., 0., 0., 0., 0.,\n",
              "       0., 0., 0.], dtype=float32)>"
            ]
          },
          "metadata": {
            "tags": []
          },
          "execution_count": 100
        }
      ]
    },
    {
      "cell_type": "code",
      "metadata": {
        "id": "RE-ANZ45lcgU"
      },
      "source": [
        "from tensorflow.keras import layers\n",
        "\n",
        "#1.Setup char input model with BiLSTM\n",
        "char_input = layers.Input(shape=(1,),dtype=tf.string,name='char_input')\n",
        "x = char_vectorizer(char_input)\n",
        "x = embedding_char(x)\n",
        "char_output = layers.Bidirectional(layers.LSTM(24))(x)\n",
        "\n",
        "char_model = tf.keras.Model(char_input,char_output)\n",
        "\n",
        "#2.Setup token iput model with Tensorflow hub feature vector\n",
        "token_input = layers.Input(shape=(1,),dtype=tf.string,name='token_input')\n",
        "y = text_vectorizer(token_input)\n",
        "y = embedding(y)\n",
        "y = layers.Conv1D(64,3,activation='relu',padding='same')(y)\n",
        "y = layers.Conv1D(64,3,activation='relu',padding='same')(y)\n",
        "y = layers.GlobalAveragePooling1D()(y)\n",
        "token_output = layers.Dense(128,activation='relu')(y)\n",
        "token_model = tf.keras.Model(token_input,token_output)\n",
        "\n",
        "concat1 = layers.Concatenate(name='token_char_hybrid')([char_model.output,token_model.output])\n",
        "concat1 = layers.Dense(256,activation='relu')(concat1)\n",
        "concat1 = layers.Dropout(0.5)(concat1)\n",
        "\n",
        "#Creating line number feature model\n",
        "line_number_input = layers.Input(shape=(15,),dtype=tf.float32,name='line_number_input')\n",
        "z = layers.Dense(32,activation='relu')(line_number_input)\n",
        "z = layers.Dense(64,activation='relu')(z)\n",
        "line_number_output = layers.Dense(32,activation='relu')(z)\n",
        "line_number_model = tf.keras.Model(line_number_input,line_number_output)\n",
        "\n",
        "#creating total lines feature model\n",
        "total_lines_input = layers.Input(shape=(20,),dtype=tf.float32,name='total_lines_input')\n",
        "w = layers.Dense(32,activation='relu')(total_lines_input)\n",
        "w = layers.Dense(64,activation='relu')(w)\n",
        "total_lines_output = layers.Dense(32,activation='relu')(w)\n",
        "total_lines_model = tf.keras.Model(total_lines_input,total_lines_output)\n",
        "\n",
        "#Concat line number + total lines + concat1\n",
        "concat2 = layers.Concatenate(name='token_char_lineno_totallines_hybrid')([line_number_model.output,total_lines_model.output,concat1 ])\n",
        "\n",
        "#creating output layers\n",
        "v = layers.Dense(128,activation='relu')(concat2)\n",
        "v = layers.Dropout(0.5)(v)\n",
        "outputs = layers.Dense(5,activation='softmax')(v)\n",
        "\n",
        "model_5 = tf.keras.Model([line_number_model.input,\n",
        "                          total_lines_model.input,\n",
        "                          char_model.input,\n",
        "                          token_model.input],\n",
        "                         outputs)"
      ],
      "execution_count": 102,
      "outputs": []
    },
    {
      "cell_type": "code",
      "metadata": {
        "id": "lb3ewWAQlcsI",
        "outputId": "84ebd3a6-3af3-4999-c696-b3c72a4e7968",
        "colab": {
          "base_uri": "https://localhost:8080/",
          "height": 468
        }
      },
      "source": [
        "from tensorflow.keras.utils import plot_model\n",
        "plot_model(model_5,show_shapes=True)"
      ],
      "execution_count": 103,
      "outputs": [
        {
          "output_type": "execute_result",
          "data": {
            "image/png": "[encoded data removed]",
            "text/plain": [
              "<IPython.core.display.Image object>"
            ]
          },
          "metadata": {
            "tags": []
          },
          "execution_count": 103
        }
      ]
    },
    {
      "cell_type": "code",
      "metadata": {
        "id": "eSNKYdQ8lc2l"
      },
      "source": [
        "model_5.compile(optimizer=tf.keras.optimizers.Adam(),\n",
        "                loss=tf.keras.losses.CategoricalCrossentropy(label_smoothing=0.2),\n",
        "                metrics = ['accuracy'])"
      ],
      "execution_count": 104,
      "outputs": []
    },
    {
      "cell_type": "code",
      "metadata": {
        "id": "LSfgfMb7iLyT"
      },
      "source": [
        "# Combining token data and char data into a dataset\n",
        "train_tribrid_data = tf.data.Dataset.from_tensor_slices((train_line_number_one_hot,train_total_lines_one_hot,train_chars,train_text))\n",
        "train_tribrid_label = tf.data.Dataset.from_tensor_slices(train_target)\n",
        "train_tribrid_dataset = tf.data.Dataset.zip((train_tribrid_data,train_tribrid_label))\n",
        "#Batch and prefetch\n",
        "train_tribrid_dataset = train_tribrid_dataset.batch(32).prefetch(tf.data.AUTOTUNE)\n"
      ],
      "execution_count": 105,
      "outputs": []
    },
    {
      "cell_type": "code",
      "metadata": {
        "id": "ytDlwB010Mhg"
      },
      "source": [
        "# Combining token data and char data into a valid dataset\n",
        "val_tribrid_data = tf.data.Dataset.from_tensor_slices((val_line_number_one_hot,val_total_lines_one_hot,val_chars,val_text))\n",
        "val_tribrid_label = tf.data.Dataset.from_tensor_slices(val_target)\n",
        "val_tribrid_dataset = tf.data.Dataset.zip((val_tribrid_data,val_tribrid_label))\n",
        "#Batch and prefetch\n",
        "val_tribrid_dataset = val_tribrid_dataset.batch(32).prefetch(tf.data.AUTOTUNE)\n"
      ],
      "execution_count": 106,
      "outputs": []
    },
    {
      "cell_type": "code",
      "metadata": {
        "id": "xU3GyUYO0Msj",
        "outputId": "70c4c265-1d81-4f03-fb14-fec7cd928b47",
        "colab": {
          "base_uri": "https://localhost:8080/"
        }
      },
      "source": [
        "history_5  = model_5.fit(train_tribrid_dataset,epochs=5,\n",
        "                         steps_per_epoch = int(0.1*len(train_tribrid_dataset)), #Reducing the train data for faster evaluation\n",
        "                         validation_data = val_tribrid_dataset,\n",
        "                         validation_steps = int(0.1*len(val_tribrid_dataset)) #Only validate on 10% valid data\n",
        "                         )"
      ],
      "execution_count": 107,
      "outputs": [
        {
          "output_type": "stream",
          "text": [
            "Epoch 1/5\n",
            "562/562 [==============================] - 110s 180ms/step - loss: 1.0076 - accuracy: 0.7816 - val_loss: 0.9137 - val_accuracy: 0.8364\n",
            "Epoch 2/5\n",
            "562/562 [==============================] - 99s 175ms/step - loss: 0.8929 - accuracy: 0.8694 - val_loss: 0.8885 - val_accuracy: 0.8451\n",
            "Epoch 3/5\n",
            "562/562 [==============================] - 96s 170ms/step - loss: 0.8788 - accuracy: 0.8738 - val_loss: 0.8781 - val_accuracy: 0.8541\n",
            "Epoch 4/5\n",
            "562/562 [==============================] - 100s 179ms/step - loss: 0.9080 - accuracy: 0.8549 - val_loss: 0.8713 - val_accuracy: 0.8607\n",
            "Epoch 5/5\n",
            "562/562 [==============================] - 95s 169ms/step - loss: 0.9035 - accuracy: 0.8612 - val_loss: 0.8658 - val_accuracy: 0.8753\n"
          ],
          "name": "stdout"
        }
      ]
    },
    {
      "cell_type": "code",
      "metadata": {
        "id": "Gp24K1c50M2s",
        "outputId": "80b4ea2d-feb4-44f5-a9ab-d9b93500dfe1",
        "colab": {
          "base_uri": "https://localhost:8080/"
        }
      },
      "source": [
        "model_5_pred_probs = model_5.predict(val_tribrid_dataset)\n",
        "model_5_pred = tf.argmax(model_5_pred_probs,axis=1)\n",
        "model_5_pred[:10]"
      ],
      "execution_count": 108,
      "outputs": [
        {
          "output_type": "execute_result",
          "data": {
            "text/plain": [
              "<tf.Tensor: shape=(10,), dtype=int64, numpy=array([0, 0, 3, 2, 2, 4, 4, 4, 4, 1])>"
            ]
          },
          "metadata": {
            "tags": []
          },
          "execution_count": 108
        }
      ]
    },
    {
      "cell_type": "code",
      "metadata": {
        "id": "CDWHqpz80M7G",
        "outputId": "739a481e-d286-416e-801f-1ea7983d5d23",
        "colab": {
          "base_uri": "https://localhost:8080/"
        }
      },
      "source": [
        "calculate_results(val_target1,model_5_pred)"
      ],
      "execution_count": 109,
      "outputs": [
        {
          "output_type": "execute_result",
          "data": {
            "text/plain": [
              "{'Accuracy': 86.7999470409109,\n",
              " 'F1_score': 0.8645879488413569,\n",
              " 'Precision': 0.8761202759369372,\n",
              " 'Recall': 0.867999470409109}"
            ]
          },
          "metadata": {
            "tags": []
          },
          "execution_count": 109
        }
      ]
    }
  ]
}